{
 "cells": [
  {
   "cell_type": "code",
   "id": "initial_id",
   "metadata": {
    "collapsed": true,
    "ExecuteTime": {
     "end_time": "2025-05-12T09:45:54.436271Z",
     "start_time": "2025-05-12T09:45:54.433245Z"
    }
   },
   "source": [
    "import numpy as np\n",
    "import pandas as pd\n",
    "import os\n",
    "from scipy.stats import spearmanr\n",
    "from matplotlib import pyplot as plt\n",
    "from scipy.signal import medfilt"
   ],
   "outputs": [],
   "execution_count": 46
  },
  {
   "metadata": {
    "ExecuteTime": {
     "end_time": "2025-05-12T09:45:54.480464Z",
     "start_time": "2025-05-12T09:45:54.478344Z"
    }
   },
   "cell_type": "code",
   "source": [
    "var = \"current_speed\" #Choose \"wind_speed\", \"current_speed\", \"combined_wave_index\", \"total_precipitation\", \"wave_height\", \"wave_period\"\n",
    "PSD_dir = \"../../../../data/test_correlation/data_mahy\"\n",
    "variable_dir = f\"../../../../data/test_correlation/data_soundscape/{var}\"\n",
    "#%matplotlib qt"
   ],
   "id": "b6889e8c70792968",
   "outputs": [],
   "execution_count": 47
  },
  {
   "metadata": {
    "ExecuteTime": {
     "end_time": "2025-05-12T09:45:54.554586Z",
     "start_time": "2025-05-12T09:45:54.552406Z"
    }
   },
   "cell_type": "code",
   "source": [
    "# Name and unit catalog for each variable\n",
    "var_info = {\n",
    "    \"wind_speed\": (\"Wind speed\", \"m/s\"),\n",
    "    \"current_speed\": (\"Current speed\", \"m/s\"),\n",
    "    \"combined_wave_index\": (\"Combined wave index\", \"m/s\"),\n",
    "    \"total_precipitation\": (\"Total precipitation\", \"m\"),\n",
    "    \"wave_height\": (\"Wave height\", \"m\"),\n",
    "    \"wave_period\": (\"Wave period\", \"s\"),\n",
    "}\n",
    "var_name, unit = var_info.get(var, (\"Unknown variable\", \"\"))"
   ],
   "id": "55083ed3a09bb905",
   "outputs": [],
   "execution_count": 48
  },
  {
   "metadata": {
    "ExecuteTime": {
     "end_time": "2025-05-12T09:45:54.606242Z",
     "start_time": "2025-05-12T09:45:54.603711Z"
    }
   },
   "cell_type": "code",
   "source": [
    "# select the stations you want to plot. /!\\ You can only choose stations for one hydrophone\n",
    "selected_stations = [\"MAHY01\",\n",
    "                     \"MAHY11\",\n",
    "                     \"MAHY21\",\n",
    "                     \"MAHY31\",\n",
    "                     \"MAHY41\"\n",
    "                     ]\n",
    "\n",
    "hydrophone_number = [station[-1] for station in selected_stations]\n",
    "# check that only one hydrophone is chosen\n",
    "if len(set(hydrophone_number))>1:\n",
    "    raise ValueError(\"You have selected more than one hydrophone\")\n",
    "else:\n",
    "    print(f\"Hydrophone n°{hydrophone_number[0]} selected\")"
   ],
   "id": "bfdd3273340b356e",
   "outputs": [
    {
     "name": "stdout",
     "output_type": "stream",
     "text": [
      "Hydrophone n°1 selected\n"
     ]
    }
   ],
   "execution_count": 49
  },
  {
   "metadata": {
    "ExecuteTime": {
     "end_time": "2025-05-12T09:45:58.710278Z",
     "start_time": "2025-05-12T09:45:54.654899Z"
    }
   },
   "cell_type": "code",
   "source": [
    "# load the PSD data\n",
    "psds_all = []\n",
    "for station in selected_stations:\n",
    "    psd_path = os.path.join(PSD_dir, f\"{station}.pkl\")\n",
    "    psds_all.append(pd.read_pickle(psd_path))\n",
    "# concatenate psds\n",
    "psd_df = pd.concat(psds_all).sort_index()\n",
    "\n",
    "# load the variable data\n",
    "variable_path = os.path.join(variable_dir, f\"h{hydrophone_number[0]}.pkl\")\n",
    "variable_df = pd.read_pickle(variable_path)\n",
    "\n",
    "# keep lines of variable_df only if their date is in psd_df\n",
    "variable_df = variable_df[variable_df.index.isin(psd_df.index)]\n",
    "\n",
    "if var == \"current_speed\":\n",
    "    # rolling median (== median filter) on a 24h time window\n",
    "    rolling_median = psd_df.rolling(window=\"24h\", center=True).median()\n",
    "    # keep only the values matching the variable\n",
    "    psd_df = rolling_median[rolling_median.index.isin(variable_df.index)]"
   ],
   "id": "1151e44bcb9e10c",
   "outputs": [],
   "execution_count": 50
  },
  {
   "metadata": {
    "ExecuteTime": {
     "end_time": "2025-05-12T09:45:58.824063Z",
     "start_time": "2025-05-12T09:45:58.760492Z"
    }
   },
   "cell_type": "code",
   "source": [
    "if var == \"current_speed\":\n",
    "    full_index = pd.date_range(start=psd_df.index.min(), end=psd_df.index.max(), freq=pd.Timedelta(\"24h\"))\n",
    "else:\n",
    "    full_index = pd.date_range(start=psd_df.index.min(), end=psd_df.index.max(), freq=pd.Timedelta(\"1h\"))\n",
    "\n",
    "psd_reindexed = psd_df.reindex(full_index)\n",
    "variable_reindexed = variable_df.reindex(full_index)\n",
    "\n",
    "time_numeric = [t.timestamp() for t in full_index]\n",
    "\n",
    "fig, ax1 = plt.subplots(figsize=(16, 10))\n",
    "ax2 = ax1.twinx()\n",
    "\n",
    "sp = ax1.imshow(\n",
    "    10*np.log10(psd_reindexed.T + 1e-12),\n",
    "    aspect=\"auto\",\n",
    "    origin=\"lower\",\n",
    "    cmap=\"viridis\",\n",
    "    extent=(time_numeric[0], time_numeric[-1], psd_df.columns[0], psd_df.columns[-1]),\n",
    "    vmin=10, vmax=95\n",
    ")\n",
    "\n",
    "ax2.plot(\n",
    "    time_numeric,\n",
    "    variable_reindexed[\"values\"].values,\n",
    "    color=\"red\",\n",
    "    alpha=0.6\n",
    ")\n",
    "\n",
    "tick_locs = time_numeric[::max(1, len(time_numeric)//10)]\n",
    "tick_labels = [t.strftime(\"%Y-%m-%d\\n%H:%M\") for t in full_index[::max(1, len(full_index)//10)]]\n",
    "ax1.set_xticks(tick_locs)\n",
    "ax1.set_xticklabels(tick_labels)\n",
    "ax2.set_ylim(bottom=0)\n",
    "\n",
    "\n",
    "ax1.set_xlabel(\"Time\")\n",
    "ax1.set_ylabel(\"Frequency (Hz)\")\n",
    "ax2.set_ylabel(f\"{var_name} ({unit})\")\n",
    "ax1.set_title(f\"{var_name} overlaid on the spectrogram\")"
   ],
   "id": "a957a4016bc6b3dd",
   "outputs": [
    {
     "data": {
      "text/plain": [
       "Text(0.5, 1.0, 'Current speed overlaid on the spectrogram')"
      ]
     },
     "execution_count": 51,
     "metadata": {},
     "output_type": "execute_result"
    }
   ],
   "execution_count": 51
  },
  {
   "metadata": {
    "ExecuteTime": {
     "end_time": "2025-05-12T09:47:17.469815Z",
     "start_time": "2025-05-12T09:47:17.194753Z"
    }
   },
   "cell_type": "code",
   "source": [
    "# With Pearson's correlation\n",
    "# Align common dates\n",
    "common_index = psd_df.index.intersection(variable_df.index)\n",
    "psd_aligned = psd_df.loc[common_index]\n",
    "variable_aligned = variable_df.loc[common_index][\"values\"]\n",
    "\n",
    "correlations = []\n",
    "\n",
    "for freq in psd_aligned.columns:\n",
    "    amplitude = psd_aligned[freq]\n",
    "    amplitude_filt = medfilt(amplitude, kernel_size=51)\n",
    "    #NaN filter\n",
    "    mask = (~np.isnan(amplitude_filt)) & (~np.isnan(variable_aligned))\n",
    "    if mask.sum() > 2:\n",
    "        corr = np.corrcoef(amplitude_filt[mask], variable_aligned[mask])[0,1]\n",
    "    else:\n",
    "        corr = np.nan\n",
    "    correlations.append(corr)\n",
    "\n",
    "frequencies = psd_aligned.columns"
   ],
   "id": "f79e70603cb52239",
   "outputs": [],
   "execution_count": 62
  },
  {
   "metadata": {
    "ExecuteTime": {
     "end_time": "2025-05-12T09:47:18.695895Z",
     "start_time": "2025-05-12T09:47:18.655918Z"
    }
   },
   "cell_type": "code",
   "source": [
    "# Plot\n",
    "plt.figure(figsize=(16,10))\n",
    "plt.plot(frequencies, correlations, color=\"steelblue\")\n",
    "plt.xlabel(\"Frequency (Hz)\")\n",
    "plt.ylabel(\"Pearson correlation coefficient\")\n",
    "plt.title(f\"Correlations between PSD median amplitude and {var_name}\")\n",
    "\n",
    "plt.tight_layout()\n",
    "plt.show()\n",
    "%matplotlib qt"
   ],
   "id": "ff6dc232ee7557bb",
   "outputs": [],
   "execution_count": 63
  },
  {
   "metadata": {
    "ExecuteTime": {
     "end_time": "2025-05-12T09:47:21.456648Z",
     "start_time": "2025-05-12T09:47:20.969650Z"
    }
   },
   "cell_type": "code",
   "source": [
    "# With Spearman's rank correlation\n",
    "# Align common dates\n",
    "common_index = psd_df.index.intersection(variable_df.index)\n",
    "psd_aligned = psd_df.loc[common_index]\n",
    "variable_aligned = variable_df.loc[common_index][\"values\"]\n",
    "\n",
    "correlations = []\n",
    "\n",
    "for freq in psd_aligned.columns:\n",
    "    amplitude = psd_aligned[freq]\n",
    "    amplitude_filt = medfilt(amplitude, kernel_size=51)\n",
    "    #NaN filter\n",
    "    mask = (~np.isnan(amplitude_filt)) & (~np.isnan(variable_aligned))\n",
    "    if mask.sum() > 2:\n",
    "        corr,_ = spearmanr(amplitude_filt[mask], variable_aligned[mask])\n",
    "    else:\n",
    "        corr = np.nan\n",
    "    correlations.append(corr)\n",
    "\n",
    "frequencies = psd_aligned.columns"
   ],
   "id": "3f47e4b8f8eec4a6",
   "outputs": [],
   "execution_count": 64
  },
  {
   "metadata": {
    "ExecuteTime": {
     "end_time": "2025-05-12T09:47:22.724815Z",
     "start_time": "2025-05-12T09:47:22.686476Z"
    }
   },
   "cell_type": "code",
   "source": [
    "# Plot\n",
    "plt.figure(figsize=(16,10))\n",
    "plt.plot(frequencies, correlations, color=\"steelblue\")\n",
    "plt.xlabel(\"Frequency (Hz)\")\n",
    "plt.ylabel(\"Spearman's Rank correlation coefficient\")\n",
    "plt.title(f\"Correlations between PSD median amplitude and {var_name}\")\n",
    "\n",
    "plt.tight_layout()\n",
    "plt.show()"
   ],
   "id": "3b647ab5dc6a19bf",
   "outputs": [],
   "execution_count": 65
  }
 ],
 "metadata": {
  "kernelspec": {
   "display_name": "Python 3",
   "language": "python",
   "name": "python3"
  },
  "language_info": {
   "codemirror_mode": {
    "name": "ipython",
    "version": 2
   },
   "file_extension": ".py",
   "mimetype": "text/x-python",
   "name": "python",
   "nbconvert_exporter": "python",
   "pygments_lexer": "ipython2",
   "version": "2.7.6"
  }
 },
 "nbformat": 4,
 "nbformat_minor": 5
}
