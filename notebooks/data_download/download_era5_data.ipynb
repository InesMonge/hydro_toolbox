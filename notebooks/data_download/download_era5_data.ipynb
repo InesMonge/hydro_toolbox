{
 "cells": [
  {
   "cell_type": "code",
   "metadata": {
    "id": "BfFsr-Kdrn5E",
    "ExecuteTime": {
     "end_time": "2025-06-19T14:41:10.800751Z",
     "start_time": "2025-06-19T14:41:10.159692Z"
    }
   },
   "source": [
    "import os, sys\n",
    "from netCDF4 import Dataset\n",
    "import numpy as np\n",
    "import zipfile \n",
    "import plotly.express as px\n",
    "#import xarray as xr\n",
    "sys.path.append('../../../../../Biologging_Toolkit/src/')\n",
    "from Biologging_Toolkit.auxiliary import Api_ERA\n",
    "from Biologging_Toolkit.utils import *\n",
    "from collections import defaultdict\n",
    "from glob import glob\n",
    "from utils.data_reading.sound_data.station import StationsCatalog\n",
    "import netCDF4 as nc\n",
    "import numpy as np\n",
    "import os\n",
    "import pandas as pd\n",
    "import re\n",
    "import xarray as xr"
   ],
   "outputs": [
    {
     "name": "stdout",
     "output_type": "stream",
     "text": [
      "/home/imonge/PycharmProjects/PythonProject/toolbox/src/notebooks/others/../../../../../Biologging_Toolkit/src/Biologging_Toolkit\n"
     ]
    }
   ],
   "execution_count": 1
  },
  {
   "cell_type": "code",
   "metadata": {
    "id": "qqBnRqMarn5N"
   },
   "source": [
    "# This notebook must have the notebook \"Biologging_Toolkit\" as Source Root (https://github.com/gmanatole/Biologging_Toolkit.git)\n",
    "# Initialisation\n",
    "personal_access_token = 'a0...f6' # Personal access is the API Token that can be found in your personal profile when logging in to copernicus.eu website\n",
    "path = '/toolbox/data/test_correlation/ERA5_data_temp'  # Path for the downloaded data from ERA5\n",
    "\n",
    "# Choice of the ERA5 data\n",
    "variables = ['sea_surface_temperature']\n",
    "years = ['2020','2021','2022', '2023', '2024']\n",
    "months = 'all'\n",
    "days = 'all'\n",
    "hours = 'all'"
   ],
   "outputs": [],
   "execution_count": null
  },
  {
   "metadata": {},
   "cell_type": "code",
   "source": [
    "catalog_path = \"/media/imonge/CORSAIR\" # Path of the hardware with MAHY data to retrieve the geographic coordinates of the hydrophones\n",
    "\n",
    "# Dowloading ERA5 data by 6-month period format NetCDF (data is too large to be downloaded for more than 6 months at a time)\n",
    "Api_ERA.make_cds_file(personal_access_token, path)\n",
    "stations = StationsCatalog(catalog_path).by_dataset(\"MAHY0\")  # on ne va chercher que MAHY00,01,02 et 04 (télécharger les données pour MAHY1*, 2*, 3* ou 4* serait redondant car les stations ont peu bougé)\n",
    "# selected_stations = [s for s in stations if s.name ==\"MAHY04\"] # If you need to select a given hydrophone\n",
    "\n",
    "# Retrieve station boundaries\n",
    "for station in stations:\n",
    "    lat = station.get_pos()[0]\n",
    "    lon = station.get_pos()[1]\n",
    "    south_boundary = lat-0.01\n",
    "    north_boundary = lat+0.01\n",
    "    west_boundary = lon-0.01\n",
    "    east_boundary = lon+0.01\n",
    "\n",
    "    filename_base = station.name\n",
    "\n",
    "# 6-month loop\n",
    "    for year in years:\n",
    "        for start_month in [1,7]:\n",
    "            if start_month ==1:\n",
    "                months = [1,2,3,4,5,6]\n",
    "            else:\n",
    "                months = [7,8,9,10,11,12]\n",
    "\n",
    "            filename = f\"{filename_base}_{year}_{start_month:02d}\"\n",
    "            full_path = os.path.join(path, filename + \"nc\")\n",
    "\n",
    "            if os.path.exists(full_path):\n",
    "                print(f\"Déja téléchargé : {filename}\")\n",
    "                continue\n",
    "\n",
    "            print(f\"Téléchargement : {filename} | Année : {year} | Mois : {months}\")\n",
    "\n",
    "            Api_ERA.return_cdsbeta(filename, variables, [year], months, days, hours, [north_boundary, west_boundary, south_boundary, east_boundary])"
   ],
   "outputs": [],
   "execution_count": null
  },
  {
   "metadata": {
    "ExecuteTime": {
     "end_time": "2025-05-13T13:52:33.861819Z",
     "start_time": "2025-05-13T13:52:33.182052Z"
    }
   },
   "cell_type": "code",
   "source": [
    "base_dir_nc = \"/toolbox/data/test_correlation/ERA5_data_temp\"  # Path of the directory containing the NetCDF data\n",
    "output_dir_nc = \"/home/imonge/PycharmProjects/PythonProject/toolbox/data/test_correlation/ERA5_concat\"  # Path of the directory for the concatenated NetCDF data\n",
    "\n",
    "# Concatenation of NetCDF files\n",
    "file_map = {\n",
    "    \"temperature\": \"data_stream-oper_stepType-instant.nc\"\n",
    "    # \"waves\": \"data_stream-wave_stepType-instant.nc\",\n",
    "    # \"wind\": \"data_stream-oper_stepType-instant.nc\",\n",
    "    # \"rain\": \"data_stream-oper_stepType-accum.nc\"\n",
    "}\n",
    "\n",
    "# Finding files with type MAHYxx_YYYY_MM\n",
    "all_dirs = [d for d in os.listdir(base_dir_nc) if os.path.isdir(os.path.join(base_dir_nc, d))]\n",
    "hydrophones_found = set()\n",
    "\n",
    "# Extracting station id (MAHY01, MAHY02 ...)\n",
    "pattern = re.compile(r\"^(MAHY\\d{2})_\\d{4}_\\d{2}$\")\n",
    "\n",
    "for dirname in all_dirs:\n",
    "    match = pattern.match(dirname)\n",
    "    if match:\n",
    "        hydrophones_found.add(match.group(1))\n",
    "\n",
    "hydrophones_sorted = sorted(hydrophones_found)\n",
    "print(f\"Detected hydrophones : {hydrophones_sorted}\")\n",
    "\n",
    "# Storing concatenated datasets\n",
    "datasets_by_hydrophone = defaultdict(dict)\n",
    "\n",
    "# For each hydrophone, concatenate wave, wind, rain\n",
    "for hydrophone in hydrophones_sorted:\n",
    "    for data_type, filename in file_map.items():\n",
    "        pattern = os.path.join(base_dir_nc, f\"{hydrophone}_*\", filename)\n",
    "        files = sorted(glob(pattern))\n",
    "\n",
    "        if not files:\n",
    "            print(f\"No files found in {data_type} for {hydrophone}\")\n",
    "            continue\n",
    "\n",
    "        try:\n",
    "            ds = xr.open_mfdataset(files, combine=\"by_coords\")\n",
    "            datasets_by_hydrophone[hydrophone][data_type] = ds\n",
    "            print(f\"{data_type} : {len(files)} fichiers concatenated\")\n",
    "        except Exception as e:\n",
    "            print(f\"Error concatenation {data_type} for {hydrophone} : {e}\")\n",
    "\n",
    "# Merge and save concatenated files\n",
    "for hydrophone, data_dict in datasets_by_hydrophone.items():\n",
    "    if not data_dict:\n",
    "        continue\n",
    "\n",
    "    for data_type, ds in data_dict.items():\n",
    "\n",
    "        try:\n",
    "            output_filename = f\"ERA5_*_{data_type}_merged.nc\"\n",
    "            output_path = os.path.join(output_dir_nc, output_filename)\n",
    "            ds.to_netcdf(output_path)\n",
    "            print(f\"Merging saved : {output_path}\")\n",
    "        except Exception as e:\n",
    "            print(f\"Merging failed for  {hydrophone} :{e}\")"
   ],
   "outputs": [
    {
     "name": "stdout",
     "output_type": "stream",
     "text": [
      "Detected hydrophones : ['MAHY01', 'MAHY02', 'MAHY03', 'MAHY04']\n",
      "temperature : 10 fichiers concatenated\n",
      "temperature : 10 fichiers concatenated\n",
      "temperature : 10 fichiers concatenated\n",
      "temperature : 10 fichiers concatenated\n",
      "Merging saved : /home/imonge/PycharmProjects/PythonProject/toolbox/data/test_correlation/ERA5_concat/ERA5_MAHY01_temperature_merged.nc\n",
      "Merging saved : /home/imonge/PycharmProjects/PythonProject/toolbox/data/test_correlation/ERA5_concat/ERA5_MAHY02_temperature_merged.nc\n",
      "Merging saved : /home/imonge/PycharmProjects/PythonProject/toolbox/data/test_correlation/ERA5_concat/ERA5_MAHY03_temperature_merged.nc\n",
      "Merging saved : /home/imonge/PycharmProjects/PythonProject/toolbox/data/test_correlation/ERA5_concat/ERA5_MAHY04_temperature_merged.nc\n"
     ]
    }
   ],
   "execution_count": 6
  },
  {
   "metadata": {},
   "cell_type": "code",
   "source": [
    "# Saving NetCDF files with format\n",
    "base_dir_csv = output_dir_nc # Path of the directory with the concatenated NetCDF data\n",
    "output_dir_csv = os.path.join(base_dir_csv, \"csv_outputs\") # Path of the directory for the concatenated csv files\n",
    "os.makedirs(output_dir_csv, exist_ok=True)\n",
    "\n",
    "# Variables à extraire selon le type\n",
    "var_map = {\n",
    "    # \"waves\": [\"mwp\", \"swh\"],\n",
    "    # \"wind\": [\"u10\", \"v10\"],\n",
    "    # \"rain\": [\"tp\"]\n",
    "}\n",
    "\n",
    "for file in os.listdir(base_dir_csv):\n",
    "    if not file.endswith(\".nc\"):\n",
    "        continue\n",
    "\n",
    "    for dtype in var_map:\n",
    "        if f\"_{dtype}_\" in file:\n",
    "            file_path = os.path.join(base_dir_csv, file)\n",
    "            data = nc.Dataset(file_path)\n",
    "\n",
    "            # Extraction des variables\n",
    "            try:\n",
    "                variables = var_map[dtype]\n",
    "                df_data = {}\n",
    "                for var in variables:\n",
    "                    df_data[var] = np.array(data.variables[var])[:, 0, 0]\n",
    "\n",
    "                # Gérer les timestamps\n",
    "                dates = np.array(data.variables[\"valid_time\"])\n",
    "                datetime_index = pd.to_datetime(dates, unit='s')\n",
    "\n",
    "                # Création du dataframe\n",
    "                df = pd.DataFrame(df_data, index=datetime_index)\n",
    "                df.index.name = 'date'\n",
    "\n",
    "                # Définir nom de sortie\n",
    "                csv_name = file.replace(\".nc\", \".csv\")\n",
    "                output_path = os.path.join(output_dir_csv, csv_name)\n",
    "\n",
    "                # Sauvegarde\n",
    "                df.to_csv(output_path)\n",
    "                print(f\"csv généré : {output_path}\")\n",
    "\n",
    "            except Exception as e:\n",
    "                print(f\"Erreur traitepent {file} :{e}\")"
   ],
   "outputs": [],
   "execution_count": null
  }
 ],
 "metadata": {
  "celltoolbar": "Tags",
  "colab": {
   "provenance": []
  },
  "kernelspec": {
   "display_name": "Python 3 (ipykernel)",
   "language": "python",
   "name": "python3"
  },
  "language_info": {
   "codemirror_mode": {
    "name": "ipython",
    "version": 3
   },
   "file_extension": ".py",
   "mimetype": "text/x-python",
   "name": "python",
   "nbconvert_exporter": "python",
   "pygments_lexer": "ipython3",
   "version": "3.12.3"
  }
 },
 "nbformat": 4,
 "nbformat_minor": 4
}
