{
 "cells": [
  {
   "cell_type": "code",
   "id": "initial_id",
   "metadata": {
    "collapsed": true,
    "ExecuteTime": {
     "end_time": "2025-07-10T12:44:50.375718Z",
     "start_time": "2025-07-10T12:44:50.373509Z"
    }
   },
   "source": [
    "import numpy as np\n",
    "import pandas as pd\n",
    "import os\n",
    "import pickle\n",
    "from scipy.stats import spearmanr\n",
    "from scipy.signal import medfilt"
   ],
   "outputs": [],
   "execution_count": 182
  },
  {
   "metadata": {
    "ExecuteTime": {
     "end_time": "2025-07-10T12:44:50.448322Z",
     "start_time": "2025-07-10T12:44:50.446339Z"
    }
   },
   "cell_type": "code",
   "source": [
    "var = \"wind_speed\" #Choose \"wind_speed\", \"current_speed\", \"total_precipitation\", \"wave_height\", \"wave_period\"\n",
    "PSD_dir = \"../../../../data/test_correlation/data_mahy\"\n",
    "variable_dir = f\"../../../../data/test_correlation/data_soundscape/{var}\"\n",
    "#%matplotlib qt"
   ],
   "id": "b6889e8c70792968",
   "outputs": [],
   "execution_count": 183
  },
  {
   "metadata": {
    "ExecuteTime": {
     "end_time": "2025-07-10T12:44:50.521357Z",
     "start_time": "2025-07-10T12:44:50.519364Z"
    }
   },
   "cell_type": "code",
   "source": [
    "# Name and unit catalog for each variable\n",
    "var_info = {\n",
    "    \"wind_speed\": (\"Wind speed\", \"m/s\"),\n",
    "    \"current_speed\": (\"Current speed\", \"m/s\"),\n",
    "    \"total_precipitation\": (\"Total precipitation\", \"m\"),\n",
    "    \"wave_height\": (\"Wave height\", \"m\"),\n",
    "    \"wave_period\": (\"Wave period\", \"s\"),\n",
    "\n",
    "}\n",
    "var_name, unit = var_info.get(var, (\"Unknown variable\", \"\"))\n"
   ],
   "id": "55083ed3a09bb905",
   "outputs": [],
   "execution_count": 184
  },
  {
   "metadata": {
    "ExecuteTime": {
     "end_time": "2025-07-10T12:44:50.571504Z",
     "start_time": "2025-07-10T12:44:50.569187Z"
    }
   },
   "cell_type": "code",
   "source": [
    "# select the stations you want to plot. /!\\ You can only choose stations for one hydrophone\n",
    "selected_stations = [\"MAHY01\",\n",
    "                     \"MAHY11\",\n",
    "                     \"MAHY21\",\n",
    "                     \"MAHY31\",\n",
    "                     \"MAHY41\"\n",
    "                     ]\n",
    "\n",
    "hydrophone_number = [station[-1] for station in selected_stations]\n",
    "# check that only one hydrophone is chosen\n",
    "if len(set(hydrophone_number))>1:\n",
    "    raise ValueError(\"You have selected more than one hydrophone\")\n",
    "else:\n",
    "    print(f\"Hydrophone n°{hydrophone_number[0]} selected\")"
   ],
   "id": "bfdd3273340b356e",
   "outputs": [
    {
     "name": "stdout",
     "output_type": "stream",
     "text": [
      "Hydrophone n°4 selected\n"
     ]
    }
   ],
   "execution_count": 185
  },
  {
   "metadata": {
    "ExecuteTime": {
     "end_time": "2025-07-10T12:44:50.697822Z",
     "start_time": "2025-07-10T12:44:50.622666Z"
    }
   },
   "cell_type": "code",
   "source": [
    "# Load the PSD data\n",
    "psds_all = []\n",
    "for station in selected_stations:\n",
    "    psd_path = os.path.join(PSD_dir, f\"{station}.pkl\")\n",
    "    psds_all.append(pd.read_pickle(psd_path))\n",
    "# Concatenate psds\n",
    "psd_df = pd.concat(psds_all).sort_index()\n",
    "\n",
    "# Change 0 to NaN\n",
    "psd_df.replace(0, np.nan, inplace=True)\n",
    "\n",
    "# Load the variable data\n",
    "variable_path = os.path.join(variable_dir, f\"h{hydrophone_number[0]}.pkl\")\n",
    "variable_df = pd.read_pickle(variable_path)\n",
    "\n",
    "# Keep lines of variable_df only if their date is in psd_df\n",
    "variable_df = variable_df[variable_df.index.isin(psd_df.index)]\n",
    "\n",
    "if var == \"current_speed\":\n",
    "    # rolling median (== median filter) on a 24h time window\n",
    "    rolling_median = psd_df.rolling(window=\"24h\", center=True).median()\n",
    "    # keep only the values matching the variable\n",
    "    psd_df = rolling_median[rolling_median.index.isin(variable_df.index)]"
   ],
   "id": "1151e44bcb9e10c",
   "outputs": [],
   "execution_count": 186
  },
  {
   "metadata": {
    "ExecuteTime": {
     "end_time": "2025-07-10T12:44:50.755238Z",
     "start_time": "2025-07-10T12:44:50.746416Z"
    }
   },
   "cell_type": "code",
   "source": [
    "# Spectrogram\n",
    "if var in[\"wind_speed\", \"combined_wave_index\", \"wave_height\", \"wave_period\"]:\n",
    "    # median daily filter\n",
    "    variable_daily = variable_df[\"values\"].resample(\"D\").median()\n",
    "    title_modifier = \" (daily median)\"\n",
    "elif var == \"total_precipitation\":\n",
    "    # Daily sum\n",
    "    variable_daily = variable_df[\"values\"].resample(\"D\").sum()\n",
    "    title_modifier = \" (daily sum)\"\n",
    "else:\n",
    "    # No change for current speed\n",
    "    variable_daily = variable_df[\"values\"]\n",
    "    title_modifier = \" (depth = 1300 m), daily data\"\n",
    "\n",
    "full_index = pd.date_range(start=variable_daily.index.min(), end=variable_daily.index.max(), freq=\"D\")\n",
    "psd_reindexed = psd_df.reindex(full_index)\n",
    "variable_reindexed = variable_daily.reindex(full_index)\n",
    "\n",
    "# time_numeric = [t.timestamp() for t in full_index]"
   ],
   "id": "a6a538327d9e06f3",
   "outputs": [],
   "execution_count": 187
  },
  {
   "metadata": {
    "ExecuteTime": {
     "end_time": "2025-07-10T12:44:50.828726Z",
     "start_time": "2025-07-10T12:44:50.826917Z"
    }
   },
   "cell_type": "code",
   "source": [
    "# # Spearman's rank correlation\n",
    "# # Align common dates\n",
    "# common_index = psd_df.index.intersection(variable_df.index)\n",
    "# psd_aligned = psd_df.loc[common_index]\n",
    "# variable_aligned = variable_df.loc[common_index][\"values\"]\n",
    "#\n",
    "# correlations = []\n",
    "# amplitude_median = {}\n",
    "#\n",
    "# for freq in psd_aligned.columns:\n",
    "#     amplitude = psd_aligned[freq]\n",
    "#     amplitude_filt = medfilt(amplitude, kernel_size=51)\n",
    "#     amplitude_median[freq] = amplitude_filt\n",
    "#     #NaN filter\n",
    "#     mask = (~np.isnan(amplitude_filt)) & (~np.isnan(variable_aligned))\n",
    "#     if mask.sum() > 2:\n",
    "#         corr,_ = spearmanr(amplitude_filt[mask], variable_aligned[mask])\n",
    "#     else:\n",
    "#         corr = np.nan\n",
    "#     correlations.append(corr)\n",
    "#\n",
    "# frequencies = psd_aligned.columns"
   ],
   "id": "3f47e4b8f8eec4a6",
   "outputs": [],
   "execution_count": 188
  },
  {
   "metadata": {
    "ExecuteTime": {
     "end_time": "2025-07-10T12:44:53.139388Z",
     "start_time": "2025-07-10T12:44:50.872245Z"
    }
   },
   "cell_type": "code",
   "source": [
    "# Spearman's rank correlation\n",
    "# Align common dates\n",
    "common_index = psd_df.index.intersection(variable_df.index)\n",
    "psd_aligned = psd_df.loc[common_index]\n",
    "variable_aligned = variable_df.loc[common_index][\"values\"]\n",
    "\n",
    "correlations = []\n",
    "\n",
    "for freq in psd_aligned.columns:\n",
    "    amplitude = psd_aligned[freq]\n",
    "    amplitude_filt = medfilt(amplitude, kernel_size=5)\n",
    "    #NaN filter\n",
    "    mask = (~np.isnan(amplitude_filt)) & (~np.isnan(variable_aligned))\n",
    "    if mask.sum() > 2:\n",
    "        corr,_ = spearmanr(amplitude_filt[mask], variable_aligned[mask])\n",
    "    else:\n",
    "        corr = np.nan\n",
    "    correlations.append(corr)\n",
    "\n",
    "frequencies = psd_aligned.columns"
   ],
   "id": "b65bd8cd824a442c",
   "outputs": [],
   "execution_count": 189
  },
  {
   "metadata": {
    "ExecuteTime": {
     "end_time": "2025-07-10T12:44:53.185846Z",
     "start_time": "2025-07-10T12:44:53.180958Z"
    }
   },
   "cell_type": "code",
   "source": [
    "# Save spectro and corr data\n",
    "data = {\n",
    "    \"psd\": psd_reindexed,\n",
    "    \"variable\": variable_reindexed,\n",
    "    \"time\": full_index,\n",
    "    \"frequencies\": frequencies,\n",
    "    \"correlations\": correlations,\n",
    "    \"title\": title_modifier,\n",
    "    # \"amplitude\": amplitude_matrix\n",
    "}\n",
    "\n",
    "with open(f\"../../../../data/test_correlation/data_soundscape/spectro_and_corr/{var}-h{hydrophone_number[0]}.pkl\", \"wb\") as f:\n",
    "    pickle.dump(data, f)"
   ],
   "id": "d88d453875857ed2",
   "outputs": [],
   "execution_count": 190
  }
 ],
 "metadata": {
  "kernelspec": {
   "display_name": "Python 3",
   "language": "python",
   "name": "python3"
  },
  "language_info": {
   "codemirror_mode": {
    "name": "ipython",
    "version": 2
   },
   "file_extension": ".py",
   "mimetype": "text/x-python",
   "name": "python",
   "nbconvert_exporter": "python",
   "pygments_lexer": "ipython2",
   "version": "2.7.6"
  }
 },
 "nbformat": 4,
 "nbformat_minor": 5
}
