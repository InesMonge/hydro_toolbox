{
 "cells": [
  {
   "cell_type": "code",
   "id": "initial_id",
   "metadata": {
    "collapsed": true,
    "ExecuteTime": {
     "end_time": "2025-05-06T14:55:27.434463Z",
     "start_time": "2025-05-06T14:55:26.844125Z"
    }
   },
   "source": [
    "import numpy as np\n",
    "import os\n",
    "import pandas as pd\n",
    "import xarray as xr\n",
    "from pathlib import Path\n",
    "from utils.data_reading.sound_data.station import StationsCatalog"
   ],
   "outputs": [],
   "execution_count": 1
  },
  {
   "metadata": {
    "ExecuteTime": {
     "end_time": "2025-05-06T14:55:27.551789Z",
     "start_time": "2025-05-06T14:55:27.506713Z"
    }
   },
   "cell_type": "code",
   "source": [
    "catalog_path = \"/media/imonge/CORSAIR\"\n",
    "ERA5_dir = \"../../../../data/test_correlation/ERA5_concat\"\n",
    "output_dir = \"../../../../data/test_correlation/data_soundscape/total_precipitation\"\n",
    "stations = StationsCatalog(catalog_path)"
   ],
   "id": "ca20b9a7f6f442fc",
   "outputs": [],
   "execution_count": 2
  },
  {
   "metadata": {
    "ExecuteTime": {
     "end_time": "2025-05-06T14:56:01.012845Z",
     "start_time": "2025-05-06T14:56:00.896810Z"
    }
   },
   "cell_type": "code",
   "source": [
    "for station in stations:\n",
    "    hydro_number = station.name[-1]\n",
    "    station_code = f\"h{hydro_number}\"\n",
    "    out_path = os.path.join(output_dir, f\"{station_code}.pkl\")\n",
    "    if Path(out_path).exists():\n",
    "        continue\n",
    "\n",
    "    date_start = station.date_start\n",
    "    date_end = station.date_end\n",
    "\n",
    "    ERA5_input_path = os.path.join(ERA5_dir, f\"ERA5_MAHY*{hydro_number}_rain_merged.nc\")\n",
    "    data = xr.open_dataset(ERA5_input_path)\n",
    "\n",
    "    t = pd.to_datetime(data[\"valid_time\"].values)\n",
    "\n",
    "    precip = np.array(data[\"tp\"]).flatten()\n",
    "\n",
    "    df = pd.DataFrame({'values': precip}, index=t)\n",
    "\n",
    "    df.to_pickle(out_path)"
   ],
   "id": "9ae2bb8480789ed",
   "outputs": [],
   "execution_count": 4
  }
 ],
 "metadata": {
  "kernelspec": {
   "display_name": "Python 3",
   "language": "python",
   "name": "python3"
  },
  "language_info": {
   "codemirror_mode": {
    "name": "ipython",
    "version": 2
   },
   "file_extension": ".py",
   "mimetype": "text/x-python",
   "name": "python",
   "nbconvert_exporter": "python",
   "pygments_lexer": "ipython2",
   "version": "2.7.6"
  }
 },
 "nbformat": 4,
 "nbformat_minor": 5
}
