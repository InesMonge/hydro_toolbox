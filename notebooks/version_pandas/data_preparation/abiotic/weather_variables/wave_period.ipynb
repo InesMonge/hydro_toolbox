{
 "cells": [
  {
   "metadata": {
    "ExecuteTime": {
     "end_time": "2025-05-07T13:19:36.303451Z",
     "start_time": "2025-05-07T13:19:36.300721Z"
    }
   },
   "cell_type": "code",
   "source": [
    "import numpy as np\n",
    "import os\n",
    "import pandas as pd\n",
    "import xarray as xr\n",
    "from pathlib import Path\n",
    "from utils.data_reading.sound_data.station import StationsCatalog"
   ],
   "id": "87d5440f7dcb9f9e",
   "outputs": [],
   "execution_count": 10
  },
  {
   "metadata": {
    "ExecuteTime": {
     "end_time": "2025-05-07T13:19:36.382107Z",
     "start_time": "2025-05-07T13:19:36.345790Z"
    }
   },
   "cell_type": "code",
   "source": [
    "catalog_path = \"/media/imonge/CORSAIR\"\n",
    "ERA5_dir = \"../../../../data/test_correlation/ERA5_concat\"\n",
    "output_dir = \"../../../../data/test_correlation/data_soundscape/wave_period\"\n",
    "stations = StationsCatalog(catalog_path)"
   ],
   "id": "initial_id",
   "outputs": [],
   "execution_count": 11
  },
  {
   "metadata": {
    "ExecuteTime": {
     "end_time": "2025-05-07T13:19:36.488944Z",
     "start_time": "2025-05-07T13:19:36.397014Z"
    }
   },
   "cell_type": "code",
   "source": [
    "for station in stations:\n",
    "    hydro_number = station.name[-1]\n",
    "    station_code = f\"h{hydro_number}\"\n",
    "    out_path = os.path.join(output_dir, f\"{station_code}.pkl\")\n",
    "    if Path(out_path).exists():\n",
    "        continue\n",
    "\n",
    "    date_start = station.date_start\n",
    "    date_end = station.date_end\n",
    "\n",
    "    ERA5_input_path = os.path.join(ERA5_dir, f\"ERA5_MAHY*{hydro_number}_waves_merged.nc\")\n",
    "    data = xr.open_dataset(ERA5_input_path)\n",
    "\n",
    "    t = pd.to_datetime(data[\"valid_time\"].values)\n",
    "\n",
    "    wave_period = np.array(data[\"mwp\"]).flatten()\n",
    "\n",
    "    df = pd.DataFrame({'values': wave_period}, index=t)\n",
    "\n",
    "    df.to_pickle(out_path)"
   ],
   "id": "98af786b66c0aeb2",
   "outputs": [],
   "execution_count": 12
  }
 ],
 "metadata": {
  "kernelspec": {
   "display_name": "Python 3",
   "language": "python",
   "name": "python3"
  },
  "language_info": {
   "codemirror_mode": {
    "name": "ipython",
    "version": 2
   },
   "file_extension": ".py",
   "mimetype": "text/x-python",
   "name": "python",
   "nbconvert_exporter": "python",
   "pygments_lexer": "ipython2",
   "version": "2.7.6"
  }
 },
 "nbformat": 4,
 "nbformat_minor": 5
}
