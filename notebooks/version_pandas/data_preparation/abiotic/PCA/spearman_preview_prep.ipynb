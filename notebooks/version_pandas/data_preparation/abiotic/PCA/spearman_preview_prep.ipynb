{
 "cells": [
  {
   "cell_type": "code",
   "id": "initial_id",
   "metadata": {
    "collapsed": true,
    "ExecuteTime": {
     "end_time": "2025-07-11T08:11:46.950278Z",
     "start_time": "2025-07-11T08:11:46.947992Z"
    }
   },
   "source": [
    "import numpy as np\n",
    "import pandas as pd\n",
    "import os"
   ],
   "outputs": [],
   "execution_count": 4
  },
  {
   "metadata": {
    "ExecuteTime": {
     "end_time": "2025-07-11T08:11:46.977222Z",
     "start_time": "2025-07-11T08:11:46.974237Z"
    }
   },
   "cell_type": "code",
   "source": [
    "# select the stations you want to plot. /!\\ You can only choose stations for one hydrophone. You can modify the second number in order to download and concatenate PSDs for the chosen hydrophone\n",
    "selected_stations = [\"MAHY01\",\n",
    "                     \"MAHY11\",\n",
    "                     \"MAHY21\", # /!\\ There is no MAHY24\n",
    "                     \"MAHY31\",\n",
    "                     \"MAHY41\"\n",
    "                     ]\n",
    "psd_dir = f\"../../../../../data/test_correlation/data_mahy\"\n",
    "\n",
    "# Retrieve hydrophone number from station name\n",
    "hydrophone_number = [station[-1] for station in selected_stations]\n",
    "# check that only one hydrophone is chosen\n",
    "if len(set(hydrophone_number))>1:\n",
    "    raise ValueError(\"You have selected more than one hydrophone\")\n",
    "else:\n",
    "    print(f\"Hydrophone n°{hydrophone_number[0]} selected\")"
   ],
   "id": "6551f33716e6631b",
   "outputs": [
    {
     "name": "stdout",
     "output_type": "stream",
     "text": [
      "Hydrophone n°1 selected\n"
     ]
    }
   ],
   "execution_count": 5
  },
  {
   "metadata": {
    "ExecuteTime": {
     "end_time": "2025-07-11T08:11:47.151686Z",
     "start_time": "2025-07-11T08:11:47.019820Z"
    }
   },
   "cell_type": "code",
   "source": [
    "# Load the PSD data\n",
    "psds_all = []\n",
    "for station in selected_stations:\n",
    "    psd_path = os.path.join(psd_dir, f\"{station}.pkl\")\n",
    "    psds_all.append(pd.read_pickle(psd_path))\n",
    "# Concatenate psds\n",
    "psd_df = pd.concat(psds_all).sort_index()\n",
    "\n",
    "# Change 0 to NaN\n",
    "psd_df.replace(0, np.nan, inplace=True)\n",
    "\n",
    "# Save concatenated PSDs\n",
    "save_path = os.path.join(psd_dir, f\"MAHY_h{hydrophone_number[0]}_concat.pkl\")\n",
    "psd_df.to_pickle(save_path)"
   ],
   "id": "997b375244ada5ca",
   "outputs": [],
   "execution_count": 6
  }
 ],
 "metadata": {
  "kernelspec": {
   "display_name": "Python 3",
   "language": "python",
   "name": "python3"
  },
  "language_info": {
   "codemirror_mode": {
    "name": "ipython",
    "version": 2
   },
   "file_extension": ".py",
   "mimetype": "text/x-python",
   "name": "python",
   "nbconvert_exporter": "python",
   "pygments_lexer": "ipython2",
   "version": "2.7.6"
  }
 },
 "nbformat": 4,
 "nbformat_minor": 5
}
