{
 "cells": [
  {
   "metadata": {
    "ExecuteTime": {
     "end_time": "2025-06-19T12:21:08.369828Z",
     "start_time": "2025-06-19T12:21:08.367759Z"
    }
   },
   "cell_type": "code",
   "source": [
    "import pandas as pd\n",
    "import os"
   ],
   "id": "d6554b54f565004e",
   "outputs": [],
   "execution_count": 1
  },
  {
   "metadata": {
    "ExecuteTime": {
     "end_time": "2025-06-19T12:21:08.440836Z",
     "start_time": "2025-06-19T12:21:08.438983Z"
    }
   },
   "cell_type": "code",
   "source": [
    "variable_dir = \"../../../../data/test_correlation/data_soundscape\"\n",
    "output_dir = \"../../../../data/test_correlation/PCA/PCA.pkl\""
   ],
   "id": "initial_id",
   "outputs": [],
   "execution_count": 2
  },
  {
   "metadata": {
    "ExecuteTime": {
     "end_time": "2025-06-02T08:29:52.392601Z",
     "start_time": "2025-06-02T08:29:52.354719Z"
    }
   },
   "cell_type": "code",
   "outputs": [],
   "execution_count": 3,
   "source": [
    "# Define MAHY campaigns date range (so that current_speed and other variables match)\n",
    "date_min = pd.to_datetime(\"2020-10-13\")\n",
    "date_max = pd.to_datetime(\"2024-09-27\")\n",
    "\n",
    "# Name of variables\n",
    "variables = [\n",
    "    \"wind_speed\",\n",
    "    \"current_speed\",\n",
    "    \"total_precipitation\",\n",
    "    \"wave_height\",\n",
    "    \"wave_period\"\n",
    "]\n",
    "\n",
    "daily_dfs = {}\n",
    "\n",
    "for var in variables:\n",
    "    file_path = os.path.join(variable_dir, var, \"h2.pkl\") # h2 is the hydrophone with best correlations to sound\n",
    "\n",
    "    df = pd.read_pickle(file_path)\n",
    "\n",
    "    df.index = pd.to_datetime(df.index)\n",
    "\n",
    "    if var!= \"current_speed\":\n",
    "        if var == \"total_precipitation\":\n",
    "            df = df.resample(\"D\").mean() # Mean filter for total precipitation is more meaningful\n",
    "        else:\n",
    "            df = df.resample(\"D\").median()\n",
    "\n",
    "\n",
    "    # Restrict dataframe to MAHY date range\n",
    "    df = df[(df.index >= date_min) & (df.index <= date_max)]\n",
    "\n",
    "    # Rename column\n",
    "    df.columns = [var]\n",
    "\n",
    "    # Store data\n",
    "    daily_dfs[var] = df\n",
    "\n",
    "# Merge all variables on the date index\n",
    "df_final = pd.concat(daily_dfs.values(), axis=1)\n",
    "\n",
    "# Sort and save\n",
    "df_final.sort_index(inplace=True)\n",
    "df_final.to_pickle(output_dir)"
   ],
   "id": "30dd1f63aa659db6"
  }
 ],
 "metadata": {
  "kernelspec": {
   "display_name": "Python 3",
   "language": "python",
   "name": "python3"
  },
  "language_info": {
   "codemirror_mode": {
    "name": "ipython",
    "version": 2
   },
   "file_extension": ".py",
   "mimetype": "text/x-python",
   "name": "python",
   "nbconvert_exporter": "python",
   "pygments_lexer": "ipython2",
   "version": "2.7.6"
  }
 },
 "nbformat": 4,
 "nbformat_minor": 5
}
