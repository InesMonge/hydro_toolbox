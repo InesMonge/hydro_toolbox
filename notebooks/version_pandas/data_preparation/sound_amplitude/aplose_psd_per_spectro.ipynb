{
 "cells": [
  {
   "cell_type": "code",
   "execution_count": null,
   "id": "initial_id",
   "metadata": {
    "collapsed": true
   },
   "outputs": [],
   "source": [
    "import pandas as pd\n",
    "import os\n",
    "from utils.data_reading.sound_data.station import StationsCatalog\n",
    "from scipy import signal\n",
    "from utils.transformation.signal import butter_bandpass_filter\n",
    "from tqdm.notebook import tqdm\n",
    "import datetime\n",
    "import numpy as np"
   ]
  },
  {
   "metadata": {},
   "cell_type": "code",
   "outputs": [],
   "execution_count": null,
   "source": [
    "### Work in progress ###\n",
    "\n",
    "for i in tqdm(range(len(df))):\n",
    "    line = df.iloc[i]\n",
    "\n",
    "    try:\n",
    "        ## Station\n",
    "        # Retrieve station name from the available data in the aplose dataset\n",
    "        possible_stations = stations.by_date(line[\"start_datetime\"].tz_localize(None))  # [MAHY11, MAHY13, MAHY14]\n",
    "        station_number = line[\"filename\"].split(\"_\")[1][-1]  # \"1\"\n",
    "        station_number_to_station = {s.name[-1]:s for s in possible_stations}  # {'1':MAHY11, '3':MAHY13, '4':MAHY14}\n",
    "        station = station_number_to_station[station_number]  # MAHY11\n",
    "\n",
    "        # Compute PSDs on the annotation boxes\n",
    "        manager = station.get_manager()\n",
    "\n",
    "        ## Date\n",
    "        date_start = line['start_datetime'].tz_localize(None)\n",
    "        date_end = line['end_datetime'].tz_localize(None)\n",
    "        delta = (date_end - date_start).total_seconds()\n",
    "\n",
    "        # Widen boxes which are too short\n",
    "        if delta < nperseg_sec:\n",
    "            diff = nperseg_sec - delta\n",
    "            date_end = date_end + datetime.timedelta(seconds=diff)\n",
    "\n",
    "        ## Frequencies\n",
    "        # Frequency range when we have weak annotations ('ship_noise')\n",
    "        if line['type'] == 'WEAK':\n",
    "            start_frequency = 1e-3 # does not tolerate strict 0 Hz\n",
    "            end_frequency=120 - 1e-3 # does not tolerate strict 120 Hz\n",
    "        else:\n",
    "            start_frequency = line['mean_start_frequency']\n",
    "            end_frequency = line['mean_end_frequency']\n",
    "\n",
    "        ## Main PSD (inside annotation box)\n",
    "        data_signal = manager.get_segment(date_start, date_end)\n",
    "        f, psd_signal = signal.welch(data_signal, fs=240, nperseg=nperseg)\n",
    "        psd_signal_filtered = np.where((f >= start_frequency) & (f <= end_frequency), psd_signal, np.nan)\n",
    "\n",
    "\n",
    "# Save computed psds in a dataframe\n",
    "df_psd_cleaned = pd.DataFrame(psds_cleaned, index=df.index, columns=f)\n",
    "df_psd_cleaned.to_pickle(os.path.join(output_path, 'psd_aplose_fq_filtered_no_background.pkl'))"
   ],
   "id": "21acce8972b7a242"
  }
 ],
 "metadata": {
  "kernelspec": {
   "display_name": "Python 3",
   "language": "python",
   "name": "python3"
  },
  "language_info": {
   "codemirror_mode": {
    "name": "ipython",
    "version": 2
   },
   "file_extension": ".py",
   "mimetype": "text/x-python",
   "name": "python",
   "nbconvert_exporter": "python",
   "pygments_lexer": "ipython2",
   "version": "2.7.6"
  }
 },
 "nbformat": 4,
 "nbformat_minor": 5
}
