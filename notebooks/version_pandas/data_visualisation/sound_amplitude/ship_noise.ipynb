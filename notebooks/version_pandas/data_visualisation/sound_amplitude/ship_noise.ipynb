{
 "cells": [
  {
   "metadata": {
    "ExecuteTime": {
     "end_time": "2025-07-31T13:27:11.935554Z",
     "start_time": "2025-07-31T13:27:11.513205Z"
    }
   },
   "cell_type": "code",
   "source": [
    "import numpy as np\n",
    "import pandas as pd\n",
    "import os\n",
    "import matplotlib.pyplot as plt\n",
    "import matplotlib.dates as mdates\n",
    "import matplotlib.cm as cm"
   ],
   "id": "b95acb27f5f2a530",
   "outputs": [],
   "execution_count": 1
  },
  {
   "metadata": {
    "ExecuteTime": {
     "end_time": "2025-07-31T13:27:12.158015Z",
     "start_time": "2025-07-31T13:27:12.147633Z"
    }
   },
   "cell_type": "code",
   "source": [
    "segments_dir = \"../../../../../data/SPL\"\n",
    "output_path = \"/home/imonge/Documents/annotations/ship\"\n",
    "df_ship = pd.read_pickle(os.path.join(segments_dir, 'psd_aplose_ship_only.pkl'))\n",
    "df_no_ship = pd.read_pickle(os.path.join(segments_dir, 'psd_aplose_no_ship.pkl'))"
   ],
   "id": "f35c0250b64fa95f",
   "outputs": [],
   "execution_count": 2
  },
  {
   "metadata": {
    "ExecuteTime": {
     "end_time": "2025-07-31T13:27:29.587962Z",
     "start_time": "2025-07-31T13:27:28.579171Z"
    }
   },
   "cell_type": "code",
   "source": [
    "# Mean amplitude across all frequencies - Scatter plot\n",
    "%matplotlib qt\n",
    "mean_amp_ship = df_ship.mean(axis=1)\n",
    "mean_amp_no_ship = df_no_ship.mean(axis=1)\n",
    "\n",
    "# Convert to dB\n",
    "mean_dB_ship = 10 * np.log10(mean_amp_ship)\n",
    "mean_dB_no_ship = 10 * np.log10(mean_amp_no_ship)\n",
    "\n",
    "# Plot\n",
    "# plt.style.use('default')\n",
    "plt.figure(figsize=(12,6))\n",
    "\n",
    "plt.scatter(mean_dB_ship.index, mean_dB_ship, label='With ship', color='darkcyan', alpha=0.5)\n",
    "plt.scatter(mean_dB_no_ship.index, mean_dB_no_ship, label='Without ship', color='darkviolet', alpha=0.7)\n",
    "\n",
    "plt.xlabel('Date')\n",
    "plt.ylabel('Mean amplitude (dB re 1 µPa)')\n",
    "plt.legend()\n",
    "plt.grid(True, alpha=0.3, linestyle='--', color='gray')\n",
    "plt.tight_layout()\n",
    "# plt.show()\n",
    "\n",
    "plt.savefig(os.path.join(output_path, 'scatterplot_amp.png'))"
   ],
   "id": "5b3ab714cb83ec12",
   "outputs": [],
   "execution_count": 3
  },
  {
   "metadata": {
    "ExecuteTime": {
     "end_time": "2025-07-31T13:27:37.653449Z",
     "start_time": "2025-07-31T13:27:37.554548Z"
    }
   },
   "cell_type": "code",
   "source": [
    "# Mean amplitude comparison - Box plot\n",
    "data = [mean_dB_ship, mean_dB_no_ship]\n",
    "labels = ['With ship', 'Without ship']\n",
    "colors = ['darkcyan', 'darkviolet']\n",
    "\n",
    "# Box plot\n",
    "plt.figure(figsize=(8, 5))\n",
    "box = plt.boxplot(data, labels=labels, patch_artist=True, showmeans=True, meanline=True)\n",
    "\n",
    "# Apply colors\n",
    "for patch, color in zip(box['boxes'], colors):\n",
    "    patch.set_facecolor(color)\n",
    "    patch.set_alpha(0.4)\n",
    "\n",
    "for median in box['medians']:\n",
    "    median.set_color('black')\n",
    "\n",
    "for mean in box['means']:\n",
    "    mean.set_color('black')\n",
    "\n",
    "# Add scatter plot\n",
    "for i, group in enumerate(data, 1): # i = 1 for the fisrt box\n",
    "    x_jitter = np.random.normal(loc=i - 0.2, scale=0.03, size=len(group))\n",
    "    plt.scatter(x_jitter, group, alpha=0.5, color=colors[i-1], s=15, edgecolor='k', linewidth=0.3)\n",
    "\n",
    "plt.ylabel('Mean amplitude (dB re 1 µPa)')\n",
    "plt.title(\"Amplitude comparision with and without ship noise\")\n",
    "plt.grid(axis='y', alpha=0.3, linestyle='--', color='gray')\n",
    "plt.tight_layout()\n",
    "# plt.show()\n",
    "\n",
    "plt.savefig(os.path.join(output_path, 'boxplot_amp.png'))"
   ],
   "id": "2b1ad7bb3360d721",
   "outputs": [
    {
     "name": "stderr",
     "output_type": "stream",
     "text": [
      "/tmp/ipykernel_91802/1682128494.py:8: MatplotlibDeprecationWarning: The 'labels' parameter of boxplot() has been renamed 'tick_labels' since Matplotlib 3.9; support for the old name will be dropped in 3.11.\n",
      "  box = plt.boxplot(data, labels=labels, patch_artist=True, showmeans=True, meanline=True)\n"
     ]
    }
   ],
   "execution_count": 4
  },
  {
   "metadata": {
    "ExecuteTime": {
     "end_time": "2025-07-30T13:34:54.710693Z",
     "start_time": "2025-07-30T13:34:54.651915Z"
    }
   },
   "cell_type": "code",
   "source": [
    "# Mean amplitude across all frequencies -> savoir si une station est plus bruyante qu'une autre\n",
    "# Pour que ça fonctionne, il faudrait faire correspondre les indices pour retirer les filenames d'un autre dataframe, puis retirer le numéro de station\n",
    "%matplotlib qt\n",
    "\n",
    "# Retrieve station\n",
    "station_ship = df_ship['station'].unique()\n",
    "station_no_ship = df_no_ship['station'].unique()\n",
    "\n",
    "# Create colormaps\n",
    "color_ship = cm.get_cmap('autumn', len(station_ship))\n",
    "color_no_ship = cm.get_cmap('Set1', len(station_no_ship))\n",
    "\n",
    "plt.style.use('default')\n",
    "plt.figure(figsize=(12,6))\n",
    "\n",
    "# With ship\n",
    "for i, station in enumerate(station_ship):\n",
    "    sub_df = df_ship[df_ship['station'] == station]\n",
    "    freq_cols = sub_df.select_dtypes(include=np.number).columns\n",
    "    mean_amp = sub_df[freq_cols].mean(axis=1)\n",
    "    mean_dB = 10 * np.log10(mean_amp)\n",
    "    plt.scatter(mean_dB.index, mean_dB, label=f\"Ship - {station}\", color=color_ship(i), alpha=0.5)\n",
    "\n",
    "# Without ship\n",
    "for i, station in enumerate(station_no_ship):\n",
    "    sub_df = df_no_ship[df_no_ship['station'] == station]\n",
    "    freq_cols = sub_df.select_dtypes(include=np.number).columns\n",
    "    mean_amp = sub_df[freq_cols].mean(axis=1)\n",
    "    mean_dB = 10 * np.log10(mean_amp)\n",
    "    plt.scatter(mean_dB.index, mean_dB, label=f\"No ship - {station}\", color=color_no_ship(i), alpha=1, s=50)\n",
    "\n",
    "plt.xlabel('Date')\n",
    "plt.ylabel('Mean amplitude (dB re 1 µPa)')\n",
    "plt.legend()\n",
    "plt.grid(True, alpha=0.3, linestyle='--', color='gray')\n",
    "plt.tight_layout()\n",
    "plt.show()\n",
    "\n",
    "# plt.savefig(os.path.join(output_path, 'no_ship_amp_stations.png'))"
   ],
   "id": "d6620b6cc845eec0",
   "outputs": [
    {
     "ename": "KeyError",
     "evalue": "'station'",
     "output_type": "error",
     "traceback": [
      "\u001B[31m---------------------------------------------------------------------------\u001B[39m",
      "\u001B[31mKeyError\u001B[39m                                  Traceback (most recent call last)",
      "\u001B[36mFile \u001B[39m\u001B[32m~/PycharmProjects/PythonProject/.venv/lib/python3.13/site-packages/pandas/core/indexes/base.py:3805\u001B[39m, in \u001B[36mIndex.get_loc\u001B[39m\u001B[34m(self, key)\u001B[39m\n\u001B[32m   3804\u001B[39m \u001B[38;5;28;01mtry\u001B[39;00m:\n\u001B[32m-> \u001B[39m\u001B[32m3805\u001B[39m     \u001B[38;5;28;01mreturn\u001B[39;00m \u001B[38;5;28;43mself\u001B[39;49m\u001B[43m.\u001B[49m\u001B[43m_engine\u001B[49m\u001B[43m.\u001B[49m\u001B[43mget_loc\u001B[49m\u001B[43m(\u001B[49m\u001B[43mcasted_key\u001B[49m\u001B[43m)\u001B[49m\n\u001B[32m   3806\u001B[39m \u001B[38;5;28;01mexcept\u001B[39;00m \u001B[38;5;167;01mKeyError\u001B[39;00m \u001B[38;5;28;01mas\u001B[39;00m err:\n",
      "\u001B[36mFile \u001B[39m\u001B[32mindex.pyx:167\u001B[39m, in \u001B[36mpandas._libs.index.IndexEngine.get_loc\u001B[39m\u001B[34m()\u001B[39m\n",
      "\u001B[36mFile \u001B[39m\u001B[32mindex.pyx:175\u001B[39m, in \u001B[36mpandas._libs.index.IndexEngine.get_loc\u001B[39m\u001B[34m()\u001B[39m\n",
      "\u001B[36mFile \u001B[39m\u001B[32mpandas/_libs/index_class_helper.pxi:19\u001B[39m, in \u001B[36mpandas._libs.index.Float64Engine._check_type\u001B[39m\u001B[34m()\u001B[39m\n",
      "\u001B[31mKeyError\u001B[39m: 'station'",
      "\nThe above exception was the direct cause of the following exception:\n",
      "\u001B[31mKeyError\u001B[39m                                  Traceback (most recent call last)",
      "\u001B[36mCell\u001B[39m\u001B[36m \u001B[39m\u001B[32mIn[17]\u001B[39m\u001B[32m, line 6\u001B[39m\n\u001B[32m      3\u001B[39m get_ipython().run_line_magic(\u001B[33m'\u001B[39m\u001B[33mmatplotlib\u001B[39m\u001B[33m'\u001B[39m, \u001B[33m'\u001B[39m\u001B[33mqt\u001B[39m\u001B[33m'\u001B[39m)\n\u001B[32m      5\u001B[39m \u001B[38;5;66;03m# Retrieve station\u001B[39;00m\n\u001B[32m----> \u001B[39m\u001B[32m6\u001B[39m station_ship = \u001B[43mdf_ship\u001B[49m\u001B[43m[\u001B[49m\u001B[33;43m'\u001B[39;49m\u001B[33;43mstation\u001B[39;49m\u001B[33;43m'\u001B[39;49m\u001B[43m]\u001B[49m.unique()\n\u001B[32m      7\u001B[39m station_no_ship = df_no_ship[\u001B[33m'\u001B[39m\u001B[33mstation\u001B[39m\u001B[33m'\u001B[39m].unique()\n\u001B[32m      9\u001B[39m \u001B[38;5;66;03m# Create colormaps\u001B[39;00m\n",
      "\u001B[36mFile \u001B[39m\u001B[32m~/PycharmProjects/PythonProject/.venv/lib/python3.13/site-packages/pandas/core/frame.py:4102\u001B[39m, in \u001B[36mDataFrame.__getitem__\u001B[39m\u001B[34m(self, key)\u001B[39m\n\u001B[32m   4100\u001B[39m \u001B[38;5;28;01mif\u001B[39;00m \u001B[38;5;28mself\u001B[39m.columns.nlevels > \u001B[32m1\u001B[39m:\n\u001B[32m   4101\u001B[39m     \u001B[38;5;28;01mreturn\u001B[39;00m \u001B[38;5;28mself\u001B[39m._getitem_multilevel(key)\n\u001B[32m-> \u001B[39m\u001B[32m4102\u001B[39m indexer = \u001B[38;5;28;43mself\u001B[39;49m\u001B[43m.\u001B[49m\u001B[43mcolumns\u001B[49m\u001B[43m.\u001B[49m\u001B[43mget_loc\u001B[49m\u001B[43m(\u001B[49m\u001B[43mkey\u001B[49m\u001B[43m)\u001B[49m\n\u001B[32m   4103\u001B[39m \u001B[38;5;28;01mif\u001B[39;00m is_integer(indexer):\n\u001B[32m   4104\u001B[39m     indexer = [indexer]\n",
      "\u001B[36mFile \u001B[39m\u001B[32m~/PycharmProjects/PythonProject/.venv/lib/python3.13/site-packages/pandas/core/indexes/base.py:3812\u001B[39m, in \u001B[36mIndex.get_loc\u001B[39m\u001B[34m(self, key)\u001B[39m\n\u001B[32m   3807\u001B[39m     \u001B[38;5;28;01mif\u001B[39;00m \u001B[38;5;28misinstance\u001B[39m(casted_key, \u001B[38;5;28mslice\u001B[39m) \u001B[38;5;129;01mor\u001B[39;00m (\n\u001B[32m   3808\u001B[39m         \u001B[38;5;28misinstance\u001B[39m(casted_key, abc.Iterable)\n\u001B[32m   3809\u001B[39m         \u001B[38;5;129;01mand\u001B[39;00m \u001B[38;5;28many\u001B[39m(\u001B[38;5;28misinstance\u001B[39m(x, \u001B[38;5;28mslice\u001B[39m) \u001B[38;5;28;01mfor\u001B[39;00m x \u001B[38;5;129;01min\u001B[39;00m casted_key)\n\u001B[32m   3810\u001B[39m     ):\n\u001B[32m   3811\u001B[39m         \u001B[38;5;28;01mraise\u001B[39;00m InvalidIndexError(key)\n\u001B[32m-> \u001B[39m\u001B[32m3812\u001B[39m     \u001B[38;5;28;01mraise\u001B[39;00m \u001B[38;5;167;01mKeyError\u001B[39;00m(key) \u001B[38;5;28;01mfrom\u001B[39;00m\u001B[38;5;250m \u001B[39m\u001B[34;01merr\u001B[39;00m\n\u001B[32m   3813\u001B[39m \u001B[38;5;28;01mexcept\u001B[39;00m \u001B[38;5;167;01mTypeError\u001B[39;00m:\n\u001B[32m   3814\u001B[39m     \u001B[38;5;66;03m# If we have a listlike key, _check_indexing_error will raise\u001B[39;00m\n\u001B[32m   3815\u001B[39m     \u001B[38;5;66;03m#  InvalidIndexError. Otherwise we fall through and re-raise\u001B[39;00m\n\u001B[32m   3816\u001B[39m     \u001B[38;5;66;03m#  the TypeError.\u001B[39;00m\n\u001B[32m   3817\u001B[39m     \u001B[38;5;28mself\u001B[39m._check_indexing_error(key)\n",
      "\u001B[31mKeyError\u001B[39m: 'station'"
     ]
    }
   ],
   "execution_count": 17
  }
 ],
 "metadata": {
  "kernelspec": {
   "display_name": "Python 3",
   "language": "python",
   "name": "python3"
  },
  "language_info": {
   "codemirror_mode": {
    "name": "ipython",
    "version": 2
   },
   "file_extension": ".py",
   "mimetype": "text/x-python",
   "name": "python",
   "nbconvert_exporter": "python",
   "pygments_lexer": "ipython2",
   "version": "2.7.6"
  }
 },
 "nbformat": 4,
 "nbformat_minor": 5
}
