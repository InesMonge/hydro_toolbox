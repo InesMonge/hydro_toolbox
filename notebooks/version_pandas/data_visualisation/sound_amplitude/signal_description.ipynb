{
 "cells": [
  {
   "metadata": {
    "ExecuteTime": {
     "end_time": "2025-07-30T13:28:09.826609Z",
     "start_time": "2025-07-30T13:28:09.824078Z"
    }
   },
   "cell_type": "code",
   "source": [
    "import numpy as np\n",
    "import pandas as pd\n",
    "import os\n",
    "import matplotlib.patches as patches\n",
    "import matplotlib.pyplot as plt\n",
    "import matplotlib.cm as cm\n",
    "import seaborn as sns\n",
    "from matplotlib import ticker"
   ],
   "id": "bfffd399c2c68ca9",
   "outputs": [],
   "execution_count": 7
  },
  {
   "metadata": {
    "collapsed": true,
    "ExecuteTime": {
     "end_time": "2025-07-30T13:28:11.071099Z",
     "start_time": "2025-07-30T13:28:10.737002Z"
    }
   },
   "cell_type": "code",
   "source": [
    "segments_updated_dir = \"../../../../../data/SPL\"\n",
    "df = pd.read_pickle(os.path.join(segments_updated_dir, 'df_segments_updated.pkl'))\n",
    "df_species = df[df['species'].notna()]"
   ],
   "id": "initial_id",
   "outputs": [],
   "execution_count": 8
  },
  {
   "metadata": {
    "ExecuteTime": {
     "end_time": "2025-07-30T13:28:11.731217Z",
     "start_time": "2025-07-30T13:28:11.727961Z"
    }
   },
   "cell_type": "code",
   "source": [
    "# Colorpalette by label\n",
    "labels = df_species['label'].unique()\n",
    "color_map = {label: plt.cm.tab20(i % 20) for i, label in enumerate(labels)}"
   ],
   "id": "751ea145a8c1089d",
   "outputs": [],
   "execution_count": 9
  },
  {
   "metadata": {
    "ExecuteTime": {
     "end_time": "2025-07-30T13:28:15.165336Z",
     "start_time": "2025-07-30T13:28:13.039886Z"
    }
   },
   "cell_type": "code",
   "source": [
    "# Plot per species\n",
    "species_list = df_species['species'].unique()\n",
    "\n",
    "for species in species_list:\n",
    "    subset =  df_species[df_species['species'] == species]\n",
    "\n",
    "    fig, ax = plt.subplots(figsize=(15, 6))\n",
    "\n",
    "    for _, row in subset.iterrows():\n",
    "        rect = patches.Rectangle(\n",
    "            (0, row['start_frequency']),\n",
    "            row['duration'],\n",
    "            row['end_frequency'] - row['start_frequency'],\n",
    "            linewidth=0.5,\n",
    "            edgecolor=color_map[row['label']],\n",
    "            facecolor=color_map[row['label']],\n",
    "            alpha=0.2\n",
    "        )\n",
    "        ax.add_patch(rect)\n",
    "    ax.set_xlim(0,df_species['duration'].max() * 1.05)\n",
    "    ax.set_ylim(0, 120)\n",
    "\n",
    "    ax.set_xlabel(\"Duration (s)\")\n",
    "    ax.set_ylabel(\"Frequency (Hz)\")\n",
    "    ax.set_title(f\"Vocalisation duration and frequency for {species}\")\n",
    "\n",
    "    # Legend\n",
    "    handles = [patches.Patch(color=color_map[l], label=l) for l in subset['label'].unique()]\n",
    "    ax.legend(handles=handles, title=\"Labels\", bbox_to_anchor=(1.0, 1), loc=\"upper right\")\n",
    "\n",
    "    plt.tight_layout()\n",
    "    plt.show()"
   ],
   "id": "57548f505b870ef8",
   "outputs": [],
   "execution_count": 10
  },
  {
   "metadata": {
    "ExecuteTime": {
     "end_time": "2025-07-30T07:31:43.735640Z",
     "start_time": "2025-07-30T07:31:41.423478Z"
    }
   },
   "cell_type": "code",
   "source": [
    "# Graph comme Miller et al.\n",
    "%matplotlib qt\n",
    "sns.set(style=\"whitegrid\")\n",
    "df_species = df[df['species'].notna()]\n",
    "\n",
    "species_list = df_species['species'].unique()\n",
    "\n",
    "unique_labels = df_species['label'].unique()\n",
    "palette = sns.color_palette(\"tab10\", len(unique_labels))\n",
    "color_map = dict(zip(unique_labels, palette))\n",
    "\n",
    "for species in species_list:\n",
    "    subset = df_species[df_species['species'] == species]\n",
    "\n",
    "    fig, ax = plt.subplots(figsize=(12, 8))\n",
    "\n",
    "    for _, row in subset.iterrows():\n",
    "        rect = patches.Rectangle(\n",
    "            (0, row['start_frequency']),\n",
    "            row['duration'],\n",
    "            row['end_frequency'] - row['start_frequency'],\n",
    "            linewidth=0.5,\n",
    "            edgecolor=color_map[row['label']],\n",
    "            facecolor=color_map[row['label']],\n",
    "            alpha=0.2\n",
    "        )\n",
    "        ax.add_patch(rect)\n",
    "\n",
    "    if species == 'minke':\n",
    "        ax.set_xlim(0,500)\n",
    "    else:\n",
    "        ax.set_xlim(0,70)\n",
    "    ax.set_ylim(0,120)\n",
    "\n",
    "    # Legend\n",
    "    handles = [patches.Patch(color=color_map[l], label=l) for l in subset['label'].unique()]\n",
    "    ax.legend(handles=handles, title=\"Labels\", bbox_to_anchor=(1.0, 1), loc=\"upper right\")\n",
    "    ax.set_xlabel(\"Duration (s)\")\n",
    "    ax.set_ylabel(\"Frequency (Hz)\")\n",
    "    ax.set_title(f\"Vocalisation duration and frequency for {species}\")\n",
    "    ax.grid(linestyle='--', alpha=0.4)\n",
    "    plt.tight_layout()\n",
    "    plt.show()"
   ],
   "id": "c4b766bb014f292f",
   "outputs": [],
   "execution_count": 5
  },
  {
   "metadata": {},
   "cell_type": "code",
   "source": "df_species[df_species.isna().any(axis=1)]",
   "id": "a43277c7f30abf15",
   "outputs": [],
   "execution_count": null
  },
  {
   "metadata": {},
   "cell_type": "code",
   "source": "print(df_species['label'])",
   "id": "6cd6ef2c6362ff33",
   "outputs": [],
   "execution_count": null
  },
  {
   "metadata": {
    "ExecuteTime": {
     "end_time": "2025-07-30T07:31:59.147465Z",
     "start_time": "2025-07-30T07:31:54.928922Z"
    }
   },
   "cell_type": "code",
   "source": [
    "# Frequency histogram by label -> frequency repartition, not necessarly useful if we have the frequency curve by label\n",
    "output_dir = \"/home/imonge/Documents/annotations/histo_fq\"\n",
    "\n",
    "unique_labels = df_species['label'].unique()\n",
    "\n",
    "for target_label in unique_labels:\n",
    "\n",
    "    # Filter data for this label\n",
    "    df_label = df_species[df_species['label'] == target_label].copy()\n",
    "\n",
    "    # Global frequency range\n",
    "    freq_min = int(np.floor(df_label['start_frequency'].min()))\n",
    "    freq_max = int(np.ceil(df_label['end_frequency'].max()))\n",
    "\n",
    "    # 1-Hz bins\n",
    "    freq_bins = np.arange(freq_min, freq_max + 1)\n",
    "    bin_counts = np.zeros_like(freq_bins, dtype=int)\n",
    "\n",
    "    # Count annotations covering each bin\n",
    "    for _, row in df_label.iterrows():\n",
    "        start = int(np.floor(row['start_frequency']))\n",
    "        end = int(np.ceil(row['end_frequency']))\n",
    "\n",
    "        for f in range(start, end + 1):\n",
    "            if freq_min <= f <= freq_max:\n",
    "                bin_index = f - freq_min\n",
    "                bin_counts[bin_index] += 1\n",
    "\n",
    "    # Plot histograms\n",
    "    fig, ax = plt.subplots(figsize=(12, 8))\n",
    "\n",
    "    ax.bar(freq_bins, bin_counts, width=1.0, color=\"teal\", alpha=0.7)\n",
    "    ax.set_xlabel(\"Frequency (Hz)\")\n",
    "    ax.set_ylabel(\"Count\")\n",
    "    ax.set_title(f\"Frequency coverage histogram for label: {target_label}\")\n",
    "    ax.set_xlim(0, 120)\n",
    "\n",
    "    # Ticks parameters\n",
    "    ax.xaxis.set_major_locator(ticker.MultipleLocator(5))\n",
    "    ax.xaxis.set_minor_locator(ticker.MultipleLocator(1))\n",
    "    ax.tick_params(axis='x', which='minor', length=10, width=1, color='gray', direction='inout')\n",
    "    ax.tick_params(axis='x', which='major', length=10, width=1, color='gray', direction='inout')\n",
    "\n",
    "    # ax.grid(True, linestyle=\"--\", alpha=0.5, color='gray')\n",
    "    plt.tight_layout()\n",
    "    plt.savefig(os.path.join(output_dir, f\"frequency_coverage_{target_label}.png\"))\n",
    "    plt.close()\n",
    "    # plt.show()"
   ],
   "id": "bce3eedbc47f2ed1",
   "outputs": [],
   "execution_count": 6
  }
 ],
 "metadata": {
  "kernelspec": {
   "display_name": "Python 3",
   "language": "python",
   "name": "python3"
  },
  "language_info": {
   "codemirror_mode": {
    "name": "ipython",
    "version": 2
   },
   "file_extension": ".py",
   "mimetype": "text/x-python",
   "name": "python",
   "nbconvert_exporter": "python",
   "pygments_lexer": "ipython2",
   "version": "2.7.6"
  }
 },
 "nbformat": 4,
 "nbformat_minor": 5
}
