{
 "cells": [
  {
   "cell_type": "code",
   "id": "initial_id",
   "metadata": {
    "collapsed": true,
    "ExecuteTime": {
     "end_time": "2025-07-23T09:52:49.568304Z",
     "start_time": "2025-07-23T09:52:49.566333Z"
    }
   },
   "source": [
    "import numpy as np\n",
    "import os\n",
    "import pandas as pd\n",
    "import matplotlib.pyplot as plt\n",
    "from matplotlib.lines import Line2D"
   ],
   "outputs": [],
   "execution_count": 1
  },
  {
   "metadata": {
    "ExecuteTime": {
     "end_time": "2025-07-23T09:52:49.639965Z",
     "start_time": "2025-07-23T09:52:49.638021Z"
    }
   },
   "cell_type": "code",
   "source": [
    "PSD_dir = \"../../../../../data/test_correlation/data_mahy\"\n",
    "output_path = \"/home/imonge/Documents/Masking\" # Output repository for the plots\n",
    "hydrophone_number = 1 # choose between 1, 2, 3, 4"
   ],
   "id": "dee584bee8d1225b",
   "outputs": [],
   "execution_count": 2
  },
  {
   "metadata": {
    "ExecuteTime": {
     "end_time": "2025-07-23T09:52:50.349328Z",
     "start_time": "2025-07-23T09:52:50.338712Z"
    }
   },
   "cell_type": "code",
   "source": [
    "# Select stations for the chose hydrophone\n",
    "if hydrophone_number != 4:\n",
    "    selected_stations = [f\"MAHY0{hydrophone_number}\",\n",
    "                         f\"MAHY1{hydrophone_number}\",\n",
    "                         f\"MAHY2{hydrophone_number}\",\n",
    "                         f\"MAHY3{hydrophone_number}\",\n",
    "                         f\"MAHY4{hydrophone_number}\",\n",
    "                         ]\n",
    "else:\n",
    "    selected_stations = [f\"MAHY0{hydrophone_number}\",\n",
    "                         f\"MAHY1{hydrophone_number}\",\n",
    "                         f\"MAHY3{hydrophone_number}\",\n",
    "                         f\"MAHY4{hydrophone_number}\",\n",
    "                         ]"
   ],
   "id": "52a4fe3362557623",
   "outputs": [],
   "execution_count": 3
  },
  {
   "metadata": {
    "ExecuteTime": {
     "end_time": "2025-07-23T09:52:51.598528Z",
     "start_time": "2025-07-23T09:52:51.459481Z"
    }
   },
   "cell_type": "code",
   "source": [
    "# Load the PSD data\n",
    "psds_all = []\n",
    "for station in selected_stations:\n",
    "    psd_path = os.path.join(PSD_dir, f\"{station}.pkl\")\n",
    "    psds_all.append(pd.read_pickle(psd_path))\n",
    "\n",
    "# Concatenate psds\n",
    "psd_df = pd.concat(psds_all).sort_index()\n",
    "\n",
    "# Change 0 to NaN\n",
    "psd_df.replace(0, np.nan, inplace=True)\n",
    "\n",
    "# Change absent data to Nan\n",
    "full_index = pd.date_range(start=psd_df.index.min(), end=psd_df.index.max(), freq=\"h\")\n",
    "psd_reindexed = psd_df.reindex(full_index)"
   ],
   "id": "74548b3da8b37a0a",
   "outputs": [],
   "execution_count": 4
  },
  {
   "metadata": {
    "ExecuteTime": {
     "end_time": "2025-07-23T09:52:58.023520Z",
     "start_time": "2025-07-23T09:52:57.140761Z"
    }
   },
   "cell_type": "code",
   "source": [
    "## Calculate parameters for the plot\n",
    "psd_db = 10 * np.log10(psd_reindexed)\n",
    "# Parameters\n",
    "frequencies = psd_db.columns.values.astype(float)\n",
    "psd_values = psd_db.values\n",
    "\n",
    "# Define psds bins in dB\n",
    "vmin = np.nanpercentile(psd_db, 1)\n",
    "vmax = np.nanpercentile(psd_db, 99)\n",
    "bins = np.linspace(vmin, vmax, 100)\n",
    "\n",
    "# Calculate density for each frequency\n",
    "pdf_matrix = []\n",
    "\n",
    "for i in range(len(frequencies)):\n",
    "    psd_col = psd_values[:, i]\n",
    "    # psd_col = psd_col[~np.isnan(psd_col)]\n",
    "    freq = frequencies[i]\n",
    "    if freq < 1:\n",
    "        continue\n",
    "\n",
    "    # Normalised histogram\n",
    "    hist, _ = np.histogram(psd_col, bins = bins, density = True)\n",
    "    pdf_matrix.append(hist)\n",
    "\n",
    "pdf_matrix = np.array(pdf_matrix).T\n",
    "pdf_masked = np.ma.masked_where(pdf_matrix <= 0.001, pdf_matrix)\n",
    "\n",
    "# Percentiles and arithmetic mean\n",
    "percentiles =  np.nanpercentile(psd_values,[5, 50, 95], axis=0)\n",
    "mean_db = np.nanmean(psd_values, axis=0)\n",
    "\n",
    "# Dictionary for species information (short name, most energetic frequency, line color, position in the legend)\n",
    "species_info = {\n",
    "    \"Omura's whale (20-30 Hz)\": {\"short\": \"Omura 20\", \"freq\":19, \"color\": \"#d45b99\", \"ha\":\"right\"},\n",
    "    \"Fin whale\": {\"short\": \"FW\", \"freq\": 21.5, \"color\":\"#8c564b\", \"ha\": \"center\"},\n",
    "    \"Antarctic blue whale\": {\"short\": \"ABW\", \"freq\": 25, \"color\": \"#ff7f0e\", \"ha\": \"center\"},\n",
    "    \"Madagascan pygmy blue whale\": {\"short\": \"PBW-SWIO\", \"freq\": 33, \"color\": \"#1f77b4\", \"ha\": \"center\"},\n",
    "    \"Omura's whale (30-40 Hz)\": {\"short\": \"Omura 30\", \"freq\": 35, \"color\":\"#9467bd\", \"ha\":\"left\"},\n",
    "    \"Sri Lanka pygmy blue whale\": {\"short\": \"PBW-CIO\", \"freq\": 95, \"color\": \"#2ca02c\", \"ha\": \"center\"}\n",
    "}\n"
   ],
   "id": "d9c4e6489d829d65",
   "outputs": [],
   "execution_count": 5
  },
  {
   "metadata": {
    "ExecuteTime": {
     "end_time": "2025-07-23T09:53:20.423404Z",
     "start_time": "2025-07-23T09:53:20.324698Z"
    }
   },
   "cell_type": "code",
   "source": [
    "## Spectral Probability Density (SPD) plot\n",
    "fig, ax = plt.subplots(figsize=(15, 8))\n",
    "extent = [1, frequencies.max(), bins[0], bins[-1]]\n",
    "img = ax.imshow(pdf_masked, origin='lower', aspect='auto', extent=extent, cmap='plasma', vmax=0.1)\n",
    "\n",
    "# Add horizontal lines  for each species\n",
    "species_legend = []\n",
    "\n",
    "# Place species ticks in zigzag\n",
    "text_y_base = bins[-1] + 1\n",
    "zigzag_offsets = [0, 2.5, 0, 2.5, 0, 0]\n",
    "\n",
    "for idx, (species,info) in enumerate(species_info.items()):\n",
    "    freq = info[\"freq\"]\n",
    "    short = info[\"short\"]\n",
    "    color = info[\"color\"]\n",
    "    ha = info.get(\"ha\", \"center\") # center is default value\n",
    "\n",
    "    # Vertical line\n",
    "    ax.axvline(freq, color=color, linewidth=1.7, alpha=0.8)\n",
    "\n",
    "    # Species label positioning\n",
    "    if ha == \"left\":\n",
    "        x_pos = freq - 1.5\n",
    "    elif ha == \"right\":\n",
    "        x_pos = freq + 1.5\n",
    "    else:\n",
    "        x_pos = freq\n",
    "\n",
    "    # Zigzag text\n",
    "    offset = zigzag_offsets[idx % len(zigzag_offsets)]\n",
    "    ax.text(freq, text_y_base + offset, short, rotation=0, va='bottom', ha=ha, fontsize=16, color=color, fontweight='bold')\n",
    "    # Legend text\n",
    "    species_legend.append(Line2D([0], [0], color=color, lw=2, label=f'{short}: {species}'))\n",
    "\n",
    "# Ticks and labels\n",
    "ax.set_xlabel(\"f (Hz)\", fontsize=18)\n",
    "ax.set_ylabel(\"PSD (dB re 1 µPa²/Hz)\", fontsize=18)\n",
    "\n",
    "ax.set_xlim(2,118)\n",
    "ax.set_ylim(bins[0], bins[-1])\n",
    "\n",
    "xticks = ax.get_xticks()\n",
    "xticks = np.append(xticks, [2, 118])\n",
    "xticks = xticks[(xticks >= 2) & (xticks <= 118)]\n",
    "\n",
    "ax.set_xticks([2, 20, 40, 60, 80, 100, 118])\n",
    "ax.set_xticks(np.unique(xticks))\n",
    "\n",
    "ax.tick_params(axis=\"x\", direction=\"out\", which=\"both\", length=6, width=1.5, top=False, bottom=True, labelsize=16)\n",
    "ax.tick_params(axis=\"y\", direction=\"out\", which=\"both\", length=6, width=1.5, right=False, left=True, labelsize=16)\n",
    "\n",
    "plt.suptitle(f\"Spectral Probability Density (SPD) - hydrophone {hydrophone_number}\", fontsize=18, y=0.98)\n",
    "\n",
    "# Colorbar\n",
    "cbar = fig.colorbar(img, ax=ax, pad=0.02)\n",
    "cbar.set_label(\"Probability Density\", fontsize=18, labelpad=10)\n",
    "cbar.ax.tick_params(labelsize=16)\n",
    "\n",
    "# Mean and percentiles curves\n",
    "ax.plot(frequencies, mean_db, color='red', linewidth=1.5, label = 'Arithmetic mean (AM)', zorder=3)\n",
    "\n",
    "labels = ['5%', '50%', '95%']\n",
    "gray_levels = [0.9, 0.6, 0]\n",
    "for i, (p, label, gray) in enumerate(zip(percentiles, labels, gray_levels)):\n",
    "    ax.plot(frequencies, p, color=str(gray), linewidth=1.5)\n",
    "\n",
    "    # Put percentile index in the middle\n",
    "    mid_idx = len(frequencies) //2\n",
    "    freq_mid = frequencies[mid_idx]\n",
    "    psd_mid = p[mid_idx]\n",
    "\n",
    "    # Add label under the curve\n",
    "    ax.text(freq_mid, psd_mid - 1.5, label, color=str(gray), fontsize=16, ha='center', va='top', fontweight='bold')\n",
    "\n",
    "mean_line = Line2D([0], [0], color='red', lw=1.5, label='AM')\n",
    "percentile_lines = [\n",
    "    Line2D([0], [0], color=str(gray), lw=1.5, label=label)\n",
    "    for label, gray in zip(labels, gray_levels)\n",
    "]\n",
    "legend1_lines = [mean_line] + percentile_lines\n",
    "\n",
    "\n",
    "# Legend 1 - Percentiles and mean\n",
    "legend1 = ax.legend(handles=[mean_line], loc='lower left', fontsize=14)\n",
    "ax.add_artist(legend1)\n",
    "\n",
    "# Legend 2 : species\n",
    "legend2 = ax.legend(handles=species_legend, loc='lower center', bbox_to_anchor=(0.5, -0.35), ncol=3, fontsize=16, frameon=False)\n",
    "ax.add_artist(legend2)\n",
    "ax.grid(False)\n",
    "\n",
    "plt.tight_layout(rect=[0, 0.15, 1, 1])\n",
    "\n",
    "## Show plot\n",
    "%matplotlib qt\n",
    "plt.show()\n",
    "\n",
    "# ## Save fplot\n",
    "# output_path = \"/home/imonge/Documents/Masking\"\n",
    "# plt.savefig(os.path.join(output_path, f'SPD_h{hydrophone_number}.png'), bbox_inches='tight')"
   ],
   "id": "5a5c288490b1c950",
   "outputs": [
    {
     "name": "stderr",
     "output_type": "stream",
     "text": [
      "/tmp/ipykernel_37322/3494826881.py:97: UserWarning: FigureCanvasAgg is non-interactive, and thus cannot be shown\n",
      "  plt.show()\n"
     ]
    }
   ],
   "execution_count": 7
  }
 ],
 "metadata": {
  "kernelspec": {
   "display_name": "Python 3",
   "language": "python",
   "name": "python3"
  },
  "language_info": {
   "codemirror_mode": {
    "name": "ipython",
    "version": 2
   },
   "file_extension": ".py",
   "mimetype": "text/x-python",
   "name": "python",
   "nbconvert_exporter": "python",
   "pygments_lexer": "ipython2",
   "version": "2.7.6"
  }
 },
 "nbformat": 4,
 "nbformat_minor": 5
}
