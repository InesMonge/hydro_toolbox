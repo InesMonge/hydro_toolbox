{
 "cells": [
  {
   "cell_type": "code",
   "id": "initial_id",
   "metadata": {
    "collapsed": true,
    "ExecuteTime": {
     "end_time": "2025-07-31T14:06:27.142752Z",
     "start_time": "2025-07-31T14:06:26.658920Z"
    }
   },
   "source": [
    "import numpy as np\n",
    "import pandas as pd\n",
    "import os\n",
    "import matplotlib.pyplot as plt\n",
    "import matplotlib.dates as mdates\n",
    "import matplotlib.cm as cm"
   ],
   "outputs": [],
   "execution_count": 1
  },
  {
   "metadata": {
    "ExecuteTime": {
     "end_time": "2025-07-31T14:06:29.741606Z",
     "start_time": "2025-07-31T14:06:27.323156Z"
    }
   },
   "cell_type": "code",
   "source": [
    "segments_dir = \"../../../../../data/SPL/df_segments_updated.pkl\"\n",
    "output_path = \"/home/imonge/Documents/sound_amplitude/seasonality\"\n",
    "df = pd.read_pickle(segments_dir)\n",
    "date_start = pd.to_datetime('2021-07-01')\n",
    "date_end = pd.to_datetime('2024-10-05')\n"
   ],
   "id": "59adbcadcbff0617",
   "outputs": [],
   "execution_count": 2
  },
  {
   "metadata": {
    "ExecuteTime": {
     "end_time": "2025-07-31T14:06:42.559780Z",
     "start_time": "2025-07-31T14:06:42.556587Z"
    }
   },
   "cell_type": "code",
   "source": [
    "# Label Catalogue\n",
    "# Rename labels\n",
    "labels_info = {\n",
    "    # Whales\n",
    "    'BW_dcall': 'Blue Whale D-call',\n",
    "    'ABW': 'Antarctic blue whale',\n",
    "    'PBW_SEIO': 'Australian pygmy blue whale',\n",
    "    'PBW_SWIO': 'Madagascan pygmy blue whale',\n",
    "    'PBW_CIO': 'Sri Lankan pygmy blue whale',\n",
    "    'Omura_SEIO': \"Australian Omura's whale\",\n",
    "    'Omura_SWIO': \"Madagascan Omura's whale\",\n",
    "    'Omura_CIO': \"Diego Garcian Omura's whale\",\n",
    "    'Minke': 'Minke whale',\n",
    "    'FW_nsp': 'Fin whale non stereotyped pulse',\n",
    "    'FW_20Hz': 'Fin whale 20-Hz pulse',\n",
    "    # Whales ind\n",
    "    'P_call': 'P-call',\n",
    "    'ind_42Hz': 'Indeterminate species - 42 Hz',\n",
    "    'ind_8s': 'Indeterminate species -  8 sec',\n",
    "\n",
    "    # Geophony\n",
    "    'eq': 'earthquake',\n",
    "    'impuls_geo': 'Impulsive volcanic event',\n",
    "\n",
    "    # Anthropophony\n",
    "    'career_shot': 'Career shot',\n",
    "    'seismic_shot': 'Seismic shot',\n",
    "    'ship_noise': 'Ship noise',\n",
    "    'ind_anthro': 'Indeterminate anthropophony'\n",
    "}\n",
    "\n",
    "labels = df['label'].unique().tolist()\n",
    "print(labels)"
   ],
   "id": "22f13f5e15fe2150",
   "outputs": [
    {
     "name": "stdout",
     "output_type": "stream",
     "text": [
      "['ind_8s', 'ship_noise', 'eq', 'Minke', 'PBW_SEIO', 'FW_nsp', 'PBW_SWIO', 'ind_42Hz', 'BW_dcall', 'impuls_geo', 'P_call', 'PBW_CIO', 'Omura_CIO', 'ind_anthro', 'ABW', 'FW_20Hz', 'career_shot', 'seismic_shot', 'Omura_SWIO', 'Omura_SEIO']\n"
     ]
    }
   ],
   "execution_count": 4
  },
  {
   "metadata": {
    "ExecuteTime": {
     "end_time": "2025-07-31T14:06:38.817357Z",
     "start_time": "2025-07-31T14:06:38.747487Z"
    }
   },
   "cell_type": "code",
   "source": [
    "type_count = df[\"confidence\"].value_counts()\n",
    "\n",
    "plt.figure()\n",
    "plt.pie(type_count, labels = type_count.index, autopct='%1.1f%%', startangle=90, colors = ['darkcyan', 'mediumaquamarine'])\n",
    "plt.axis('equal')\n",
    "plt.title(\"Level of confidence on all annotations\")\n",
    "plt.show()\n",
    "# Je vais peut être juste utiliser les pourcentages dans un tableau, ça sera plus pertinent"
   ],
   "id": "909017e4dfe6ba1d",
   "outputs": [
    {
     "data": {
      "text/plain": [
       "<Figure size 640x480 with 1 Axes>"
      ],
      "image/png": "[encoded data removed]"
     },
     "metadata": {},
     "output_type": "display_data"
    }
   ],
   "execution_count": 3
  },
  {
   "metadata": {
    "ExecuteTime": {
     "end_time": "2025-07-31T14:07:02.923356Z",
     "start_time": "2025-07-31T14:07:02.285885Z"
    }
   },
   "cell_type": "code",
   "source": [
    "# Count by label and confidence\n",
    "counts = df.groupby(['label', 'confidence']).size().unstack(fill_value=0)\n",
    "\n",
    "# Sort labels\n",
    "counts['total'] = counts.sum(axis=1)\n",
    "counts = counts.sort_values('total', ascending=True)\n",
    "\n",
    "labels = counts.index.tolist()\n",
    "n_labels = len(labels)\n",
    "x = np.arange(n_labels)\n",
    "width = 0.6\n",
    "\n",
    "fig, ax = plt.subplots(figsize=(14,12))\n",
    "\n",
    "# Sure bars\n",
    "bars_sure = ax.bar(x, counts.get('Sure', 0), width, bottom=counts.get('Not sure', 0), label='Sure', color='darkcyan')\n",
    "# Not sure bars\n",
    "bars_not_sure = ax.bar(x, counts.get('Not sure', 0), width, label='Not sure', color='mediumaquamarine')\n",
    "\n",
    "# Total occurrences on top (by label)\n",
    "for i in range(n_labels):\n",
    "    total = counts.get('Sure', 0).iloc[i] + counts.get('Not sure', 0).iloc[i]\n",
    "\n",
    "    ax.annotate(str(total), xy=(x[i], total), xytext=(0,10), textcoords='offset points', ha='center', va='bottom', fontsize=9)\n",
    "\n",
    "# Total label count\n",
    "global_total = counts['total'].sum()\n",
    "ax.text(0.01, 0.99, f\"Total annotations : {global_total}\", transform=ax.transAxes, fontsize=12, verticalalignment='top', ha='left', bbox=dict(facecolor='white', alpha=0.9))\n",
    "\n",
    "# ax.text(x[i], total, str(total), ha='center', va='bottom', fontsize=9, fontweight='bold')\n",
    "\n",
    "# Ticks and labels\n",
    "ax.set_xticks(x)\n",
    "ax.set_xticklabels(labels, rotation=90)\n",
    "ax.set_ylabel('Number of detections')\n",
    "# ax.set_ylim(top=(counts.sum(axis=1).max() * 1.2))\n",
    "ax.set_ylim(0, 1700)\n",
    "ax.legend(loc=\"upper left\", bbox_to_anchor=(0.0, 0.97), frameon=True)\n",
    "ax.set_title('Annotation histogram with confidence label')\n",
    "plt.tight_layout()\n",
    "plt.show()"
   ],
   "id": "718fd16bcb5d014a",
   "outputs": [],
   "execution_count": 6
  },
  {
   "metadata": {
    "ExecuteTime": {
     "end_time": "2025-07-31T14:11:36.531194Z",
     "start_time": "2025-07-31T14:11:34.576168Z"
    }
   },
   "cell_type": "code",
   "source": [
    "# ### Seasonality histograms -> not normalised\n",
    "# # Select target label\n",
    "# for label in labels:\n",
    "#     # Filter corresponding lines\n",
    "#     df_label = df[df[\"label\"] == label].copy()\n",
    "#\n",
    "#     # Convert dates and extract days\n",
    "#     df_label['start_datetime'] = pd.to_datetime(df_label['start_datetime']).dt.tz_localize(None)\n",
    "#\n",
    "#     df_label['day'] = df_label['start_datetime'].dt.date # Extract the date without the hour\n",
    "#     df_label['month'] = df_label['start_datetime'].dt.to_period('M')\n",
    "#\n",
    "#     # Delete day duplicates\n",
    "#     df_unique_days = df_label[['day', 'month']].drop_duplicates()\n",
    "#\n",
    "#     # Count the number of days per month\n",
    "#     count_by_month = df_unique_days.groupby('month').size().sort_index()\n",
    "#\n",
    "#     # Convert to datetime index\n",
    "#     count_by_month.index = count_by_month.index.to_timestamp()\n",
    "#\n",
    "#     full_index = pd.date_range(start=date_start, end=date_end, freq='MS') # MS = Month Start\n",
    "#     count_by_month = count_by_month.reindex(full_index, fill_value=0)\n",
    "#\n",
    "#     # Plot\n",
    "#     fig, ax = plt.subplots(figsize=(12,6))\n",
    "#     ax.bar(count_by_month.index, count_by_month.values, width=20, color='darkcyan')\n",
    "#\n",
    "#     # Major ticks every 3 months\n",
    "#     ax.xaxis.set_major_locator(mdates.MonthLocator(interval=3))\n",
    "#     ax.xaxis.set_major_formatter(mdates.DateFormatter('%b %Y'))\n",
    "#     ax.tick_params(axis='x', which='major', length=12, width=1.5)\n",
    "#\n",
    "#     # Minor locators for other months\n",
    "#     ax.xaxis.set_minor_locator(mdates.MonthLocator())\n",
    "#     ax.tick_params(axis='x', which='minor', length=5)\n",
    "#\n",
    "#     ax.set_title(f'Number of days where {labels_info[label]} was detected by month')\n",
    "#     ax.set_xlabel('Date')\n",
    "#     ax.set_ylabel('Number of positive detection days')\n",
    "#     ax.set_xlim(date_start, date_end)\n",
    "#     ax.set_ylim(0,28)\n",
    "#     plt.tight_layout()\n",
    "#     plt.show()\n",
    "#     # plt.savefig(os.path.join(output_path, f'seasonality_{label}.png')) # Mettre en pdf pour le rapport"
   ],
   "id": "25bf1b247335dccb",
   "outputs": [
    {
     "name": "stderr",
     "output_type": "stream",
     "text": [
      "/tmp/ipykernel_100272/2957704050.py:26: RuntimeWarning: More than 20 figures have been opened. Figures created through the pyplot interface (`matplotlib.pyplot.figure`) are retained until explicitly closed and may consume too much memory. (To control this warning, see the rcParam `figure.max_open_warning`). Consider using `matplotlib.pyplot.close()`.\n",
      "  fig, ax = plt.subplots(figsize=(12,6))\n"
     ]
    }
   ],
   "execution_count": 7
  },
  {
   "metadata": {
    "ExecuteTime": {
     "end_time": "2025-07-31T14:12:10.463849Z",
     "start_time": "2025-07-31T14:12:10.358661Z"
    }
   },
   "cell_type": "code",
   "source": [
    "# Histogramme nombre de spectrogrammes à annoter par mois sur les 4 années -> nous dit pourquoi on a normalisé, à mettre dans méthode\n",
    "# 1. Extraire l'identifiant du spectrogramme depuis le file_name\n",
    "df['spectro_id'] = df['filename'].str.extract(r'(\\d{6})\\.wav$')[0]\n",
    "\n",
    "# 2. Nettoyer les dates\n",
    "df['start_datetime'] = pd.to_datetime(df['start_datetime']).dt.tz_localize(None)\n",
    "df['month'] = df['start_datetime'].dt.to_period('M')  # format AAAA-MM\n",
    "\n",
    "# 3. Supprimer les doublons (un spectrogramme par mois)\n",
    "df_unique = df.drop_duplicates(subset='spectro_id')\n",
    "\n",
    "# 4. Compter le nombre de spectrogrammes uniques par mois\n",
    "count_by_month = df_unique.groupby('month').size()\n",
    "\n",
    "# 5. Reindex pour inclure les mois sans détection\n",
    "count_by_month.index = count_by_month.index.to_timestamp()\n",
    "full_index = pd.date_range(start=count_by_month.index.min(), end=count_by_month.index.max(), freq='MS')\n",
    "count_by_month = count_by_month.reindex(full_index, fill_value=0)\n",
    "\n",
    "# 6. Tracer l'histogramme\n",
    "fig, ax = plt.subplots(figsize=(12,6))\n",
    "ax.bar(count_by_month.index, count_by_month.values, width=20, align='center', color='darkcyan')\n",
    "\n",
    "# Mise en forme des dates sur l'axe x\n",
    "ax.xaxis.set_major_locator(mdates.MonthLocator(interval=3))\n",
    "ax.xaxis.set_major_formatter(mdates.DateFormatter('%b %Y'))\n",
    "ax.xaxis.set_minor_locator(mdates.MonthLocator())\n",
    "ax.tick_params(axis='x', which='major', length=10, labelrotation=45)\n",
    "ax.tick_params(axis='x', which='minor', length=4)\n",
    "\n",
    "# Titres et axes\n",
    "ax.set_title('Number of annotated spectrograms per month')\n",
    "ax.set_xlabel('Date')\n",
    "ax.set_ylabel('Count')\n",
    "ax.set_xlim(full_index.min(), full_index.max())\n",
    "plt.tight_layout()\n",
    "plt.show()"
   ],
   "id": "252ebcbab38e7e0b",
   "outputs": [],
   "execution_count": 8
  }
 ],
 "metadata": {
  "kernelspec": {
   "display_name": "Python 3",
   "language": "python",
   "name": "python3"
  },
  "language_info": {
   "codemirror_mode": {
    "name": "ipython",
    "version": 2
   },
   "file_extension": ".py",
   "mimetype": "text/x-python",
   "name": "python",
   "nbconvert_exporter": "python",
   "pygments_lexer": "ipython2",
   "version": "2.7.6"
  }
 },
 "nbformat": 4,
 "nbformat_minor": 5
}
