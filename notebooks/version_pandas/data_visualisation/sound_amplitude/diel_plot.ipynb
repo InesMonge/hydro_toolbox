{
 "cells": [
  {
   "metadata": {
    "ExecuteTime": {
     "end_time": "2025-06-30T07:41:42.806409Z",
     "start_time": "2025-06-30T07:41:42.800335Z"
    }
   },
   "cell_type": "code",
   "source": [
    "import numpy as np\n",
    "import os\n",
    "import pandas as pd\n",
    "import matplotlib.pyplot as plt\n",
    "from utils.data_reading.sound_data.station import StationsCatalog\n",
    "from matplotlib import cm\n",
    "from matplotlib.lines import Line2D"
   ],
   "id": "e0b0fd15218586a1",
   "outputs": [],
   "execution_count": 29
  },
  {
   "metadata": {
    "collapsed": true,
    "ExecuteTime": {
     "end_time": "2025-06-30T07:02:13.355332Z",
     "start_time": "2025-06-30T07:02:13.299765Z"
    }
   },
   "cell_type": "code",
   "source": [
    "PSD_dir = \"../../../../../data/test_correlation/data_mahy\"\n",
    "AIS_dir = \"../../../../../data/test_correlation/AIS/AIS.pkl\"\n",
    "output_path = \"/home/imonge/Documents/Masking\" # Output repository for the plots\n",
    "catalog_path = \"/media/imonge/CORSAIR\"\n",
    "stations = StationsCatalog(catalog_path)\n",
    "hydrophone_number = 1 # choose between 1, 2, 3, 4"
   ],
   "id": "initial_id",
   "outputs": [],
   "execution_count": 2
  },
  {
   "metadata": {
    "ExecuteTime": {
     "end_time": "2025-06-30T07:02:24.312003Z",
     "start_time": "2025-06-30T07:02:24.309355Z"
    }
   },
   "cell_type": "code",
   "source": [
    "# Select stations for the chose hydrophone\n",
    "if hydrophone_number != 4:\n",
    "    selected_stations = [f\"MAHY0{hydrophone_number}\",\n",
    "                         f\"MAHY1{hydrophone_number}\",\n",
    "                         f\"MAHY2{hydrophone_number}\",\n",
    "                         f\"MAHY3{hydrophone_number}\",\n",
    "                         f\"MAHY4{hydrophone_number}\",\n",
    "                         ]\n",
    "else:\n",
    "    selected_stations = [f\"MAHY0{hydrophone_number}\",\n",
    "                         f\"MAHY1{hydrophone_number}\",\n",
    "                         f\"MAHY3{hydrophone_number}\",\n",
    "                         f\"MAHY4{hydrophone_number}\",\n",
    "                         ]\n",
    "\n",
    "hydrophone_location = {\n",
    "1: (-13.19, 45.35),\n",
    "2: (-13.35, 45.82),\n",
    "3: (-12.77, 46.15),\n",
    "4: (-12.50, 45.55)\n",
    "}\n"
   ],
   "id": "b57c5d9de367c13a",
   "outputs": [],
   "execution_count": 4
  },
  {
   "metadata": {
    "ExecuteTime": {
     "end_time": "2025-06-30T07:02:26.786610Z",
     "start_time": "2025-06-30T07:02:26.334608Z"
    }
   },
   "cell_type": "code",
   "source": [
    "# Load the PSD data\n",
    "psds_all = []\n",
    "for station in selected_stations:\n",
    "    psd_path = os.path.join(PSD_dir, f\"{station}.pkl\")\n",
    "    psds_all.append(pd.read_pickle(psd_path))\n",
    "\n",
    "# Concatenate psds\n",
    "psd_df = pd.concat(psds_all).sort_index()\n",
    "\n",
    "# Change 0 to NaN\n",
    "psd_df.replace(0, np.nan, inplace=True)\n",
    "\n",
    "# Change absent data to Nan\n",
    "full_index = pd.date_range(start=psd_df.index.min(), end=psd_df.index.max(), freq=\"h\")\n",
    "psd_reindexed = psd_df.reindex(full_index)"
   ],
   "id": "d806e97e7044cd7c",
   "outputs": [],
   "execution_count": 5
  },
  {
   "metadata": {
    "ExecuteTime": {
     "end_time": "2025-06-30T07:38:05.031289Z",
     "start_time": "2025-06-30T07:38:04.774304Z"
    }
   },
   "cell_type": "code",
   "source": [
    "## Calculate parameters for the plot\n",
    "# Make sure we have a temporal index\n",
    "psd_reindexed.index = pd.to_datetime(psd_reindexed.index)\n",
    "\n",
    "# Calsculate sound intensity\n",
    "psd_db = 10 * np.log10(psd_reindexed)\n",
    "\n",
    "# Mean PSD for all frequencies\n",
    "psd_db_mean = psd_db.mean(axis=1)\n",
    "\n",
    "# Extract hour and date\n",
    "df = pd.DataFrame({\n",
    "    \"datetime\": psd_db_mean.index,\n",
    "    \"value\": psd_db_mean.values\n",
    "})\n",
    "df[\"date\"] = df[\"datetime\"].dt.date\n",
    "df[\"hour\"] = df[\"datetime\"].dt.hour\n",
    "\n",
    "# Group by date and hour\n",
    "grouped = df.groupby([\"date\", \"hour\"]).mean().unstack(level=1)\n",
    "%matplotlib qt"
   ],
   "id": "919651a5998df464",
   "outputs": [],
   "execution_count": 23
  },
  {
   "metadata": {
    "ExecuteTime": {
     "end_time": "2025-06-30T07:48:46.132259Z",
     "start_time": "2025-06-30T07:48:46.069377Z"
    }
   },
   "cell_type": "code",
   "source": [
    "## Plot parameters\n",
    "# Convert to matrix\n",
    "psd_matrix = grouped[\"value\"].values\n",
    "dates = grouped.index\n",
    "\n",
    "# Plot\n",
    "fig, ax = plt.subplots(figsize=(16, 18))\n",
    "im = ax.imshow(psd_matrix, aspect='auto', cmap='Reds', origin='lower', extent=[0, 24, 0, len(dates)])\n",
    "\n",
    "# X axis\n",
    "ax.set_xticks(range(0, 25, 2))\n",
    "ax.set_xlabel(\"Hour\", fontsize=14)\n",
    "\n",
    "# Y axis\n",
    "yticks_idx = np.linspace(0, len(dates) - 1, 10).astype(int)\n",
    "ax.set_yticks(yticks_idx)\n",
    "ax.set_yticklabels([str(dates[i]) for i in yticks_idx])\n",
    "ax.set_ylabel(\"Date\", fontsize=14)\n",
    "\n",
    "# Title and colorbar\n",
    "ax.set_title(f\"Diel plot - hydrophone {hydrophone_number}\", fontsize=16)\n",
    "cbar= fig.colorbar(im, ax=ax, label=\"Mean PSD (dB re 1 µPA²/Hz\")\n",
    "\n",
    "plt.tight_layout()\n",
    "plt.show()"
   ],
   "id": "2419e1089b0d894e",
   "outputs": [],
   "execution_count": 35
  },
  {
   "metadata": {},
   "cell_type": "code",
   "outputs": [],
   "execution_count": null,
   "source": "#######################",
   "id": "18b30abc0161d9e6"
  },
  {
   "metadata": {
    "ExecuteTime": {
     "end_time": "2025-06-30T07:48:42.616517Z",
     "start_time": "2025-06-30T07:48:40.397343Z"
    }
   },
   "cell_type": "code",
   "source": [
    "## Diel plot with boat presence\n",
    "# Function to calculate distances toa hydrophone\n",
    "def haversine(lon1, lat1, lon2, lat2):\n",
    "\n",
    "    \"\"\"\n",
    "    Calculate the great circle distance between two points on the earth (specified in decimal degrees), returns distance in km.\n",
    "    \"\"\"\n",
    "    # Convert decimal degrees to radian\n",
    "    lat1, lon1, lat2, lon2 = map(np.radians, [lat1, lon1, lat2, lon2])\n",
    "\n",
    "    # haversine formula\n",
    "    dlat = lat2 - lat1\n",
    "    dlon = lon2 - lon1\n",
    "    a = np.sin(dlat/2.0)**2 + np.cos(lat1) * np.cos(lat2) * np.sin(dlon/2.0)**2\n",
    "    c = 2 * np.arcsin(np.sqrt(a))\n",
    "    r = 6371 # radius of earth in kilometers\n",
    "    return c * r\n",
    "\n",
    "hydrophone_lat, hydrophone_lon = hydrophone_location.get(hydrophone_number, (None, None))\n",
    "\n",
    "# freq_axis = psd_reindexed.columns.astype(float)\n",
    "# max_freqs = psd_reindexed.apply(lambda row: freq_axis[np.argmax(row.values)], axis=1)\n",
    "\n",
    "# # Create dataset\n",
    "# dffq = pd.DataFrame({\n",
    "#     \"datetime\": max_freqs.index,\n",
    "#     \"max_freq\": max_freqs.values\n",
    "# })\n",
    "# dffq[\"hour\"] = dffq[\"datetime\"].dt.hour\n",
    "# dffq[\"date\"] = dffq[\"datetime\"].dt.date\n",
    "#\n",
    "# diel_matrix = dffq.pivot_table(index=\"date\", columns=\"hour\", values=\"max_freq\").sort_index()\n",
    "## Calculate parameters for the plot\n",
    "# Make sure we have a temporal index\n",
    "psd_reindexed.index = pd.to_datetime(psd_reindexed.index)\n",
    "\n",
    "# Calsculate sound intensity\n",
    "psd_db = 10 * np.log10(psd_reindexed)\n",
    "\n",
    "# Mean PSD for all frequencies\n",
    "psd_db_mean = psd_db.mean(axis=1)\n",
    "\n",
    "# Extract hour and date\n",
    "df = pd.DataFrame({\n",
    "    \"datetime\": psd_db_mean.index,\n",
    "    \"value\": psd_db_mean.values\n",
    "})\n",
    "df[\"date\"] = df[\"datetime\"].dt.date\n",
    "df[\"hour\"] = df[\"datetime\"].dt.hour\n",
    "\n",
    "# Group by date and hour\n",
    "grouped = df.groupby([\"date\", \"hour\"]).mean().unstack(level=1)\n",
    "\n",
    "\n",
    "# Load AIS data\n",
    "AIS_df = pd.read_pickle(AIS_dir)\n",
    "AIS_df['datetime'] = pd.to_datetime(AIS_df['datetime'])\n",
    "AIS_df['hour'] = AIS_df['datetime'].dt.hour + AIS_df['datetime'].dt.minute / 60\n",
    "AIS_df['date'] = AIS_df['datetime'].dt.date\n",
    "\n",
    "# Select 10 km radius around hydrophone\n",
    "if hydrophone_lat is not None and hydrophone_lon is not None:\n",
    "    # Calculate distance\n",
    "    AIS_df['distance_km'] = haversine(hydrophone_lat, hydrophone_lon, AIS_df['lat'], AIS_df['lon'])\n",
    "    AIS_nearby = AIS_df[AIS_df['distance_km'] <=10].copy() # Number of boats in a 10 km distance to the hydrophone\n",
    "else:\n",
    "    print(f\"Coordinates for hydrophone {hydrophone_number} not found.\")\n",
    "    AIS_nearby = AIS_df.copy()\n",
    "\n",
    "################\n",
    "# Select only one point for each boat's passages\n",
    "AIS_nearby = AIS_nearby.sort_values(['mmsi', 'datetime']).reset_index(drop=True)\n",
    "AIS_nearby['time_diff'] = AIS_nearby.groupby('mmsi')['datetime'].diff().dt.total_seconds()\n",
    "\n",
    "threshold_seconds = 3600\n",
    "\n",
    "AIS_nearby['new_session'] = (AIS_nearby['time_diff'] > threshold_seconds) | (AIS_nearby['time_diff'].isna())\n",
    "AIS_nearby['session_id'] = AIS_nearby.groupby('mmsi')['new_session'].cumsum()\n",
    "\n",
    "median_ais_sessions = AIS_nearby.groupby(['mmsi', 'session_id']).agg({\n",
    "    'datetime': 'median'\n",
    "}).reset_index()\n",
    "\n",
    "median_ais_sessions['hour'] = median_ais_sessions['datetime'].dt.hour + median_ais_sessions['datetime'].dt.minute / 60 + median_ais_sessions['datetime'].dt.second / 3600\n",
    "median_ais_sessions['date'] = median_ais_sessions['datetime'].dt.date\n",
    "\n",
    "\n",
    "median_ais_sessions = median_ais_sessions[median_ais_sessions['date'].isin(date_list)].copy()\n",
    "median_ais_sessions['y_idx'] = median_ais_sessions['date'].apply(lambda d: date_list.index(d))\n",
    "#####################################\n",
    "\n",
    "# Plot\n",
    "psd_matrix = grouped[\"value\"].values\n",
    "dates = grouped.index\n",
    "fig, ax = plt.subplots(figsize=(16, 18))\n",
    "im = ax.imshow(psd_matrix, aspect='auto', cmap='Reds', origin='lower', extent=[0, 24, 0, len(dates)])\n",
    "\n",
    "ax.scatter(median_ais_sessions['hour'], median_ais_sessions['y_idx'], marker='x', color='darkred', label='AIS signal', s=20, alpha=0.5)\n",
    "\n",
    "ax.set_xlabel(\"Hour\", fontsize=14)\n",
    "ax.set_xticks(range(0, 25, 2))\n",
    "\n",
    "ax.set_ylabel(\"Date\", fontsize=14)\n",
    "ax.set_yticks(yticks_idx)\n",
    "yticks_idx = np.linspace(0, len(dates) - 1, 10).astype(int)\n",
    "ax.set_yticklabels([str(dates[i]) for i in yticks_idx])\n",
    "# ax.set_yticks(np.arange(len(date_list))[::max(1, len(date_list)//10)])\n",
    "# ax.set_yticklabels([str(date) for date in date_list][::max(1, len(date_list)//10)])\n",
    "\n",
    "# Title and colorbar\n",
    "ax.set_title(f\"Diel plot - hydrophone {hydrophone_number}\", fontsize=16)\n",
    "cbar= fig.colorbar(im, ax=ax, label=\"Mean PSD (dB re 1 µPA²/Hz\")\n",
    "\n",
    "plt.tight_layout()\n",
    "plt.show()\n",
    "########################################################################\n",
    "# Convert to matrix\n",
    "\n",
    "\n",
    "# Plot\n",
    "\n",
    "\n",
    "\n",
    "# X axis\n",
    "\n",
    "\n",
    "\n",
    "# Y axis\n",
    "\n",
    "\n",
    "\n",
    "\n",
    "\n",
    "\n",
    "\n"
   ],
   "id": "7977627203c444a2",
   "outputs": [],
   "execution_count": 34
  },
  {
   "metadata": {},
   "cell_type": "code",
   "outputs": [],
   "execution_count": null,
   "source": "#######################",
   "id": "70a2d7908d3086d0"
  },
  {
   "metadata": {
    "ExecuteTime": {
     "end_time": "2025-06-30T07:42:17.851050Z",
     "start_time": "2025-06-30T07:42:15.690875Z"
    }
   },
   "cell_type": "code",
   "source": [
    "## Max frequency plot with boat presence\n",
    "# Function to calculate distances toa hydrophone\n",
    "def haversine(lon1, lat1, lon2, lat2):\n",
    "\n",
    "    \"\"\"\n",
    "    Calculate the great circle distance between two points on the earth (specified in decimal degrees), returns distance in km.\n",
    "    \"\"\"\n",
    "    # Convert decimal degrees to radian\n",
    "    lat1, lon1, lat2, lon2 = map(np.radians, [lat1, lon1, lat2, lon2])\n",
    "\n",
    "    # haversine formula\n",
    "    dlat = lat2 - lat1\n",
    "    dlon = lon2 - lon1\n",
    "    a = np.sin(dlat/2.0)**2 + np.cos(lat1) * np.cos(lat2) * np.sin(dlon/2.0)**2\n",
    "    c = 2 * np.arcsin(np.sqrt(a))\n",
    "    r = 6371 # radius of earth in kilometers\n",
    "    return c * r\n",
    "\n",
    "hydrophone_lat, hydrophone_lon = hydrophone_location.get(hydrophone_number, (None, None))\n",
    "psd_reindexed.index = pd.to_datetime(psd_reindexed.index)\n",
    "\n",
    "freq_axis = psd_reindexed.columns.astype(float)\n",
    "max_freqs = psd_reindexed.apply(lambda row: freq_axis[np.argmax(row.values)], axis=1)\n",
    "\n",
    "# Create dataset\n",
    "dffq = pd.DataFrame({\n",
    "    \"datetime\": max_freqs.index,\n",
    "    \"max_freq\": max_freqs.values\n",
    "})\n",
    "dffq[\"hour\"] = dffq[\"datetime\"].dt.hour\n",
    "dffq[\"date\"] = dffq[\"datetime\"].dt.date\n",
    "\n",
    "diel_matrix = dffq.pivot_table(index=\"date\", columns=\"hour\", values=\"max_freq\").sort_index()\n",
    "\n",
    "# Load AIS data\n",
    "AIS_df = pd.read_pickle(AIS_dir)\n",
    "AIS_df['datetime'] = pd.to_datetime(AIS_df['datetime'])\n",
    "AIS_df['hour'] = AIS_df['datetime'].dt.hour + AIS_df['datetime'].dt.minute / 60\n",
    "AIS_df['date'] = AIS_df['datetime'].dt.date\n",
    "\n",
    "# Select 10 km radius around hydrophone\n",
    "if hydrophone_lat is not None and hydrophone_lon is not None:\n",
    "    # Calculate distance\n",
    "    AIS_df['distance_km'] = haversine(hydrophone_lat, hydrophone_lon, AIS_df['lat'], AIS_df['lon'])\n",
    "    AIS_nearby = AIS_df[AIS_df['distance_km'] <=15].copy() # Number of boats in a 10 km distance to the hydrophone\n",
    "else:\n",
    "    print(f\"Coordinates for hydrophone {hydrophone_number} not found.\")\n",
    "    AIS_nearby = AIS_df.copy()\n",
    "\n",
    "################\n",
    "# Select only one point for each boat's passages\n",
    "AIS_nearby = AIS_nearby.sort_values(['mmsi', 'datetime']).reset_index(drop=True)\n",
    "AIS_nearby['time_diff'] = AIS_nearby.groupby('mmsi')['datetime'].diff().dt.total_seconds()\n",
    "\n",
    "threshold_seconds = 3600\n",
    "\n",
    "AIS_nearby['new_session'] = (AIS_nearby['time_diff'] > threshold_seconds) | (AIS_nearby['time_diff'].isna())\n",
    "AIS_nearby['session_id'] = AIS_nearby.groupby('mmsi')['new_session'].cumsum()\n",
    "\n",
    "median_ais_sessions = AIS_nearby.groupby(['mmsi', 'session_id']).agg({\n",
    "    'datetime': 'median'\n",
    "}).reset_index()\n",
    "\n",
    "median_ais_sessions['hour'] = median_ais_sessions['datetime'].dt.hour + median_ais_sessions['datetime'].dt.minute / 60 + median_ais_sessions['datetime'].dt.second / 3600\n",
    "median_ais_sessions['date'] = median_ais_sessions['datetime'].dt.date\n",
    "\n",
    "date_list = diel_matrix.index.tolist()\n",
    "median_ais_sessions = median_ais_sessions[median_ais_sessions['date'].isin(date_list)].copy()\n",
    "median_ais_sessions['y_idx'] = median_ais_sessions['date'].apply(lambda d: date_list.index(d))\n",
    "#####################################\n",
    "\n",
    "# Plot\n",
    "fig, ax = plt.subplots(figsize=(16, 18))\n",
    "img = ax.imshow(diel_matrix, aspect='auto', cmap='viridis', origin='lower', extent=[0, 24, 0, len(date_list)])\n",
    "\n",
    "ax.scatter(median_ais_sessions['hour'], median_ais_sessions['y_idx'], marker='x', color='lightcoral', label='AIS signal', s=20, alpha=0.5)\n",
    "\n",
    "ax.set_xlabel(\"Hour\", fontsize=14)\n",
    "ax.set_ylabel(\"Date\", fontsize=14)\n",
    "# ax.set_yticks(np.arange(len(date_list))[::max(1, len(date_list)//10)])\n",
    "# ax.set_yticklabels([str(date) for date in date_list][::max(1, len(date_list)//10)])\n",
    "\n",
    "cbar = plt.colorbar(img, ax=ax)\n",
    "cbar.set_label(\"Frequency of maximum energy (Hz)\", fontsize=14)\n",
    "\n",
    "plt.tight_layout()\n",
    "plt.show()\n",
    "\n",
    "\n"
   ],
   "id": "1f8bbd0bdfa61876",
   "outputs": [
    {
     "name": "stderr",
     "output_type": "stream",
     "text": [
      "/tmp/ipykernel_4537/3318042813.py:73: MatplotlibDeprecationWarning: The get_cmap function was deprecated in Matplotlib 3.7 and will be removed in 3.11. Use ``matplotlib.colormaps[name]`` or ``matplotlib.colormaps.get_cmap()`` or ``pyplot.get_cmap()`` instead.\n",
      "  cmap = cm.get_cmap('viridis').copy()\n"
     ]
    }
   ],
   "execution_count": 32
  },
  {
   "metadata": {
    "ExecuteTime": {
     "end_time": "2025-06-30T07:43:13.421817Z",
     "start_time": "2025-06-30T07:43:13.418666Z"
    }
   },
   "cell_type": "code",
   "source": [
    "\n",
    "print(diel_matrix.isna().sum().sum())\n",
    "\n"
   ],
   "id": "462e55783e05f3d1",
   "outputs": [
    {
     "name": "stdout",
     "output_type": "stream",
     "text": [
      "12\n"
     ]
    }
   ],
   "execution_count": 33
  },
  {
   "metadata": {
    "ExecuteTime": {
     "end_time": "2025-06-27T13:26:01.809023Z",
     "start_time": "2025-06-27T13:25:57.343113Z"
    }
   },
   "cell_type": "code",
   "source": "",
   "id": "734f3b0d5e48b59a",
   "outputs": [],
   "execution_count": 12
  }
 ],
 "metadata": {
  "kernelspec": {
   "display_name": "Python 3",
   "language": "python",
   "name": "python3"
  },
  "language_info": {
   "codemirror_mode": {
    "name": "ipython",
    "version": 2
   },
   "file_extension": ".py",
   "mimetype": "text/x-python",
   "name": "python",
   "nbconvert_exporter": "python",
   "pygments_lexer": "ipython2",
   "version": "2.7.6"
  }
 },
 "nbformat": 4,
 "nbformat_minor": 5
}
