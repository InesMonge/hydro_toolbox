{
 "cells": [
  {
   "cell_type": "code",
   "id": "initial_id",
   "metadata": {
    "collapsed": true,
    "ExecuteTime": {
     "end_time": "2025-06-04T08:01:54.295029Z",
     "start_time": "2025-06-04T08:01:53.833986Z"
    }
   },
   "source": [
    "import os\n",
    "import pickle\n",
    "import numpy as np\n",
    "from matplotlib import pyplot as plt\n",
    "import matplotlib.dates as mdates"
   ],
   "outputs": [],
   "execution_count": 1
  },
  {
   "metadata": {
    "ExecuteTime": {
     "end_time": "2025-06-04T08:01:55.045352Z",
     "start_time": "2025-06-04T08:01:55.042621Z"
    }
   },
   "cell_type": "code",
   "source": [
    "# Name and unit catalog for each variable\n",
    "var_info = {\n",
    "    \"wind_speed\": (\"Wind speed\", \"m/s\", (0,14)),\n",
    "    \"current_speed\": (\"Current speed\", \"m/s\", (0,0.4)),\n",
    "    \"total_precipitation\": (\"Total precipitation\", \"m\", (0,0.12)),\n",
    "    \"wave_height\": (\"Wave height\", \"m\", (0,3)),\n",
    "    \"wave_period\": (\"Wave period\", \"s\", (0,14.5)),\n",
    "\n",
    "}\n",
    "# select the stations you want to plot. /!\\ You can only choose stations for one hydrophone\n",
    "hydrophones = [\"h1\", \"h2\", \"h3\", \"h4\"]\n",
    "variables = [\"wind_speed\", \"current_speed\", \"total_precipitation\", \"wave_height\", \"wave_period\"]"
   ],
   "id": "e6770cc074d901a0",
   "outputs": [],
   "execution_count": 2
  },
  {
   "metadata": {
    "ExecuteTime": {
     "end_time": "2025-06-02T08:02:03.118078Z",
     "start_time": "2025-06-02T08:01:56.410623Z"
    }
   },
   "cell_type": "code",
   "source": [
    "# Spectrogram plot\n",
    "for h in hydrophones:\n",
    "    fig, axs = plt.subplots(2, 3, figsize=(24, 10), sharex=False, sharey=True)\n",
    "    axs = axs.flatten()\n",
    "\n",
    "    for i, var in enumerate(variables):\n",
    "        with open(f\"../../../../data/test_correlation/data_soundscape/spectro_and_corr/{var}-{h}.pkl\", \"rb\") as f:\n",
    "            data = pickle.load(f)\n",
    "        psd_reindexed = data[\"psd\"]\n",
    "        variable_reindexed = data[\"variable\"]\n",
    "        time= data[\"time\"]\n",
    "        title_modifier = data[\"title\"]\n",
    "\n",
    "        var_name, unit, scale = var_info.get(var, (\"Unknown variable\", \"\", (0,1)))\n",
    "\n",
    "        ax1 = axs[i]\n",
    "        ax2 = ax1.twinx()\n",
    "\n",
    "        # Spectrogram\n",
    "        sp = ax1.imshow(\n",
    "            10*np.log10(psd_reindexed.T + 1e-12),\n",
    "            aspect=\"auto\",\n",
    "            origin=\"lower\",\n",
    "            cmap=\"viridis\",\n",
    "            extent=(time[0], time[-1], psd_reindexed.columns[0], psd_reindexed.columns[-1]),\n",
    "            vmin=10, vmax=95\n",
    "        )\n",
    "        # Overlay variable\n",
    "        ax2.plot(\n",
    "            time,\n",
    "            variable_reindexed.values,\n",
    "            color=\"red\",\n",
    "            alpha=0.6,\n",
    "            linewidth=0.5\n",
    "        )\n",
    "        ax1.grid(False)\n",
    "        ax2.grid(False)\n",
    "        ax1.xaxis.grid(color=\"gray\", linestyle=\"--\", alpha=0.5, zorder=1)\n",
    "\n",
    "        # Ticks and labels\n",
    "        if i% 3 == 0: # left column\n",
    "            ax1.set_ylabel(\"Frequency (Hz)\")\n",
    "        ax2.set_ylabel(f\"{var_name} ({unit})\", labelpad=10)\n",
    "        ax2.set_ylim(scale)\n",
    "\n",
    "        #Formatting time labels (only on bottom row)\n",
    "        ax1.xaxis.set_major_locator(mdates.MonthLocator(bymonth=[1, 7]))\n",
    "        ax1.xaxis.set_minor_locator(mdates.MonthLocator(bymonth=range(1, 13)))\n",
    "        ax1.tick_params(axis='x', which='major', direction='out', bottom=True, top=False, length=10, width=1)\n",
    "        ax1.tick_params(axis='x', which='minor', direction='out', bottom=True, top=False, length=5, width=0.5)\n",
    "        ax1.set_title(f\"{var_name} {title_modifier}\")\n",
    "\n",
    "        if i >= 2:\n",
    "            ax1.set_xlabel(\"Date\")\n",
    "        else:\n",
    "            ax1.xaxis.set_ticklabels([])\n",
    "\n",
    "    fig.delaxes(axs[5])\n",
    "    fig.suptitle(f\"Spectrogram with overlaid variable - {h}\", fontsize=16)\n",
    "    fig.tight_layout(rect=[0, 0.03, 1, 0.95]) # leave space for subtitle\n",
    "    fig.subplots_adjust(wspace=0.2) # horizontal space between figures\n",
    "\n",
    "    # Save figure\n",
    "    output_path = f\"/home/imonge/Documents/Abiotic/{h}/spectro_all\"\n",
    "    os.makedirs(output_path, exist_ok=True)\n",
    "    fig.savefig(os.path.join(output_path, f\"spectrogram_{h}.png\"))\n",
    "    plt.close(fig)"
   ],
   "id": "ac041ef0dc183e33",
   "outputs": [],
   "execution_count": 14
  },
  {
   "metadata": {
    "ExecuteTime": {
     "end_time": "2025-06-04T08:02:00.403213Z",
     "start_time": "2025-06-04T08:01:57.917352Z"
    }
   },
   "cell_type": "code",
   "source": [
    "# Correlations plot\n",
    "for h in hydrophones:\n",
    "    fig, axs = plt.subplots(2, 3, figsize=(20, 10), sharex=True, sharey=True)\n",
    "    axs = axs.flatten()\n",
    "\n",
    "    for i, var in enumerate(variables):\n",
    "        with open(f\"../../../../data/test_correlation/data_soundscape/spectro_and_corr/{var}-{h}.pkl\", \"rb\") as f:\n",
    "            data = pickle.load(f)\n",
    "        frequencies = data[\"frequencies\"]\n",
    "        correlations = data[\"correlations\"]\n",
    "\n",
    "        var_name, unit, scale = var_info.get(var, (\"Unknown variable\", \"\", (0,1)))\n",
    "\n",
    "        ax = axs[i]\n",
    "        ax.plot(frequencies, correlations, color=\"steelblue\", linewidth=0.5)\n",
    "        ax.axhline(0, color='gray', linestyle=\"--\", linewidth=1, alpha=0.5)\n",
    "\n",
    "        ax.set_yticks([round(t,1) for t in np.arange(-1, 1.01, 0.1)])\n",
    "        ax.tick_params(axis='y', labelleft=True)\n",
    "        ax.set_ylim(-0.4, 0.75)\n",
    "\n",
    "        if i >= 2: # bottom row\n",
    "            ax.set_xlabel(\"Frequency (Hz)\")\n",
    "            ax.tick_params(axis='x', labelbottom=True)\n",
    "        else:\n",
    "            ax.tick_params(axis='x', labelbottom=False)\n",
    "\n",
    "        ax.set_title(f\"{var_name}\", fontsize=12)\n",
    "\n",
    "    fig.delaxes(axs[5])\n",
    "    fig.suptitle(f\"Spearman's correlations between PSD median amplitude and variable - {h}\", fontsize=16)\n",
    "    fig.text(0.06, 0.5, \"Spearman's correlation coefficient\", va='center', rotation='vertical', fontsize=12)\n",
    "\n",
    "    fig.tight_layout(rect=[0.08, 0.03, 1, 0.95]) # leave space for subtitle\n",
    "    fig.subplots_adjust(wspace=0.2)\n",
    "\n",
    "    # Save figure\n",
    "    output_path = f\"/home/imonge/Documents/Abiotic/{h}/corr_all\"\n",
    "    os.makedirs(output_path, exist_ok=True)\n",
    "    fig.savefig(os.path.join(output_path, f\"spearman_corr_{h}.png\"))\n",
    "    plt.close(fig)"
   ],
   "id": "c30d2227879b8eab",
   "outputs": [
    {
     "name": "stderr",
     "output_type": "stream",
     "text": [
      "/tmp/ipykernel_11790/3326934637.py:38: UserWarning: FigureCanvasAgg is non-interactive, and thus cannot be shown\n",
      "  plt.show()\n"
     ]
    }
   ],
   "execution_count": 3
  }
 ],
 "metadata": {
  "kernelspec": {
   "display_name": "Python 3",
   "language": "python",
   "name": "python3"
  },
  "language_info": {
   "codemirror_mode": {
    "name": "ipython",
    "version": 2
   },
   "file_extension": ".py",
   "mimetype": "text/x-python",
   "name": "python",
   "nbconvert_exporter": "python",
   "pygments_lexer": "ipython2",
   "version": "2.7.6"
  }
 },
 "nbformat": 4,
 "nbformat_minor": 5
}
