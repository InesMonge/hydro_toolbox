{
 "cells": [
  {
   "metadata": {},
   "cell_type": "markdown",
   "source": "### This notebook can be used to visualise the current speed and direction for a chosen hydrophone and depth",
   "id": "1200474bc89110d1"
  },
  {
   "metadata": {
    "collapsed": true,
    "ExecuteTime": {
     "end_time": "2025-07-29T13:56:27.063669Z",
     "start_time": "2025-07-29T13:56:26.565952Z"
    }
   },
   "cell_type": "code",
   "source": [
    "import datetime\n",
    "import matplotlib.pyplot as plt\n",
    "import numpy as np\n",
    "import xarray as xr\n",
    "import matplotlib.dates as mdates\n",
    "from matplotlib.collections import LineCollection\n",
    "from matplotlib.colors import Normalize"
   ],
   "id": "initial_id",
   "outputs": [],
   "execution_count": 1
  },
  {
   "metadata": {
    "ExecuteTime": {
     "end_time": "2025-07-29T13:59:45.562502Z",
     "start_time": "2025-07-29T13:59:45.466989Z"
    }
   },
   "cell_type": "code",
   "source": [
    "hydro_number = 1\n",
    "depth_choice = 1300  # 50, 100, 500, 1300\n",
    "out_path = f\"/home/imonge/Documents/Abiotic/current_speed_different_depths_h{hydro_number}_depth{depth_choice}.png\"\n",
    "hydro_data = xr.open_dataset(f\"../../../../../../data/test_correlation/ERA5_concat/ERA5_MAHY*{hydro_number}_current_merged.nc\") # Path of a directory containing the hydrology data (copernicus) for the station selected\n",
    "\n",
    "date_start_current = datetime.datetime(2020,10,16,0,11,45)# exemple : début le 10/10/21 à 5h30 et 25s\n",
    "date_end_current = datetime.datetime(2024,9,26,12,46,24)"
   ],
   "id": "7db88196dc67eeb0",
   "outputs": [],
   "execution_count": 4
  },
  {
   "metadata": {
    "ExecuteTime": {
     "end_time": "2025-07-29T14:02:07.811858Z",
     "start_time": "2025-07-29T14:02:07.723870Z"
    }
   },
   "cell_type": "code",
   "source": [
    "## Plot\n",
    "time_data = hydro_data[\"time\"].values\n",
    "time_data = np.array([np.datetime64(t).astype('datetime64[s]').astype(datetime.datetime) for t in time_data])\n",
    "mask = (time_data >= date_start_current) & (time_data <= date_end_current)\n",
    "#time_data = np.array(time_data)[mask]\n",
    "\n",
    "depth_index = np.argmin(abs(hydro_data[\"depth\"].data-depth_choice)) # Finds the index in the dataset corresponding to the depth chosen\n",
    "uo = np.array(hydro_data[\"uo\"][:,depth_index])[mask].flatten()\n",
    "vo = np.array(hydro_data[\"vo\"][:,depth_index])[mask].flatten()\n",
    "\n",
    "# Speed and direction\n",
    "speed = np.sqrt(uo**2+vo**2)\n",
    "angle_rad = np.arctan2(uo, vo) # uo = north vo = east\n",
    "angle_deg= np.degrees((angle_rad) + 360) % 360 # 0-360°, 0° towards north\n",
    "\n",
    "x = mdates.date2num(time_data[mask])\n",
    "y = speed\n",
    "\n",
    "points = np.array([x, y]).T.reshape(-1, 1, 2)\n",
    "segments = np.concatenate([points[:-1], points[1:]], axis=1)\n",
    "\n",
    "norm = Normalize(vmin=0, vmax=360)\n",
    "lc = LineCollection(segments, cmap='hsv', norm=norm)\n",
    "lc.set_array(angle_deg[:-1])\n",
    "lc.set_linewidth(2)\n",
    "\n",
    "fig, ax = plt.subplots(figsize=(18, 8))\n",
    "ax.add_collection(lc)\n",
    "ax.set_xlim(x.min(), x.max())\n",
    "ax.set_ylim(0, np.nanmax(speed) * 1.1)\n",
    "\n",
    "ax.xaxis.set_major_locator(mdates.MonthLocator(interval=3))\n",
    "ax.xaxis.set_major_formatter(mdates.DateFormatter('%b %Y'))\n",
    "\n",
    "\n",
    "plt.title(f\"Current speed (depth {depth_choice} m) - color = direction [°] - hydrophone {hydro_number}\")\n",
    "plt.xlabel(\"Date\")\n",
    "plt.ylabel(\"Current speed (m/s)\")\n",
    "\n",
    "# Add colorbar\n",
    "cbar = plt.colorbar(lc, ax=ax)\n",
    "cbar.set_label('Current direction (° from North)')\n",
    "\n",
    "plt.tight_layout()\n",
    "plt.grid(True)\n",
    "\n",
    "# Show plot\n",
    "plt.show()\n",
    "\n",
    "## Save plot\n",
    "# plt.savefig(out_path)"
   ],
   "id": "d328266eb931c49e",
   "outputs": [
    {
     "name": "stderr",
     "output_type": "stream",
     "text": [
      "/tmp/ipykernel_51566/2477667759.py:49: UserWarning: FigureCanvasAgg is non-interactive, and thus cannot be shown\n",
      "  plt.show()\n"
     ]
    }
   ],
   "execution_count": 11
  }
 ],
 "metadata": {
  "kernelspec": {
   "display_name": "Python 3",
   "language": "python",
   "name": "python3"
  },
  "language_info": {
   "codemirror_mode": {
    "name": "ipython",
    "version": 2
   },
   "file_extension": ".py",
   "mimetype": "text/x-python",
   "name": "python",
   "nbconvert_exporter": "python",
   "pygments_lexer": "ipython2",
   "version": "2.7.6"
  }
 },
 "nbformat": 4,
 "nbformat_minor": 5
}
