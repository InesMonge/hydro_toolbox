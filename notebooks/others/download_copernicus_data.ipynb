{
 "cells": [
  {
   "metadata": {
    "ExecuteTime": {
     "end_time": "2025-05-12T08:20:06.327169Z",
     "start_time": "2025-05-12T08:20:04.630955Z"
    }
   },
   "cell_type": "code",
   "source": [
    "from utils.data_reading.sound_data.station import StationsCatalog\n",
    "import xarray as xr\n",
    "import copernicusmarine"
   ],
   "id": "9bdd57353be101b5",
   "outputs": [],
   "execution_count": 1
  },
  {
   "metadata": {
    "ExecuteTime": {
     "end_time": "2025-05-12T08:22:53.890789Z",
     "start_time": "2025-05-12T08:22:53.850831Z"
    }
   },
   "cell_type": "code",
   "source": [
    "catalog_path = \"/media/imonge/CORSAIR\" # Path of the hardware with MAHY data to retrieve the geographic coordinates of the hydrophones\n",
    "stations = StationsCatalog(catalog_path).by_dataset(\"MAHY0\")\n",
    "output = \"../../../data/test_correlation/COPER/2021-2024\" #Changer output pour reanalysis"
   ],
   "id": "956255c6c1149e4f",
   "outputs": [],
   "execution_count": 4
  },
  {
   "metadata": {
    "ExecuteTime": {
     "end_time": "2025-05-12T08:30:14.266329Z",
     "start_time": "2025-05-12T08:29:03.653649Z"
    }
   },
   "cell_type": "code",
   "source": [
    "years = \"2020-2021\"\n",
    "depth_min, depth_max = 0.5, 1500\n",
    "\n",
    "# Retrieve station boundaries\n",
    "for station in stations:\n",
    "    lat = station.get_pos()[0]\n",
    "    lon = station.get_pos()[1]\n",
    "    south_boundary = lat-0.1\n",
    "    north_boundary = lat+0.1\n",
    "    west_boundary = lon-0.1\n",
    "    east_boundary = lon+0.1\n",
    "\n",
    "    copernicusmarine.subset(\n",
    "        dataset_id=\"cmems_mod_glo_phy_my_0.083deg_P1D-m\",\n",
    "        variables=[\"uo\", \"vo\"],\n",
    "        minimum_longitude=west_boundary,\n",
    "        maximum_longitude=east_boundary,\n",
    "        minimum_latitude=south_boundary,\n",
    "        maximum_latitude=north_boundary,\n",
    "        start_datetime=\"2020-09-30T00:00:00\",\n",
    "        end_datetime=\"2021-06-30T00:00:00\",\n",
    "        minimum_depth=depth_min,\n",
    "        maximum_depth=depth_max,\n",
    "        output_directory = output,\n",
    "        output_filename=f\"{station.name}_{years}_monthly.nc\")"
   ],
   "id": "initial_id",
   "outputs": [
    {
     "name": "stderr",
     "output_type": "stream",
     "text": [
      "INFO - 2025-05-12T08:29:03Z - Downloading Copernicus Marine data requires a Copernicus Marine username and password, sign up for free at: https://data.marine.copernicus.eu/register\n"
     ]
    },
    {
     "name": "stdout",
     "output_type": "stream",
     "text": [
      "Copernicus Marine username:Copernicus Marine password:"
     ]
    },
    {
     "name": "stderr",
     "output_type": "stream",
     "text": [
      "INFO - 2025-05-12T08:29:12Z - Selected dataset version: \"202311\"\n",
      "INFO - 2025-05-12T08:29:12Z - Selected dataset part: \"default\"\n",
      "INFO - 2025-05-12T08:29:15Z - Starting download. Please wait...\n"
     ]
    },
    {
     "data": {
      "text/plain": [
       "  0%|          | 0/148 [00:00<?, ?it/s]"
      ],
      "application/vnd.jupyter.widget-view+json": {
       "version_major": 2,
       "version_minor": 0,
       "model_id": "21860e1a9c5943a3b1f1d7b497729dc3"
      }
     },
     "metadata": {},
     "output_type": "display_data"
    },
    {
     "name": "stderr",
     "output_type": "stream",
     "text": [
      "INFO - 2025-05-12T08:29:16Z - Successfully downloaded to ../../../data/test_correlation/COPER/2020-2021/MAHY01_2020-2021.nc\n",
      "INFO - 2025-05-12T08:29:16Z - Downloading Copernicus Marine data requires a Copernicus Marine username and password, sign up for free at: https://data.marine.copernicus.eu/register\n"
     ]
    },
    {
     "name": "stdout",
     "output_type": "stream",
     "text": [
      "Copernicus Marine username:Copernicus Marine password:"
     ]
    },
    {
     "name": "stderr",
     "output_type": "stream",
     "text": [
      "INFO - 2025-05-12T08:29:29Z - Selected dataset version: \"202311\"\n",
      "INFO - 2025-05-12T08:29:29Z - Selected dataset part: \"default\"\n",
      "INFO - 2025-05-12T08:29:33Z - Starting download. Please wait...\n"
     ]
    },
    {
     "data": {
      "text/plain": [
       "  0%|          | 0/592 [00:00<?, ?it/s]"
      ],
      "application/vnd.jupyter.widget-view+json": {
       "version_major": 2,
       "version_minor": 0,
       "model_id": "1bfd0ca8643f4a6d8cc5bf4ecf8d4466"
      }
     },
     "metadata": {},
     "output_type": "display_data"
    },
    {
     "name": "stderr",
     "output_type": "stream",
     "text": [
      "INFO - 2025-05-12T08:29:40Z - Successfully downloaded to ../../../data/test_correlation/COPER/2020-2021/MAHY02_2020-2021.nc\n",
      "INFO - 2025-05-12T08:29:40Z - Downloading Copernicus Marine data requires a Copernicus Marine username and password, sign up for free at: https://data.marine.copernicus.eu/register\n"
     ]
    },
    {
     "name": "stdout",
     "output_type": "stream",
     "text": [
      "Copernicus Marine username:Copernicus Marine password:"
     ]
    },
    {
     "name": "stderr",
     "output_type": "stream",
     "text": [
      "INFO - 2025-05-12T08:29:54Z - Selected dataset version: \"202311\"\n",
      "INFO - 2025-05-12T08:29:54Z - Selected dataset part: \"default\"\n",
      "INFO - 2025-05-12T08:29:57Z - Starting download. Please wait...\n"
     ]
    },
    {
     "data": {
      "text/plain": [
       "  0%|          | 0/148 [00:00<?, ?it/s]"
      ],
      "application/vnd.jupyter.widget-view+json": {
       "version_major": 2,
       "version_minor": 0,
       "model_id": "1806f37bf86c46aabaa71a21eabd6215"
      }
     },
     "metadata": {},
     "output_type": "display_data"
    },
    {
     "name": "stderr",
     "output_type": "stream",
     "text": [
      "INFO - 2025-05-12T08:29:59Z - Successfully downloaded to ../../../data/test_correlation/COPER/2020-2021/MAHY03_2020-2021.nc\n",
      "INFO - 2025-05-12T08:29:59Z - Downloading Copernicus Marine data requires a Copernicus Marine username and password, sign up for free at: https://data.marine.copernicus.eu/register\n"
     ]
    },
    {
     "name": "stdout",
     "output_type": "stream",
     "text": [
      "Copernicus Marine username:Copernicus Marine password:"
     ]
    },
    {
     "name": "stderr",
     "output_type": "stream",
     "text": [
      "INFO - 2025-05-12T08:30:10Z - Selected dataset version: \"202311\"\n",
      "INFO - 2025-05-12T08:30:10Z - Selected dataset part: \"default\"\n",
      "INFO - 2025-05-12T08:30:12Z - Starting download. Please wait...\n"
     ]
    },
    {
     "data": {
      "text/plain": [
       "  0%|          | 0/148 [00:00<?, ?it/s]"
      ],
      "application/vnd.jupyter.widget-view+json": {
       "version_major": 2,
       "version_minor": 0,
       "model_id": "6c05218ab9154448a17047c6170e1070"
      }
     },
     "metadata": {},
     "output_type": "display_data"
    },
    {
     "name": "stderr",
     "output_type": "stream",
     "text": [
      "INFO - 2025-05-12T08:30:14Z - Successfully downloaded to ../../../data/test_correlation/COPER/2020-2021/MAHY04_2020-2021.nc\n"
     ]
    }
   ],
   "execution_count": 6
  },
  {
   "metadata": {},
   "cell_type": "code",
   "outputs": [],
   "execution_count": null,
   "source": [
    "# Concatenate the definitive and interim datasets\n",
    "ds1 = xr.open_dataset(\"/data_copernicus/temporally_disconnected/h4/h4_2020-10-13_to_2021-06-30.nc\") # Path to the first file\n",
    "ds2 = xr.open_dataset(\"/data_copernicus/temporally_disconnected/h4/h4_2021-07-01_to_2024-09-27.nc\") # Path to the second file\n",
    "ds_concat = xr.concat([ds1, ds2], dim='time')\n",
    "ds_concat.to_netcdf(\"h4_total_time.nc\") # Name the concatenated new file"
   ],
   "id": "6b4b8d7ced76b0e"
  }
 ],
 "metadata": {
  "kernelspec": {
   "display_name": "Python 3",
   "language": "python",
   "name": "python3"
  },
  "language_info": {
   "codemirror_mode": {
    "name": "ipython",
    "version": 2
   },
   "file_extension": ".py",
   "mimetype": "text/x-python",
   "name": "python",
   "nbconvert_exporter": "python",
   "pygments_lexer": "ipython2",
   "version": "2.7.6"
  }
 },
 "nbformat": 4,
 "nbformat_minor": 5
}
