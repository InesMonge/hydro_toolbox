{
 "cells": [
  {
   "cell_type": "code",
   "id": "initial_id",
   "metadata": {
    "collapsed": true,
    "ExecuteTime": {
     "end_time": "2025-04-02T13:05:10.493953Z",
     "start_time": "2025-04-02T13:05:10.486733Z"
    }
   },
   "source": [
    "#Lib importation\n",
    "import os\n",
    "import sys\n",
    "import librosa\n",
    "import matplotlib.pyplot as plt\n",
    "from tqdm import tqdm\n",
    "import glob\n",
    "import pandas as pd\n",
    "import numpy as np\n",
    "from matplotlib.lines import Line2D"
   ],
   "outputs": [],
   "execution_count": 4
  },
  {
   "metadata": {
    "ExecuteTime": {
     "end_time": "2025-04-02T13:05:17.632013Z",
     "start_time": "2025-04-02T13:05:17.629431Z"
    }
   },
   "cell_type": "code",
   "source": [
    "#Init model name and add path\n",
    "model = 'mscl_cnn14_pt'\n",
    "path_model = model\n",
    "sys.path.append(os.path.join(os.getcwd(),'models',path_model))\n",
    "sys.path.append(os.path.join(os.getcwd(),'models','utils'))"
   ],
   "id": "b49b4fb94c2c7d66",
   "outputs": [],
   "execution_count": 5
  },
  {
   "metadata": {
    "ExecuteTime": {
     "end_time": "2025-04-02T13:05:43.953154Z",
     "start_time": "2025-04-02T13:05:43.250037Z"
    }
   },
   "cell_type": "code",
   "source": [
    "#Import model as python class\n",
    "from whale_detector.models.mscl_cnn14_pt.pyclass_model import Model\n",
    "model = Model(os.path.join('/home/imonge/PycharmProjects/PythonProject/toolbox', 'src', 'whale_detector', 'models'))"
   ],
   "id": "ea095f88e92ca16b",
   "outputs": [
    {
     "ename": "KeyboardInterrupt",
     "evalue": "",
     "output_type": "error",
     "traceback": [
      "\u001B[31m---------------------------------------------------------------------------\u001B[39m",
      "\u001B[31mKeyboardInterrupt\u001B[39m                         Traceback (most recent call last)",
      "\u001B[36mCell\u001B[39m\u001B[36m \u001B[39m\u001B[32mIn[7]\u001B[39m\u001B[32m, line 3\u001B[39m\n\u001B[32m      1\u001B[39m \u001B[38;5;66;03m#Import model as python class\u001B[39;00m\n\u001B[32m      2\u001B[39m \u001B[38;5;28;01mfrom\u001B[39;00m\u001B[38;5;250m \u001B[39m\u001B[34;01mwhale_detector\u001B[39;00m\u001B[34;01m.\u001B[39;00m\u001B[34;01mmodels\u001B[39;00m\u001B[34;01m.\u001B[39;00m\u001B[34;01mmscl_cnn14_pt\u001B[39;00m\u001B[34;01m.\u001B[39;00m\u001B[34;01mpyclass_model\u001B[39;00m\u001B[38;5;250m \u001B[39m\u001B[38;5;28;01mimport\u001B[39;00m Model\n\u001B[32m----> \u001B[39m\u001B[32m3\u001B[39m model = \u001B[43mModel\u001B[49m\u001B[43m(\u001B[49m\u001B[43mos\u001B[49m\u001B[43m.\u001B[49m\u001B[43mpath\u001B[49m\u001B[43m.\u001B[49m\u001B[43mjoin\u001B[49m\u001B[43m(\u001B[49m\u001B[33;43m'\u001B[39;49m\u001B[33;43m/home/imonge/PycharmProjects/PythonProject/toolbox\u001B[39;49m\u001B[33;43m'\u001B[39;49m\u001B[43m,\u001B[49m\u001B[43m \u001B[49m\u001B[33;43m'\u001B[39;49m\u001B[33;43msrc\u001B[39;49m\u001B[33;43m'\u001B[39;49m\u001B[43m,\u001B[49m\u001B[43m \u001B[49m\u001B[33;43m'\u001B[39;49m\u001B[33;43mwhale_detector\u001B[39;49m\u001B[33;43m'\u001B[39;49m\u001B[43m,\u001B[49m\u001B[43m \u001B[49m\u001B[33;43m'\u001B[39;49m\u001B[33;43mmodels\u001B[39;49m\u001B[33;43m'\u001B[39;49m\u001B[43m)\u001B[49m\u001B[43m)\u001B[49m\n",
      "\u001B[36mFile \u001B[39m\u001B[32m~/PycharmProjects/PythonProject/toolbox/src/whale_detector/models/mscl_cnn14_pt/pyclass_model.py:45\u001B[39m, in \u001B[36mModel.__init__\u001B[39m\u001B[34m(self, base_path)\u001B[39m\n\u001B[32m     41\u001B[39m \u001B[38;5;28mself\u001B[39m.architecture_encoder = \u001B[33m'\u001B[39m\u001B[33mcnn14\u001B[39m\u001B[33m'\u001B[39m\n\u001B[32m     43\u001B[39m \u001B[38;5;28mself\u001B[39m.trans = transform\n\u001B[32m---> \u001B[39m\u001B[32m45\u001B[39m \u001B[38;5;28mself\u001B[39m.encoder = \u001B[43mCNN14\u001B[49m\u001B[43m(\u001B[49m\u001B[43mnum_classes\u001B[49m\u001B[43m=\u001B[49m\u001B[38;5;28;43mself\u001B[39;49m\u001B[43m.\u001B[49m\u001B[43mDEFAULT_NUM_CLASSES\u001B[49m\u001B[43m,\u001B[49m\u001B[43m \u001B[49m\u001B[43mdo_dropout\u001B[49m\u001B[43m=\u001B[49m\u001B[38;5;28;43;01mTrue\u001B[39;49;00m\u001B[43m,\u001B[49m\u001B[43m \u001B[49m\u001B[43membed_only\u001B[49m\u001B[43m=\u001B[49m\u001B[38;5;28;43;01mTrue\u001B[39;49;00m\u001B[43m,\u001B[49m\u001B[43m \u001B[49m\u001B[43mdevice\u001B[49m\u001B[43m=\u001B[49m\u001B[38;5;28;43mself\u001B[39;49m\u001B[43m.\u001B[49m\u001B[43mdevice\u001B[49m\u001B[43m)\u001B[49m\n\u001B[32m     46\u001B[39m \u001B[38;5;28mself\u001B[39m.classifier = LinearClassifier(name=\u001B[38;5;28mself\u001B[39m.architecture_encoder, num_classes=\u001B[38;5;28mself\u001B[39m.DEFAULT_NUM_CLASSES, device=\u001B[38;5;28mself\u001B[39m.device)\n\u001B[32m     48\u001B[39m \u001B[38;5;28mself\u001B[39m.encoder.load_state_dict(torch.load(base_path + os.sep + \u001B[38;5;28mself\u001B[39m.model_folder + os.sep + \u001B[33m'\u001B[39m\u001B[33mweights\u001B[39m\u001B[33m'\u001B[39m + os.sep + \u001B[38;5;28mself\u001B[39m.model_folder + \u001B[33m'\u001B[39m\u001B[33m_encoder.pt\u001B[39m\u001B[33m'\u001B[39m))\n",
      "\u001B[36mFile \u001B[39m\u001B[32m~/PycharmProjects/PythonProject/toolbox/src/whale_detector/models/utils/models.py:154\u001B[39m, in \u001B[36mCNN14.__init__\u001B[39m\u001B[34m(self, num_classes, do_dropout, embed_only, device)\u001B[39m\n\u001B[32m    151\u001B[39m \u001B[38;5;28;01mdef\u001B[39;00m\u001B[38;5;250m \u001B[39m\u001B[34m__init__\u001B[39m(\u001B[38;5;28mself\u001B[39m, num_classes=\u001B[32m7\u001B[39m, do_dropout=\u001B[38;5;28;01mFalse\u001B[39;00m, embed_only=\u001B[38;5;28;01mFalse\u001B[39;00m, device=\u001B[33m\"\u001B[39m\u001B[33mcuda\u001B[39m\u001B[33m\"\u001B[39m):\n\u001B[32m    152\u001B[39m     \u001B[38;5;28msuper\u001B[39m(CNN14, \u001B[38;5;28mself\u001B[39m).\u001B[34m__init__\u001B[39m()\n\u001B[32m--> \u001B[39m\u001B[32m154\u001B[39m     \u001B[38;5;28mself\u001B[39m.cnn14 = \u001B[43m_CNN14\u001B[49m\u001B[43m(\u001B[49m\u001B[43mnum_classes\u001B[49m\u001B[43m=\u001B[49m\u001B[43mnum_classes\u001B[49m\u001B[43m,\u001B[49m\u001B[43m \u001B[49m\u001B[43mdo_dropout\u001B[49m\u001B[43m=\u001B[49m\u001B[43mdo_dropout\u001B[49m\u001B[43m,\u001B[49m\u001B[43m \u001B[49m\u001B[43membed_only\u001B[49m\u001B[43m=\u001B[49m\u001B[43membed_only\u001B[49m\u001B[43m)\u001B[49m.to(device)\n",
      "\u001B[36mFile \u001B[39m\u001B[32m~/PycharmProjects/PythonProject/toolbox/src/whale_detector/models/utils/models.py:116\u001B[39m, in \u001B[36m_CNN14.__init__\u001B[39m\u001B[34m(self, num_classes, do_dropout, embed_only)\u001B[39m\n\u001B[32m    114\u001B[39m \u001B[38;5;28mself\u001B[39m.conv_block4 = ConvBlock(in_channels=\u001B[32m256\u001B[39m, out_channels=\u001B[32m512\u001B[39m)\n\u001B[32m    115\u001B[39m \u001B[38;5;28mself\u001B[39m.conv_block5 = ConvBlock(in_channels=\u001B[32m512\u001B[39m, out_channels=\u001B[32m1024\u001B[39m)\n\u001B[32m--> \u001B[39m\u001B[32m116\u001B[39m \u001B[38;5;28mself\u001B[39m.conv_block6 = \u001B[43mConvBlock\u001B[49m\u001B[43m(\u001B[49m\u001B[43min_channels\u001B[49m\u001B[43m=\u001B[49m\u001B[32;43m1024\u001B[39;49m\u001B[43m,\u001B[49m\u001B[43m \u001B[49m\u001B[43mout_channels\u001B[49m\u001B[43m=\u001B[49m\u001B[32;43m2048\u001B[39;49m\u001B[43m)\u001B[49m\n\u001B[32m    117\u001B[39m \u001B[38;5;28mself\u001B[39m.dropout = nn.Dropout(\u001B[32m0.2\u001B[39m)\n\u001B[32m    118\u001B[39m \u001B[38;5;28mself\u001B[39m.linear = nn.Linear(\u001B[32m2048\u001B[39m, num_classes, bias=\u001B[38;5;28;01mTrue\u001B[39;00m)\n",
      "\u001B[36mFile \u001B[39m\u001B[32m~/PycharmProjects/PythonProject/toolbox/src/whale_detector/models/utils/models.py:42\u001B[39m, in \u001B[36mConvBlock.__init__\u001B[39m\u001B[34m(self, in_channels, out_channels)\u001B[39m\n\u001B[32m     39\u001B[39m \u001B[38;5;28mself\u001B[39m.bn1 = nn.BatchNorm2d(out_channels)\n\u001B[32m     40\u001B[39m \u001B[38;5;28mself\u001B[39m.bn2 = nn.BatchNorm2d(out_channels)\n\u001B[32m---> \u001B[39m\u001B[32m42\u001B[39m \u001B[38;5;28;43mself\u001B[39;49m\u001B[43m.\u001B[49m\u001B[43minit_weight\u001B[49m\u001B[43m(\u001B[49m\u001B[43m)\u001B[49m\n",
      "\u001B[36mFile \u001B[39m\u001B[32m~/PycharmProjects/PythonProject/toolbox/src/whale_detector/models/utils/models.py:46\u001B[39m, in \u001B[36mConvBlock.init_weight\u001B[39m\u001B[34m(self)\u001B[39m\n\u001B[32m     44\u001B[39m \u001B[38;5;28;01mdef\u001B[39;00m\u001B[38;5;250m \u001B[39m\u001B[34minit_weight\u001B[39m(\u001B[38;5;28mself\u001B[39m):\n\u001B[32m     45\u001B[39m     init_layer(\u001B[38;5;28mself\u001B[39m.conv1)\n\u001B[32m---> \u001B[39m\u001B[32m46\u001B[39m     \u001B[43minit_layer\u001B[49m\u001B[43m(\u001B[49m\u001B[38;5;28;43mself\u001B[39;49m\u001B[43m.\u001B[49m\u001B[43mconv2\u001B[49m\u001B[43m)\u001B[49m\n\u001B[32m     47\u001B[39m     init_bn(\u001B[38;5;28mself\u001B[39m.bn1)\n\u001B[32m     48\u001B[39m     init_bn(\u001B[38;5;28mself\u001B[39m.bn2)\n",
      "\u001B[36mFile \u001B[39m\u001B[32m~/PycharmProjects/PythonProject/toolbox/src/whale_detector/models/utils/models.py:14\u001B[39m, in \u001B[36minit_layer\u001B[39m\u001B[34m(layer)\u001B[39m\n\u001B[32m     12\u001B[39m \u001B[38;5;28;01mdef\u001B[39;00m\u001B[38;5;250m \u001B[39m\u001B[34minit_layer\u001B[39m(layer):\n\u001B[32m     13\u001B[39m \u001B[38;5;250m    \u001B[39m\u001B[33;03m\"\"\"Initialize a Linear or Convolutional layer. \"\"\"\u001B[39;00m\n\u001B[32m---> \u001B[39m\u001B[32m14\u001B[39m     \u001B[43mnn\u001B[49m\u001B[43m.\u001B[49m\u001B[43minit\u001B[49m\u001B[43m.\u001B[49m\u001B[43mxavier_uniform_\u001B[49m\u001B[43m(\u001B[49m\u001B[43mlayer\u001B[49m\u001B[43m.\u001B[49m\u001B[43mweight\u001B[49m\u001B[43m)\u001B[49m\n\u001B[32m     15\u001B[39m     \u001B[38;5;28;01mif\u001B[39;00m \u001B[38;5;28mhasattr\u001B[39m(layer, \u001B[33m'\u001B[39m\u001B[33mbias\u001B[39m\u001B[33m'\u001B[39m):\n\u001B[32m     16\u001B[39m         \u001B[38;5;28;01mif\u001B[39;00m layer.bias \u001B[38;5;129;01mis\u001B[39;00m \u001B[38;5;129;01mnot\u001B[39;00m \u001B[38;5;28;01mNone\u001B[39;00m:\n",
      "\u001B[36mFile \u001B[39m\u001B[32m~/PycharmProjects/PythonProject/.venv/lib/python3.13/site-packages/torch/nn/init.py:404\u001B[39m, in \u001B[36mxavier_uniform_\u001B[39m\u001B[34m(tensor, gain, generator)\u001B[39m\n\u001B[32m    401\u001B[39m std = gain * math.sqrt(\u001B[32m2.0\u001B[39m / \u001B[38;5;28mfloat\u001B[39m(fan_in + fan_out))\n\u001B[32m    402\u001B[39m a = math.sqrt(\u001B[32m3.0\u001B[39m) * std  \u001B[38;5;66;03m# Calculate uniform bounds from standard deviation\u001B[39;00m\n\u001B[32m--> \u001B[39m\u001B[32m404\u001B[39m \u001B[38;5;28;01mreturn\u001B[39;00m \u001B[43m_no_grad_uniform_\u001B[49m\u001B[43m(\u001B[49m\u001B[43mtensor\u001B[49m\u001B[43m,\u001B[49m\u001B[43m \u001B[49m\u001B[43m-\u001B[49m\u001B[43ma\u001B[49m\u001B[43m,\u001B[49m\u001B[43m \u001B[49m\u001B[43ma\u001B[49m\u001B[43m,\u001B[49m\u001B[43m \u001B[49m\u001B[43mgenerator\u001B[49m\u001B[43m)\u001B[49m\n",
      "\u001B[36mFile \u001B[39m\u001B[32m~/PycharmProjects/PythonProject/.venv/lib/python3.13/site-packages/torch/nn/init.py:17\u001B[39m, in \u001B[36m_no_grad_uniform_\u001B[39m\u001B[34m(tensor, a, b, generator)\u001B[39m\n\u001B[32m     15\u001B[39m \u001B[38;5;28;01mdef\u001B[39;00m\u001B[38;5;250m \u001B[39m\u001B[34m_no_grad_uniform_\u001B[39m(tensor, a, b, generator=\u001B[38;5;28;01mNone\u001B[39;00m):\n\u001B[32m     16\u001B[39m     \u001B[38;5;28;01mwith\u001B[39;00m torch.no_grad():\n\u001B[32m---> \u001B[39m\u001B[32m17\u001B[39m         \u001B[38;5;28;01mreturn\u001B[39;00m \u001B[43mtensor\u001B[49m\u001B[43m.\u001B[49m\u001B[43muniform_\u001B[49m\u001B[43m(\u001B[49m\u001B[43ma\u001B[49m\u001B[43m,\u001B[49m\u001B[43m \u001B[49m\u001B[43mb\u001B[49m\u001B[43m,\u001B[49m\u001B[43m \u001B[49m\u001B[43mgenerator\u001B[49m\u001B[43m=\u001B[49m\u001B[43mgenerator\u001B[49m\u001B[43m)\u001B[49m\n",
      "\u001B[31mKeyboardInterrupt\u001B[39m: "
     ]
    }
   ],
   "execution_count": 7
  },
  {
   "metadata": {
    "ExecuteTime": {
     "end_time": "2025-03-26T08:17:27.891423Z",
     "start_time": "2025-03-26T08:17:27.887924Z"
    }
   },
   "cell_type": "code",
   "source": [
    "#Get example audio file\n",
    "audio_path = '/home/imonge/Téléchargements/Automated-detectors-of-Antarctic-baleen-whale-sounds-main/data_exemple'\n",
    "audio_file = glob.glob(audio_path + os.sep + '*.wav')"
   ],
   "id": "29b5428f5341698c",
   "outputs": [],
   "execution_count": 4
  },
  {
   "metadata": {
    "ExecuteTime": {
     "end_time": "2025-03-26T08:17:40.991699Z",
     "start_time": "2025-03-26T08:17:30.359544Z"
    }
   },
   "cell_type": "code",
   "source": [
    "# Load audio and apply detection model\n",
    "lenght_file = 50 #audio section duration (s)\n",
    "sample_rate = 250 #sampling rate (Hz)\n",
    "\n",
    "outputs = {}\n",
    "for file in tqdm(audio_file):\n",
    "    duration = librosa.get_duration(filename=file)\n",
    "    outputs[file] = np.zeros([int(duration/lenght_file), 7])\n",
    "\n",
    "plot_i = 0\n",
    "#loop over files\n",
    "for file in (audio_file):\n",
    "    duration = librosa.get_duration(filename=file)\n",
    "    number_of_sections = int(duration/lenght_file)\n",
    "    #loop over sections\n",
    "    for i in tqdm(range(number_of_sections), desc=file):\n",
    "        #Load 50-second audio section and resample at 250Hz\n",
    "        audio, sr = librosa.load(file, sr=sample_rate, mono=True, offset=i*lenght_file, duration=lenght_file)\n",
    "        outputs[file][i,:] = model.apply_model(audio)"
   ],
   "id": "344ec9ecfd686581",
   "outputs": [
    {
     "name": "stderr",
     "output_type": "stream",
     "text": [
      "  0%|          | 0/2 [00:00<?, ?it/s]/tmp/ipykernel_100557/1918672332.py:7: FutureWarning: get_duration() keyword argument 'filename' has been renamed to 'path' in version 0.10.0.\n",
      "\tThis alias will be removed in version 1.0.\n",
      "  duration = librosa.get_duration(filename=file)\n",
      "100%|██████████| 2/2 [00:03<00:00,  1.62s/it]\n",
      "/tmp/ipykernel_100557/1918672332.py:13: FutureWarning: get_duration() keyword argument 'filename' has been renamed to 'path' in version 0.10.0.\n",
      "\tThis alias will be removed in version 1.0.\n",
      "  duration = librosa.get_duration(filename=file)\n",
      "/home/imonge/Téléchargements/Automated-detectors-of-Antarctic-baleen-whale-sounds-main/data_exemple/0604.DAT.wav:   0%|          | 0/466 [00:07<?, ?it/s]\n"
     ]
    },
    {
     "ename": "AttributeError",
     "evalue": "'str' object has no attribute 'apply_model'",
     "output_type": "error",
     "traceback": [
      "\u001B[0;31m---------------------------------------------------------------------------\u001B[0m",
      "\u001B[0;31mAttributeError\u001B[0m                            Traceback (most recent call last)",
      "Cell \u001B[0;32mIn[5], line 19\u001B[0m\n\u001B[1;32m     16\u001B[0m \u001B[38;5;28;01mfor\u001B[39;00m i \u001B[38;5;129;01min\u001B[39;00m tqdm(\u001B[38;5;28mrange\u001B[39m(number_of_sections), desc\u001B[38;5;241m=\u001B[39mfile):\n\u001B[1;32m     17\u001B[0m     \u001B[38;5;66;03m#Load 50-second audio section and resample at 250Hz\u001B[39;00m\n\u001B[1;32m     18\u001B[0m     audio, sr \u001B[38;5;241m=\u001B[39m librosa\u001B[38;5;241m.\u001B[39mload(file, sr\u001B[38;5;241m=\u001B[39msample_rate, mono\u001B[38;5;241m=\u001B[39m\u001B[38;5;28;01mTrue\u001B[39;00m, offset\u001B[38;5;241m=\u001B[39mi\u001B[38;5;241m*\u001B[39mlenght_file, duration\u001B[38;5;241m=\u001B[39mlenght_file)\n\u001B[0;32m---> 19\u001B[0m     outputs[file][i,:] \u001B[38;5;241m=\u001B[39m \u001B[43mmodel\u001B[49m\u001B[38;5;241;43m.\u001B[39;49m\u001B[43mapply_model\u001B[49m(audio)\n",
      "\u001B[0;31mAttributeError\u001B[0m: 'str' object has no attribute 'apply_model'"
     ]
    }
   ],
   "execution_count": 5
  },
  {
   "metadata": {},
   "cell_type": "code",
   "outputs": [],
   "execution_count": null,
   "source": [
    "#Annotations\n",
    "for file in audio_file:\n",
    "    xl_data = pd.read_csv('data_exemple' + os.sep + os.path.basename(file)[:-4] + '.Table.1.selections.txt' , sep='\\t', index_col=False)\n",
    "\n",
    "    for min, max in [[0,6000], [6000,12000], [12000,18000], [18000,24000]]:\n",
    "\n",
    "        plt.figure(figsize=(12,4))\n",
    "\n",
    "        for i in range(len(xl_data)):\n",
    "            start = xl_data['Begin Time (s)'][i]\n",
    "            stop = xl_data['End Time (s)'][i]\n",
    "            #print(start, stop)\n",
    "            plt.bar(np.array([start, stop]), np.ones(2), color='g', label=str(i), width=50, alpha=0.3)\n",
    "\n",
    "        nb_seg, _ = np.shape(outputs[file])\n",
    "        time = np.linspace(0,nb_seg * 50, nb_seg)\n",
    "        plt.step(time+50, outputs[file][:,6], color='b', alpha=1)\n",
    "        plt.grid()\n",
    "        plt.title(file)\n",
    "        plt.xlabel('Time (s)')\n",
    "        #plt.legend()\n",
    "        plt.xlim([min, max])\n",
    "\n",
    "        custom_lines = [Line2D([0], [0], color='blue', lw=0.8),\n",
    "                        Line2D([0], [0], color='green', alpha=0.3, lw=4)]\n",
    "\n",
    "\n",
    "        plt.legend(custom_lines, ['Model output for Dcall', 'Dcall annotated'])"
   ],
   "id": "5ab79110ffe8dfbe"
  },
  {
   "metadata": {},
   "cell_type": "code",
   "outputs": [],
   "execution_count": null,
   "source": "",
   "id": "ff9c7e43924d47c"
  }
 ],
 "metadata": {
  "kernelspec": {
   "display_name": "Python 3",
   "language": "python",
   "name": "python3"
  },
  "language_info": {
   "codemirror_mode": {
    "name": "ipython",
    "version": 2
   },
   "file_extension": ".py",
   "mimetype": "text/x-python",
   "name": "python",
   "nbconvert_exporter": "python",
   "pygments_lexer": "ipython2",
   "version": "2.7.6"
  }
 },
 "nbformat": 4,
 "nbformat_minor": 5
}
