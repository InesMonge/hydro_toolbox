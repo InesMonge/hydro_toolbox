{
 "cells": [
  {
   "metadata": {},
   "cell_type": "code",
   "outputs": [],
   "execution_count": null,
   "source": "import copernicusmarine",
   "id": "9bdd57353be101b5"
  },
  {
   "metadata": {
    "collapsed": true
   },
   "cell_type": "code",
   "outputs": [],
   "execution_count": null,
   "source": [
    "#Import data from Copernicus -> import the data from one station and for the whole duration of a campaign\n",
    "\n",
    "lon_min, lon_max, lat_min, lat_max = 45.54, 45.56, -12.51, -12.49 # Select the latitude and longitude from one station\n",
    "dataset = \"cmems_mod_glo_phy_myint_0.083deg_P1D-m\"\n",
    "\n",
    "date_start_str = \"2021-07-01T00:00:00\" # Start of campaign\n",
    "date_end_str = \"2024-09-28T00:00:00\" # End of campaign\n",
    "date_start = datetime.strptime(date_start_str, '%Y-%m-%dT%H:%M:%S')\n",
    "date_end = datetime.strptime(date_end_str, '%Y-%m-%dT%H:%M:%S')\n",
    "\n",
    "# This process must be done for the definitive data and the interim data (change date_start_str and date_end_str)\n",
    "\n",
    "variables = ['uo','vo'] # Variables extracted from the dataset\n",
    "output = '.'\n",
    "depth_min, depth_max = 0, 6000\n",
    "copernicusmarine.subset(\n",
    "        dataset_id=dataset,\n",
    "        variables=variables,\n",
    "        minimum_longitude=lon_min,\n",
    "        maximum_longitude=lon_max,\n",
    "        minimum_latitude=lat_min,\n",
    "        maximum_latitude=lat_max,\n",
    "        start_datetime=date_start,\n",
    "        end_datetime=date_end,\n",
    "        minimum_depth=0,\n",
    "        maximum_depth=depth_max,\n",
    "        output_directory = output)\n",
    "\n",
    "# Concatenate the definitive and interime datasets\n",
    "\n",
    "ds1 = xr.open_dataset(\"/data_copernicus/temporally_disconnected/h4/h4_2020-10-13_to_2021-06-30.nc\") # Path to the first file\n",
    "ds2 = xr.open_dataset(\"/data_copernicus/temporally_disconnected/h4/h4_2021-07-01_to_2024-09-27.nc\") # Path to the second file\n",
    "ds_concat = xr.concat([ds1, ds2], dim='time')\n",
    "ds_concat.to_netcdf(\"h4_total_time.nc\") # Name the concatenated new file"
   ],
   "id": "initial_id"
  }
 ],
 "metadata": {
  "kernelspec": {
   "display_name": "Python 3",
   "language": "python",
   "name": "python3"
  },
  "language_info": {
   "codemirror_mode": {
    "name": "ipython",
    "version": 2
   },
   "file_extension": ".py",
   "mimetype": "text/x-python",
   "name": "python",
   "nbconvert_exporter": "python",
   "pygments_lexer": "ipython2",
   "version": "2.7.6"
  }
 },
 "nbformat": 4,
 "nbformat_minor": 5
}
