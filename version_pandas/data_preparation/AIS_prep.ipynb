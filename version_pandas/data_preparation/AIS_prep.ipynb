{
 "cells": [
  {
   "cell_type": "code",
   "id": "initial_id",
   "metadata": {
    "collapsed": true,
    "ExecuteTime": {
     "end_time": "2025-05-21T14:40:08.930972Z",
     "start_time": "2025-05-21T14:40:08.928304Z"
    }
   },
   "source": [
    "import pandas as pd\n",
    "import glob\n",
    "import os"
   ],
   "outputs": [],
   "execution_count": 3
  },
  {
   "metadata": {
    "ExecuteTime": {
     "end_time": "2025-05-21T14:40:11.674672Z",
     "start_time": "2025-05-21T14:40:11.672467Z"
    }
   },
   "cell_type": "code",
   "source": [
    "AIS_dir = \"/home/imonge/Documents/AIS\"\n",
    "output_dir = \"../../../../data/test_correlation/AIS/AIS.pkl\""
   ],
   "id": "4cfb3f2c6a183577",
   "outputs": [],
   "execution_count": 4
  },
  {
   "metadata": {},
   "cell_type": "code",
   "outputs": [],
   "execution_count": null,
   "source": "#### Data Preparation ####",
   "id": "2e4f8940a4b76e1f"
  },
  {
   "metadata": {
    "ExecuteTime": {
     "end_time": "2025-05-21T14:40:31.686669Z",
     "start_time": "2025-05-21T14:40:14.357269Z"
    }
   },
   "cell_type": "code",
   "source": [
    "## Retrieve csv files\n",
    "csv_files = glob.glob(os.path.join(AIS_dir, \"*.csv\"))\n",
    "dataframes = []\n",
    "\n",
    "# Load each file as a DataFrame\n",
    "for file in csv_files:\n",
    "    try:\n",
    "        df = pd.read_csv(file, parse_dates=[\"datetime\"])\n",
    "        dataframes.append(df)\n",
    "    except Exception as e:\n",
    "        print(f\"Erreur lors de la lecture de {file} : {e}\")\n",
    "\n",
    "# Merge csv\n",
    "AIS = pd.concat(dataframes, ignore_index=True)\n",
    "\n",
    "# Standardise columns names\n",
    "AIS.rename(columns=lambda x: x.strip().lower(), inplace=True)\n",
    "\n",
    "# Convert 0 for width and length and draught in NaN\n",
    "AIS[\"length\"] = AIS[\"length\"].replace(0, pd.NA)\n",
    "AIS[\"width\"] = AIS[\"width\"].replace(0, pd.NA)\n",
    "AIS[\"draught\"] = AIS[\"draught\"].replace(0, pd.NA)"
   ],
   "id": "ddcaaa1baa8ad8f7",
   "outputs": [
    {
     "name": "stderr",
     "output_type": "stream",
     "text": [
      "/tmp/ipykernel_63363/3078811834.py:8: UserWarning: Could not infer format, so each element will be parsed individually, falling back to `dateutil`. To ensure parsing is consistent and as-expected, please specify a format.\n",
      "  df = pd.read_csv(file, parse_dates=[\"datetime\"])\n",
      "/tmp/ipykernel_63363/3078811834.py:14: FutureWarning: The behavior of DataFrame concatenation with empty or all-NA entries is deprecated. In a future version, this will no longer exclude empty or all-NA columns when determining the result dtypes. To retain the old behavior, exclude the relevant entries before the concat operation.\n",
      "  AIS = pd.concat(dataframes, ignore_index=True)\n"
     ]
    }
   ],
   "execution_count": 5
  },
  {
   "metadata": {
    "ExecuteTime": {
     "end_time": "2025-05-21T14:40:46.277367Z",
     "start_time": "2025-05-21T14:40:36.435459Z"
    }
   },
   "cell_type": "code",
   "source": [
    "## Remove incoherent data\n",
    "# Datetime duplicates\n",
    "AIS.drop_duplicates(subset=[\"mmsi\", \"datetime\"], inplace=True)\n",
    "\n",
    "# Remove several lengths or widths for one mmsi\n",
    "mmsi_multi_length = AIS.groupby(\"mmsi\")[\"length\"].nunique()\n",
    "mmsi_multi_width = AIS.groupby(\"mmsi\")[\"width\"].nunique()\n",
    "\n",
    "mmsi_invalid = mmsi_multi_length[mmsi_multi_length > 1].index.union(\n",
    "    mmsi_multi_width[mmsi_multi_width > 1].index\n",
    ")\n",
    "\n",
    "AIS = AIS[~AIS[\"mmsi\"].isin(mmsi_invalid)].copy()"
   ],
   "id": "549df128fae5751",
   "outputs": [],
   "execution_count": 6
  },
  {
   "metadata": {
    "ExecuteTime": {
     "end_time": "2025-05-21T14:42:45.564813Z",
     "start_time": "2025-05-21T14:40:48.708754Z"
    }
   },
   "cell_type": "code",
   "source": [
    "## NaN values\n",
    "# Replace NaN in length, width and draught columns by the known values for each mmsi\n",
    "mmsi_length_map = AIS.groupby(\"mmsi\")[\"length\"].first()\n",
    "mmsi_width_map = AIS.groupby(\"mmsi\")[\"width\"].first()\n",
    "mmsi_draught_map = AIS.groupby(\"mmsi\")[\"draught\"].first()\n",
    "\n",
    "AIS[\"length\"] = AIS.apply(\n",
    "    lambda row: mmsi_length_map[row[\"mmsi\"]] if pd.isna(row[\"length\"]) else row[\"length\"], axis=1\n",
    ")\n",
    "AIS[\"width\"] = AIS.apply(\n",
    "    lambda row: mmsi_width_map[row[\"mmsi\"]] if pd.isna(row[\"width\"]) else row[\"width\"], axis=1\n",
    ")\n",
    "AIS[\"draught\"] = AIS.apply(\n",
    "    lambda row: mmsi_draught_map[row[\"mmsi\"]] if pd.isna(row[\"draught\"]) else row[\"draught\"], axis=1\n",
    ")\n",
    "\n",
    "# Remove mmsi with no values for length or width\n",
    "mmsi_with_length = AIS.groupby(\"mmsi\")[\"length\"].apply(lambda x: x.notna().any())\n",
    "mmsi_with_width = AIS.groupby(\"mmsi\")[\"width\"].apply(lambda x: x.notna().any())\n",
    "valid_mmsi = mmsi_with_length & mmsi_with_width\n",
    "AIS = AIS[AIS[\"mmsi\"].isin(valid_mmsi[valid_mmsi].index)].copy()"
   ],
   "id": "6c10b3b550f0dbdb",
   "outputs": [],
   "execution_count": 7
  },
  {
   "metadata": {
    "ExecuteTime": {
     "end_time": "2025-05-21T14:42:51.490802Z",
     "start_time": "2025-05-21T14:42:50.414531Z"
    }
   },
   "cell_type": "code",
   "source": [
    "## Save dataset as pkl\n",
    "# Sort by datetime\n",
    "AIS.sort_values(by=\"datetime\", inplace=True)\n",
    "\n",
    "# Reset index\n",
    "AIS.reset_index(drop=True, inplace=True)\n",
    "\n",
    "# Save dataframe as pkl\n",
    "AIS.to_pickle(output_dir)"
   ],
   "id": "d8fc7e23c5bbd13c",
   "outputs": [],
   "execution_count": 8
  },
  {
   "metadata": {},
   "cell_type": "code",
   "outputs": [],
   "execution_count": null,
   "source": "#### Data Verification ####",
   "id": "d4c11e38c9040a45"
  },
  {
   "metadata": {
    "ExecuteTime": {
     "end_time": "2025-05-21T14:42:59.859383Z",
     "start_time": "2025-05-21T14:42:57.167835Z"
    }
   },
   "cell_type": "code",
   "source": [
    "# AIS dataframe verification\n",
    "# Datetime duplicates\n",
    "duplicate_mmsi_datetime = AIS.duplicated(subset=[\"mmsi\", \"datetime\"]).sum()\n",
    "print(f\"Duplicates mmsi + datetime: {duplicate_mmsi_datetime}\")\n",
    "\n",
    "# Mmsi with different length / width\n",
    "nb_multi_length = AIS.groupby(\"mmsi\")[\"length\"].nunique()\n",
    "nb_multi_length = nb_multi_length[nb_multi_length > 1].index\n",
    "\n",
    "nb_multi_width = AIS.groupby(\"mmsi\")[\"width\"].nunique()\n",
    "nb_multi_width = nb_multi_width[nb_multi_width > 1].index\n",
    "\n",
    "nb_multi_both = nb_multi_length.intersection(nb_multi_width)\n",
    "\n",
    "print(f\"mmsi with multiple length: {len(nb_multi_length)}\")\n",
    "print(f\"mmsi with multiple width: {len(nb_multi_width)}\")\n",
    "print(f\"mmsi with multiple both: {len(nb_multi_both)}\")\n"
   ],
   "id": "3fdb993d9ec0b717",
   "outputs": [
    {
     "name": "stdout",
     "output_type": "stream",
     "text": [
      "Duplicates mmsi + datetime: 0\n",
      "mmsi with multiple length: 0\n",
      "mmsi with multiple width: 0\n",
      "mmsi with multiple both: 0\n"
     ]
    }
   ],
   "execution_count": 9
  },
  {
   "metadata": {
    "ExecuteTime": {
     "end_time": "2025-05-21T14:43:04.082499Z",
     "start_time": "2025-05-21T14:43:03.545987Z"
    }
   },
   "cell_type": "code",
   "source": [
    "# Nan values\n",
    "# Number of nan values\n",
    "total_nan =  AIS.isna().sum().sum()\n",
    "print(f\"Total nan values: {total_nan}\")\n",
    "\n",
    "# Columns corresponding\n",
    "na_per_column = AIS.isna().sum()\n",
    "print(\"Columns corresponding\")\n",
    "print(f\"{na_per_column}\")\n",
    "\n",
    "# Number of boats without dimension\n",
    "mmsi_no_dim = AIS[AIS[\"length\"].isna() & AIS[\"width\"].isna()][\"mmsi\"].unique()\n",
    "print(f\"Number of boats without dimension: {len(mmsi_no_dim)}\")"
   ],
   "id": "c1c8958b6811f5c0",
   "outputs": [
    {
     "name": "stdout",
     "output_type": "stream",
     "text": [
      "Total nan values: 215109\n",
      "Columns corresponding\n",
      "mmsi             0\n",
      "datetime         0\n",
      "lon              0\n",
      "lat              0\n",
      "sog              0\n",
      "cog              0\n",
      "draught     215109\n",
      "length           0\n",
      "width            0\n",
      "dtype: int64\n",
      "Number of boats without dimension: 0\n"
     ]
    }
   ],
   "execution_count": 10
  },
  {
   "metadata": {
    "ExecuteTime": {
     "end_time": "2025-05-21T14:43:13.775316Z",
     "start_time": "2025-05-21T14:43:12.652476Z"
    }
   },
   "cell_type": "code",
   "source": [
    "length_counts = AIS.groupby(\"mmsi\")[\"length\"].nunique()\n",
    "width_counts = AIS.groupby(\"mmsi\")[\"width\"].nunique()\n",
    "\n",
    "mmsi_valid = length_counts[(length_counts == 1) & (width_counts == 1)].index\n",
    "mmsi_invalid = length_counts[(length_counts > 1) & (width_counts > 1)].index\n",
    "mmsi_missing = length_counts[length_counts == 0].index\n",
    "tot_boat = AIS[\"mmsi\"].nunique()\n",
    "tot_mmsi = len(mmsi_valid) + len(mmsi_invalid) + len(mmsi_missing)\n",
    "\n",
    "print(f\"mmsi avec une seule valeur de longueur et largeur: {len(mmsi_valid)}\")\n",
    "print(f\"mmsi avec plusieurs valeurs de longueurs ou largeurs: {len(mmsi_invalid)}\")\n",
    "print(f\"mmsi sans valeurs renseignées: {len(mmsi_missing)}\")\n",
    "print(f\"Total number of boats (mmsi): {tot_boat}\")\n",
    "print(tot_mmsi)"
   ],
   "id": "9493114bbae66394",
   "outputs": [
    {
     "name": "stdout",
     "output_type": "stream",
     "text": [
      "mmsi avec une seule valeur de longueur et largeur: 6352\n",
      "mmsi avec plusieurs valeurs de longueurs ou largeurs: 0\n",
      "mmsi sans valeurs renseignées: 0\n",
      "Total number of boats (mmsi): 6352\n",
      "6352\n"
     ]
    }
   ],
   "execution_count": 11
  },
  {
   "metadata": {
    "ExecuteTime": {
     "end_time": "2025-05-21T14:27:26.086232Z",
     "start_time": "2025-05-21T14:27:25.995281Z"
    }
   },
   "cell_type": "code",
   "source": [
    "# csv dataset : mmsi without length or width\n",
    "out_path = \"../../../archives/AIS/df_no_dim_2.csv\"\n",
    "\n",
    "df_no_dim = AIS[AIS[\"length\"].isna() & AIS[\"width\"].isna()]\n",
    "\n",
    "df_mmsi_no_dim = df_no_dim[[\"mmsi\", \"sog\", \"length\", \"width\", \"draught\"]]\n",
    "\n",
    "pd.DataFrame(df_mmsi_no_dim).to_csv(out_path, index=False)\n",
    "\n",
    "# df_no_dim.to_csv(out_path, index=False)"
   ],
   "id": "dd6fb5df4d3d0c7c",
   "outputs": [],
   "execution_count": 19
  },
  {
   "metadata": {},
   "cell_type": "code",
   "source": [
    "out_path = \"../../../archives/AIS/mmsi_no_dim_csv.csv\"\n",
    "mmsi_no_dim_df = AIS[AIS[\"length\"].isna() & AIS[\"width\"].isna()]\n",
    "mmsi_no_dim_df.to_csv(out_path, index=False)"
   ],
   "id": "89e138a22040e39c",
   "outputs": [],
   "execution_count": null
  }
 ],
 "metadata": {
  "kernelspec": {
   "display_name": "Python 3",
   "language": "python",
   "name": "python3"
  },
  "language_info": {
   "codemirror_mode": {
    "name": "ipython",
    "version": 2
   },
   "file_extension": ".py",
   "mimetype": "text/x-python",
   "name": "python",
   "nbconvert_exporter": "python",
   "pygments_lexer": "ipython2",
   "version": "2.7.6"
  }
 },
 "nbformat": 4,
 "nbformat_minor": 5
}
