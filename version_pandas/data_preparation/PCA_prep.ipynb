{
 "cells": [
  {
   "metadata": {
    "ExecuteTime": {
     "end_time": "2025-06-02T08:29:52.233757Z",
     "start_time": "2025-06-02T08:29:52.232088Z"
    }
   },
   "cell_type": "code",
   "source": [
    "import pandas as pd\n",
    "import os"
   ],
   "id": "d6554b54f565004e",
   "outputs": [],
   "execution_count": 1
  },
  {
   "metadata": {
    "ExecuteTime": {
     "end_time": "2025-06-02T08:29:52.307792Z",
     "start_time": "2025-06-02T08:29:52.305795Z"
    }
   },
   "cell_type": "code",
   "source": [
    "variable_dir = \"../../../../data/test_correlation/data_soundscape\"\n",
    "output_dir = \"../../../../data/test_correlation/PCA/PCA.pkl\""
   ],
   "id": "initial_id",
   "outputs": [],
   "execution_count": 2
  },
  {
   "metadata": {
    "ExecuteTime": {
     "end_time": "2025-06-02T08:29:52.392601Z",
     "start_time": "2025-06-02T08:29:52.354719Z"
    }
   },
   "cell_type": "code",
   "source": [
    "# Define MAHY campaigns date range (so that current_speed and other variables match)\n",
    "date_min = pd.to_datetime(\"2020-10-13\")\n",
    "date_max = pd.to_datetime(\"2024-09-27\")\n",
    "\n",
    "# Name of variables\n",
    "variables = [\n",
    "    \"wind_speed\",\n",
    "    \"current_speed\",\n",
    "    \"total_precipitation\",\n",
    "    \"wave_height\",\n",
    "    \"wave_period\"\n",
    "]\n",
    "\n",
    "daily_dfs = {}\n",
    "\n",
    "for var in variables:\n",
    "    file_path = os.path.join(variable_dir, var, \"h2.pkl\") # h2 is the hydrophone with best correlations to sound\n",
    "\n",
    "    df = pd.read_pickle(file_path)\n",
    "\n",
    "    df.index = pd.to_datetime(df.index)\n",
    "\n",
    "    if var!= \"current_speed\":\n",
    "        if var == \"total_precipitation\":\n",
    "            df = df.resample(\"D\").mean() # Mean filter for total precipitation is more meaningful\n",
    "        else:\n",
    "            df = df.resample(\"D\").median()\n",
    "\n",
    "\n",
    "    # Restrict dataframe to MAHY date range\n",
    "    df = df[(df.index >= date_min) & (df.index <= date_max)]\n",
    "\n",
    "    # Rename column\n",
    "    df.columns = [var]\n",
    "\n",
    "    # Store data\n",
    "    daily_dfs[var] = df\n",
    "\n",
    "# Merge all variables on the date index\n",
    "df_final = pd.concat(daily_dfs.values(), axis=1)\n",
    "\n",
    "# Sort and save\n",
    "df_final.sort_index(inplace=True)\n",
    "df_final.to_pickle(output_dir)"
   ],
   "id": "30dd1f63aa659db6",
   "outputs": [],
   "execution_count": 3
  },
  {
   "metadata": {
    "ExecuteTime": {
     "end_time": "2025-06-02T08:29:52.411087Z",
     "start_time": "2025-06-02T08:29:52.406982Z"
    }
   },
   "cell_type": "code",
   "source": "print(df_final.head())",
   "id": "fe72c0c8bbcaaccc",
   "outputs": [
    {
     "name": "stdout",
     "output_type": "stream",
     "text": [
      "            wind_speed  current_speed  total_precipitation  wave_height  \\\n",
      "2020-10-13    2.507703       0.121684             0.000190     0.803816   \n",
      "2020-10-14    5.274800       0.123749             0.000440     1.099759   \n",
      "2020-10-15    2.550296       0.143577             0.000006     0.936439   \n",
      "2020-10-16    2.283948       0.138994             0.000029     1.107630   \n",
      "2020-10-17    2.886081       0.154113             0.000050     1.074547   \n",
      "\n",
      "            wave_period  \n",
      "2020-10-13     6.389330  \n",
      "2020-10-14     6.067352  \n",
      "2020-10-15     6.712574  \n",
      "2020-10-16     9.223223  \n",
      "2020-10-17     8.870979  \n"
     ]
    }
   ],
   "execution_count": 4
  }
 ],
 "metadata": {
  "kernelspec": {
   "display_name": "Python 3",
   "language": "python",
   "name": "python3"
  },
  "language_info": {
   "codemirror_mode": {
    "name": "ipython",
    "version": 2
   },
   "file_extension": ".py",
   "mimetype": "text/x-python",
   "name": "python",
   "nbconvert_exporter": "python",
   "pygments_lexer": "ipython2",
   "version": "2.7.6"
  }
 },
 "nbformat": 4,
 "nbformat_minor": 5
}
