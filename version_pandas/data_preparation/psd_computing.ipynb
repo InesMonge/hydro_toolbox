{
 "cells": [
  {
   "cell_type": "code",
   "id": "initial_id",
   "metadata": {
    "collapsed": true,
    "ExecuteTime": {
     "end_time": "2025-05-05T17:05:18.549414Z",
     "start_time": "2025-05-05T17:05:17.979605Z"
    }
   },
   "source": [
    "import pandas as pd\n",
    "import sys\n",
    "import datetime\n",
    "from tqdm.notebook import tqdm\n",
    "from scipy import signal\n",
    "import os\n",
    "from pathlib import Path\n",
    "from utils.data_reading.sound_data.station import StationsCatalog"
   ],
   "outputs": [],
   "execution_count": 1
  },
  {
   "metadata": {
    "ExecuteTime": {
     "end_time": "2025-05-05T17:05:18.665765Z",
     "start_time": "2025-05-05T17:05:18.625126Z"
    }
   },
   "cell_type": "code",
   "source": [
    "catalog_path = \"/media/imonge/CORSAIR\"\n",
    "output_dir = \"../../../../data/test_correlation/data_mahy\"\n",
    "stations = StationsCatalog(catalog_path)"
   ],
   "id": "f999c5eb848ae398",
   "outputs": [],
   "execution_count": 2
  },
  {
   "metadata": {
    "ExecuteTime": {
     "end_time": "2025-05-05T23:02:33.410199Z",
     "start_time": "2025-05-05T17:05:18.677972Z"
    }
   },
   "cell_type": "code",
   "source": [
    "step = datetime.timedelta(hours=1)\n",
    "\n",
    "for station in stations:\n",
    "    out_path = os.path.join(output_dir, f\"{station.name}.pkl\")\n",
    "    if Path(out_path).exists():\n",
    "        continue\n",
    "\n",
    "    date_start = station.date_start + 3*step/2\n",
    "    date_start = datetime.datetime(date_start.year, date_start.month, date_start.day, date_start.hour) - step/2  # on commence à la première demi-heure juste\n",
    "    date_end = station.date_end\n",
    "\n",
    "    # acoustic data\n",
    "    manager = station.get_manager()\n",
    "    n_steps = int((date_end-date_start)/step)\n",
    "    psds = []\n",
    "    dates = []\n",
    "    for i in tqdm(range(n_steps), file=sys.stdout):\n",
    "        segment_start = date_start + i * step\n",
    "        segment_end = date_start + (i+1) * step\n",
    "        dates.append(date_start + (i+0.5) * step)\n",
    "\n",
    "        data = manager.get_segment(segment_start, segment_end)\n",
    "        psd_frequencies, psd = signal.welch(data, fs=240, nperseg=1024)\n",
    "        psds.append(psd)\n",
    "\n",
    "    df = pd.DataFrame(psds, index=dates, columns=psd_frequencies)\n",
    "    df.to_pickle(out_path)"
   ],
   "id": "84536b526fb70704",
   "outputs": [
    {
     "data": {
      "text/plain": [
       "  0%|          | 0/4226 [00:00<?, ?it/s]"
      ],
      "application/vnd.jupyter.widget-view+json": {
       "version_major": 2,
       "version_minor": 0,
       "model_id": "505948bded5e46a08fc87990af0f4eec"
      }
     },
     "metadata": {},
     "output_type": "display_data"
    },
    {
     "data": {
      "text/plain": [
       "  0%|          | 0/4281 [00:00<?, ?it/s]"
      ],
      "application/vnd.jupyter.widget-view+json": {
       "version_major": 2,
       "version_minor": 0,
       "model_id": "5a87bbc97d6c4d0c8372f796b3914348"
      }
     },
     "metadata": {},
     "output_type": "display_data"
    },
    {
     "data": {
      "text/plain": [
       "  0%|          | 0/4220 [00:00<?, ?it/s]"
      ],
      "application/vnd.jupyter.widget-view+json": {
       "version_major": 2,
       "version_minor": 0,
       "model_id": "a5460f451e494688a7736df3dc9d977d"
      }
     },
     "metadata": {},
     "output_type": "display_data"
    },
    {
     "data": {
      "text/plain": [
       "  0%|          | 0/4333 [00:00<?, ?it/s]"
      ],
      "application/vnd.jupyter.widget-view+json": {
       "version_major": 2,
       "version_minor": 0,
       "model_id": "e80fb0916e2f4c158fbb8b6e4d279c46"
      }
     },
     "metadata": {},
     "output_type": "display_data"
    },
    {
     "data": {
      "text/plain": [
       "  0%|          | 0/3261 [00:00<?, ?it/s]"
      ],
      "application/vnd.jupyter.widget-view+json": {
       "version_major": 2,
       "version_minor": 0,
       "model_id": "911b14f754f84fec8bc1d492939a1a85"
      }
     },
     "metadata": {},
     "output_type": "display_data"
    },
    {
     "data": {
      "text/plain": [
       "  0%|          | 0/2950 [00:00<?, ?it/s]"
      ],
      "application/vnd.jupyter.widget-view+json": {
       "version_major": 2,
       "version_minor": 0,
       "model_id": "179f1d2a92364518bc5a15daa0958d9d"
      }
     },
     "metadata": {},
     "output_type": "display_data"
    },
    {
     "data": {
      "text/plain": [
       "  0%|          | 0/3880 [00:00<?, ?it/s]"
      ],
      "application/vnd.jupyter.widget-view+json": {
       "version_major": 2,
       "version_minor": 0,
       "model_id": "123d77b5c448439dbe24967481e2c22a"
      }
     },
     "metadata": {},
     "output_type": "display_data"
    },
    {
     "data": {
      "text/plain": [
       "  0%|          | 0/3934 [00:00<?, ?it/s]"
      ],
      "application/vnd.jupyter.widget-view+json": {
       "version_major": 2,
       "version_minor": 0,
       "model_id": "60817dd7095a451cbdd2e74e7cfd3c7b"
      }
     },
     "metadata": {},
     "output_type": "display_data"
    },
    {
     "data": {
      "text/plain": [
       "  0%|          | 0/7057 [00:00<?, ?it/s]"
      ],
      "application/vnd.jupyter.widget-view+json": {
       "version_major": 2,
       "version_minor": 0,
       "model_id": "29cd879bf02a4e63b24504f55a9b51e3"
      }
     },
     "metadata": {},
     "output_type": "display_data"
    },
    {
     "data": {
      "text/plain": [
       "  0%|          | 0/6989 [00:00<?, ?it/s]"
      ],
      "application/vnd.jupyter.widget-view+json": {
       "version_major": 2,
       "version_minor": 0,
       "model_id": "29132aeef8a041ebaeb200704524aaf2"
      }
     },
     "metadata": {},
     "output_type": "display_data"
    },
    {
     "data": {
      "text/plain": [
       "  0%|          | 0/7250 [00:00<?, ?it/s]"
      ],
      "application/vnd.jupyter.widget-view+json": {
       "version_major": 2,
       "version_minor": 0,
       "model_id": "845bc169bc7046bb9c7666fb2d824410"
      }
     },
     "metadata": {},
     "output_type": "display_data"
    },
    {
     "data": {
      "text/plain": [
       "  0%|          | 0/10391 [00:00<?, ?it/s]"
      ],
      "application/vnd.jupyter.widget-view+json": {
       "version_major": 2,
       "version_minor": 0,
       "model_id": "400ea47665434ad9a8fd9ccfc345a9ef"
      }
     },
     "metadata": {},
     "output_type": "display_data"
    },
    {
     "data": {
      "text/plain": [
       "  0%|          | 0/10281 [00:00<?, ?it/s]"
      ],
      "application/vnd.jupyter.widget-view+json": {
       "version_major": 2,
       "version_minor": 0,
       "model_id": "7a9de7fa81464a5c8f32c7ea4334c4c2"
      }
     },
     "metadata": {},
     "output_type": "display_data"
    },
    {
     "data": {
      "text/plain": [
       "  0%|          | 0/7902 [00:00<?, ?it/s]"
      ],
      "application/vnd.jupyter.widget-view+json": {
       "version_major": 2,
       "version_minor": 0,
       "model_id": "485879ac20a24777a66da2cc248327fa"
      }
     },
     "metadata": {},
     "output_type": "display_data"
    },
    {
     "data": {
      "text/plain": [
       "  0%|          | 0/10468 [00:00<?, ?it/s]"
      ],
      "application/vnd.jupyter.widget-view+json": {
       "version_major": 2,
       "version_minor": 0,
       "model_id": "da20a9dee9024634aaec70799d4eec89"
      }
     },
     "metadata": {},
     "output_type": "display_data"
    },
    {
     "data": {
      "text/plain": [
       "  0%|          | 0/8928 [00:00<?, ?it/s]"
      ],
      "application/vnd.jupyter.widget-view+json": {
       "version_major": 2,
       "version_minor": 0,
       "model_id": "ba188725988f45f5b50fefdcd659d731"
      }
     },
     "metadata": {},
     "output_type": "display_data"
    },
    {
     "data": {
      "text/plain": [
       "  0%|          | 0/6970 [00:00<?, ?it/s]"
      ],
      "application/vnd.jupyter.widget-view+json": {
       "version_major": 2,
       "version_minor": 0,
       "model_id": "cce57e7666be4ce3a298c4bbc718ccba"
      }
     },
     "metadata": {},
     "output_type": "display_data"
    },
    {
     "data": {
      "text/plain": [
       "  0%|          | 0/8923 [00:00<?, ?it/s]"
      ],
      "application/vnd.jupyter.widget-view+json": {
       "version_major": 2,
       "version_minor": 0,
       "model_id": "598fd502385e48e29610e8b132700bba"
      }
     },
     "metadata": {},
     "output_type": "display_data"
    },
    {
     "data": {
      "text/plain": [
       "  0%|          | 0/9109 [00:00<?, ?it/s]"
      ],
      "application/vnd.jupyter.widget-view+json": {
       "version_major": 2,
       "version_minor": 0,
       "model_id": "691fd4c73b334a179db9b574011f860f"
      }
     },
     "metadata": {},
     "output_type": "display_data"
    }
   ],
   "execution_count": 3
  },
  {
   "metadata": {
    "ExecuteTime": {
     "end_time": "2025-05-05T23:02:33.444844Z",
     "start_time": "2025-05-05T23:02:33.443222Z"
    }
   },
   "cell_type": "code",
   "source": "",
   "id": "83d06cacab041127",
   "outputs": [],
   "execution_count": null
  }
 ],
 "metadata": {
  "kernelspec": {
   "display_name": "Python 3",
   "language": "python",
   "name": "python3"
  },
  "language_info": {
   "codemirror_mode": {
    "name": "ipython",
    "version": 2
   },
   "file_extension": ".py",
   "mimetype": "text/x-python",
   "name": "python",
   "nbconvert_exporter": "python",
   "pygments_lexer": "ipython2",
   "version": "2.7.6"
  }
 },
 "nbformat": 4,
 "nbformat_minor": 5
}
