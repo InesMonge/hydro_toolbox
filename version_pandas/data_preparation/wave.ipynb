{
 "cells": [
  {
   "cell_type": "code",
   "id": "initial_id",
   "metadata": {
    "collapsed": true,
    "ExecuteTime": {
     "end_time": "2025-05-05T17:05:04.121010Z",
     "start_time": "2025-05-05T17:05:04.118926Z"
    }
   },
   "source": [
    "import numpy as np\n",
    "import os\n",
    "import pandas as pd\n",
    "import xarray as xr\n",
    "from pathlib import Path\n",
    "from utils.data_reading.sound_data.station import StationsCatalog"
   ],
   "outputs": [],
   "execution_count": 15
  },
  {
   "metadata": {
    "ExecuteTime": {
     "end_time": "2025-05-05T17:05:04.208354Z",
     "start_time": "2025-05-05T17:05:04.172983Z"
    }
   },
   "cell_type": "code",
   "source": [
    "catalog_path = \"/media/imonge/CORSAIR\"\n",
    "ERA5_dir = \"../../../../data/test_correlation/ERA5_concat\"\n",
    "output_dir = \"../../../../data/test_correlation/data_soundscape/combined_wave_index\"\n",
    "stations = StationsCatalog(catalog_path)"
   ],
   "id": "af6c3cabfe19d56f",
   "outputs": [],
   "execution_count": 16
  },
  {
   "metadata": {
    "ExecuteTime": {
     "end_time": "2025-05-05T17:05:04.318175Z",
     "start_time": "2025-05-05T17:05:04.223931Z"
    }
   },
   "cell_type": "code",
   "source": [
    "for station in stations:\n",
    "    hydro_number = station.name[-1]\n",
    "    station_code = f\"h{hydro_number}\"\n",
    "    out_path = os.path.join(output_dir, f\"{station_code}.pkl\")\n",
    "    if Path(out_path).exists():\n",
    "        continue\n",
    "\n",
    "    date_start = station.date_start\n",
    "    date_end = station.date_end\n",
    "\n",
    "    ERA5_input_path = os.path.join(ERA5_dir, f\"ERA5_MAHY*{hydro_number}_waves_merged.nc\")\n",
    "    data = xr.open_dataset(ERA5_input_path)\n",
    "\n",
    "    t = pd.to_datetime(data[\"valid_time\"].values)\n",
    "\n",
    "    swh = np.array(data[\"swh\"]).flatten()\n",
    "    mwp = np.array(data[\"mwp\"]).flatten()\n",
    "\n",
    "    combined_wave_index = swh * mwp\n",
    "\n",
    "    df = pd.DataFrame({'values': combined_wave_index}, index=t)\n",
    "\n",
    "    df.to_pickle(out_path)"
   ],
   "id": "a9ac1381ac63be82",
   "outputs": [],
   "execution_count": 17
  }
 ],
 "metadata": {
  "kernelspec": {
   "display_name": "Python 3",
   "language": "python",
   "name": "python3"
  },
  "language_info": {
   "codemirror_mode": {
    "name": "ipython",
    "version": 2
   },
   "file_extension": ".py",
   "mimetype": "text/x-python",
   "name": "python",
   "nbconvert_exporter": "python",
   "pygments_lexer": "ipython2",
   "version": "2.7.6"
  }
 },
 "nbformat": 4,
 "nbformat_minor": 5
}
